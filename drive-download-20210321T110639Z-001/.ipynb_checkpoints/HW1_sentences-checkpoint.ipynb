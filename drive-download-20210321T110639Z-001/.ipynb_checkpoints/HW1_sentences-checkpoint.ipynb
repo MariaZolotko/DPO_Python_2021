{
 "cells": [
  {
   "cell_type": "code",
   "execution_count": 54,
   "metadata": {},
   "outputs": [],
   "source": [
    "import pandas as pd"
   ]
  },
  {
   "cell_type": "code",
   "execution_count": 63,
   "metadata": {},
   "outputs": [],
   "source": [
    "x=pd.read_table('sentences.txt',header=None,sep='\\n')"
   ]
  },
  {
   "cell_type": "code",
   "execution_count": 64,
   "metadata": {},
   "outputs": [
    {
     "name": "stdout",
     "output_type": "stream",
     "text": [
      "                                                    0\n",
      "0   In comparison to dogs, cats have not undergone...\n",
      "1   As cat simply catenates streams of bytes, it c...\n",
      "2   A common interactive use of cat for a single f...\n",
      "3   Cats can hear sounds too faint or too high in ...\n",
      "4   In one, people deliberately tamed cats in a pr...\n",
      "5   The domesticated cat and its closest wild ance...\n",
      "6   Domestic cats are similar in size to the other...\n",
      "7   However, if the output is piped or redirected,...\n",
      "8   cat with one named file is safer where human e...\n",
      "9   In terms of legibility, a sequence of commands...\n",
      "10  Cat command is one of the basic commands that ...\n",
      "11  Using cat command, the lines received from std...\n",
      "12  When you type simply cat command without any a...\n",
      "13  Leopard was released on October 26, 2007 as th...\n",
      "14  According to Apple, Leopard contains over 300 ...\n",
      "15  As of Mid 2010, some Apple computers have firm...\n",
      "16  Since Apple moved to using Intel processors in...\n",
      "17  OS X Mountain Lion was released on July 25, 20...\n",
      "18  Apple has released a small patch for the three...\n",
      "19  The Mountain Lion release marks the second tim...\n",
      "20  Mac OS X Mountain Lion installs in place, so y...\n",
      "21  The fifth major update to Mac OS X, Leopard, c...\n"
     ]
    }
   ],
   "source": [
    "print(x)"
   ]
  },
  {
   "cell_type": "code",
   "execution_count": 66,
   "metadata": {},
   "outputs": [],
   "source": [
    "x.columns = ['text']"
   ]
  },
  {
   "cell_type": "code",
   "execution_count": 67,
   "metadata": {},
   "outputs": [],
   "source": [
    "x['text']=x['text'].str.lower()"
   ]
  },
  {
   "cell_type": "code",
   "execution_count": 68,
   "metadata": {},
   "outputs": [
    {
     "name": "stdout",
     "output_type": "stream",
     "text": [
      "                                                 text\n",
      "0   in comparison to dogs, cats have not undergone...\n",
      "1   as cat simply catenates streams of bytes, it c...\n",
      "2   a common interactive use of cat for a single f...\n",
      "3   cats can hear sounds too faint or too high in ...\n",
      "4   in one, people deliberately tamed cats in a pr...\n",
      "5   the domesticated cat and its closest wild ance...\n",
      "6   domestic cats are similar in size to the other...\n",
      "7   however, if the output is piped or redirected,...\n",
      "8   cat with one named file is safer where human e...\n",
      "9   in terms of legibility, a sequence of commands...\n",
      "10  cat command is one of the basic commands that ...\n",
      "11  using cat command, the lines received from std...\n",
      "12  when you type simply cat command without any a...\n",
      "13  leopard was released on october 26, 2007 as th...\n",
      "14  according to apple, leopard contains over 300 ...\n",
      "15  as of mid 2010, some apple computers have firm...\n",
      "16  since apple moved to using intel processors in...\n",
      "17  os x mountain lion was released on july 25, 20...\n",
      "18  apple has released a small patch for the three...\n",
      "19  the mountain lion release marks the second tim...\n",
      "20  mac os x mountain lion installs in place, so y...\n",
      "21  the fifth major update to mac os x, leopard, c...\n"
     ]
    }
   ],
   "source": [
    "print(x)"
   ]
  },
  {
   "cell_type": "code",
   "execution_count": 51,
   "metadata": {},
   "outputs": [
    {
     "data": {
      "text/plain": [
       "pandas.core.frame.DataFrame"
      ]
     },
     "execution_count": 51,
     "metadata": {},
     "output_type": "execute_result"
    }
   ],
   "source": [
    "type(x)"
   ]
  },
  {
   "cell_type": "code",
   "execution_count": 71,
   "metadata": {},
   "outputs": [],
   "source": [
    "XToList = x['text'].tolist()"
   ]
  },
  {
   "cell_type": "code",
   "execution_count": 73,
   "metadata": {},
   "outputs": [
    {
     "data": {
      "text/plain": [
       "list"
      ]
     },
     "execution_count": 73,
     "metadata": {},
     "output_type": "execute_result"
    }
   ],
   "source": [
    "type(XToList)"
   ]
  },
  {
   "cell_type": "code",
   "execution_count": 72,
   "metadata": {},
   "outputs": [
    {
     "ename": "AttributeError",
     "evalue": "'list' object has no attribute 'split'",
     "output_type": "error",
     "traceback": [
      "\u001b[1;31m---------------------------------------------------------------------------\u001b[0m",
      "\u001b[1;31mAttributeError\u001b[0m                            Traceback (most recent call last)",
      "\u001b[1;32m<ipython-input-72-8f2dc2f25d33>\u001b[0m in \u001b[0;36m<module>\u001b[1;34m\u001b[0m\n\u001b[1;32m----> 1\u001b[1;33m \u001b[0mXToList\u001b[0m\u001b[1;33m.\u001b[0m\u001b[0msplit\u001b[0m\u001b[1;33m(\u001b[0m\u001b[1;34m'[^a-z]'\u001b[0m\u001b[1;33m,\u001b[0m \u001b[0mt\u001b[0m\u001b[1;33m)\u001b[0m\u001b[1;33m\u001b[0m\u001b[1;33m\u001b[0m\u001b[0m\n\u001b[0m",
      "\u001b[1;31mAttributeError\u001b[0m: 'list' object has no attribute 'split'"
     ]
    }
   ],
   "source": [
    "XToList.split('[^a-z]', t)"
   ]
  },
  {
   "cell_type": "code",
   "execution_count": 3,
   "metadata": {},
   "outputs": [],
   "source": [
    "file_obj=open('sentences.txt','r')"
   ]
  },
  {
   "cell_type": "code",
   "execution_count": 40,
   "metadata": {},
   "outputs": [],
   "source": [
    "file_obj.close()"
   ]
  },
  {
   "cell_type": "code",
   "execution_count": null,
   "metadata": {},
   "outputs": [],
   "source": []
  }
 ],
 "metadata": {
  "kernelspec": {
   "display_name": "Python 3",
   "language": "python",
   "name": "python3"
  },
  "language_info": {
   "codemirror_mode": {
    "name": "ipython",
    "version": 3
   },
   "file_extension": ".py",
   "mimetype": "text/x-python",
   "name": "python",
   "nbconvert_exporter": "python",
   "pygments_lexer": "ipython3",
   "version": "3.8.3"
  }
 },
 "nbformat": 4,
 "nbformat_minor": 4
}
