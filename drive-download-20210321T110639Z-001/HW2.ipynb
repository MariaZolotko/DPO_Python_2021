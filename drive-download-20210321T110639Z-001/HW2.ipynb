{
 "cells": [
  {
   "cell_type": "markdown",
   "metadata": {},
   "source": [
    "# Задача1"
   ]
  },
  {
   "cell_type": "code",
   "execution_count": 145,
   "metadata": {},
   "outputs": [],
   "source": [
    "import numpy as np\n",
    "import scipy as sp\n",
    "from matplotlib import pylab as plt"
   ]
  },
  {
   "cell_type": "code",
   "execution_count": 146,
   "metadata": {},
   "outputs": [],
   "source": [
    "def f(x):\n",
    "    return np.sin(x/5.0) * np.exp(x/10.0) + 5.0 * np.exp(-x/2.0)"
   ]
  },
  {
   "cell_type": "code",
   "execution_count": 147,
   "metadata": {},
   "outputs": [],
   "source": [
    "from scipy import optimize"
   ]
  },
  {
   "cell_type": "code",
   "execution_count": 148,
   "metadata": {},
   "outputs": [
    {
     "data": {
      "image/png": "[encoded data removed]",
      "text/plain": [
       "<Figure size 432x288 with 1 Axes>"
      ]
     },
     "metadata": {
      "needs_background": "light"
     },
     "output_type": "display_data"
    }
   ],
   "source": [
    "def f(x):\n",
    "    return np.sin(x/5.0) * np.exp(x/10.0) + 5.0 * np.exp(-x/2.0)\n",
    "x=np.arange(1.0, 30.1, 0.1)\n",
    "y=f(x)\n",
    "plt.plot(x,y)\n",
    "plt.show()"
   ]
  },
  {
   "cell_type": "code",
   "execution_count": 149,
   "metadata": {},
   "outputs": [
    {
     "name": "stdout",
     "output_type": "stream",
     "text": [
      "      fun: 1.7452682903429801\n",
      " hess_inv: array([[6.04856306]])\n",
      "      jac: array([1.90734863e-06])\n",
      "  message: 'Optimization terminated successfully.'\n",
      "     nfev: 26\n",
      "      nit: 3\n",
      "     njev: 13\n",
      "   status: 0\n",
      "  success: True\n",
      "        x: array([4.13630023])\n"
     ]
    }
   ],
   "source": [
    "print(optimize.minimize(f, 10.0))"
   ]
  },
  {
   "cell_type": "code",
   "execution_count": 150,
   "metadata": {},
   "outputs": [
    {
     "name": "stdout",
     "output_type": "stream",
     "text": [
      "1.75\n",
      "1.75\n"
     ]
    }
   ],
   "source": [
    "otvet1=optimize.minimize(f, 2.0, method='BFGS')\n",
    "print(otvet11)\n",
    "otvet11=round(optimize.OptimizeResult.get(otvet1, 'fun'),2)\n",
    "print(otvet11)"
   ]
  },
  {
   "cell_type": "code",
   "execution_count": 198,
   "metadata": {},
   "outputs": [
    {
     "name": "stdout",
     "output_type": "stream",
     "text": [
      "<class 'scipy.optimize.optimize.OptimizeResult'>\n",
      "      fun: -11.898894665981313\n",
      " hess_inv: array([[1.67936744]])\n",
      "      jac: array([0.])\n",
      "  message: 'Optimization terminated successfully.'\n",
      "     nfev: 14\n",
      "      nit: 6\n",
      "     njev: 7\n",
      "   status: 0\n",
      "  success: True\n",
      "        x: array([25.88019321])\n"
     ]
    }
   ],
   "source": [
    "otvet2=optimize.minimize(f, 30.0, method='BFGS')\n",
    "print(type(otvet2))\n",
    "print(otvet2)\n",
    "otvet21=round(optimize.OptimizeResult.get(otvet1, 'fun'),2)\n"
   ]
  },
  {
   "cell_type": "code",
   "execution_count": 197,
   "metadata": {},
   "outputs": [
    {
     "ename": "SyntaxError",
     "evalue": "unmatched ')' (<ipython-input-197-75adc463dc1f>, line 5)",
     "output_type": "error",
     "traceback": [
      "\u001b[1;36m  File \u001b[1;32m\"<ipython-input-197-75adc463dc1f>\"\u001b[1;36m, line \u001b[1;32m5\u001b[0m\n\u001b[1;33m    file_obj.writexstr)\u001b[0m\n\u001b[1;37m                      ^\u001b[0m\n\u001b[1;31mSyntaxError\u001b[0m\u001b[1;31m:\u001b[0m unmatched ')'\n"
     ]
    }
   ],
   "source": [
    "import re\n",
    "#запись строки в файл, открытый в режиме 'w'\n",
    "file_obj = open('submission1.txt', 'w')\n",
    "mystr=str(otvet11)+' '+str(otvet21)\n",
    "file_obj.writexstr)\n",
    "file_obj.close()"
   ]
  },
  {
   "cell_type": "markdown",
   "metadata": {},
   "source": [
    "# Задача2"
   ]
  },
  {
   "cell_type": "code",
   "execution_count": 200,
   "metadata": {},
   "outputs": [
    {
     "name": "stdout",
     "output_type": "stream",
     "text": [
      "[-11.9]\n"
     ]
    }
   ],
   "source": [
    "def f(x):\n",
    "    return np.sin(x/5.0) * np.exp(x/10.0) + 5.0 * np.exp(-x/2.0)\n",
    "\n",
    "bound=[(1,30)]\n",
    "\n",
    "otvet3=optimize.differential_evolution(f,bound)\n",
    "\n",
    "otvet31=np.round(optimize.OptimizeResult.get(otvet3, 'fun'),2)\n",
    "xstr=str(x.tolist()).strip('[]') \n",
    "print(otvet31)\n"
   ]
  },
  {
   "cell_type": "code",
   "execution_count": 201,
   "metadata": {},
   "outputs": [],
   "source": [
    "import re\n",
    "#запись строки в файл, открытый в режиме 'w'\n",
    "file_obj = open('submission2.txt', 'w')\n",
    "mystr=xstr=str(otvet31.tolist()).strip('[]')\n",
    "file_obj.write(mystr)\n",
    "file_obj.close()"
   ]
  },
  {
   "cell_type": "markdown",
   "metadata": {},
   "source": [
    "# Задача3"
   ]
  },
  {
   "cell_type": "code",
   "execution_count": 155,
   "metadata": {},
   "outputs": [
    {
     "data": {
      "image/png": "[encoded data removed]",
      "text/plain": [
       "<Figure size 432x288 with 1 Axes>"
      ]
     },
     "metadata": {
      "needs_background": "light"
     },
     "output_type": "display_data"
    }
   ],
   "source": [
    "import numpy as np\n",
    "import matplotlib.pyplot as plt\n",
    "\n",
    "def f(x):\n",
    "    return np.sin(x/5.0) * np.exp(x/10.0) + 5.0 * np.exp(-x/2.0)\n",
    "\n",
    "def h(x):\n",
    "    return list(map(int,f(x)))\n",
    "\n",
    "x=np.arange(1.0,31.0,1)\n",
    "a=f(x)\n",
    "b=h(x)\n",
    "\n",
    "\n",
    "plt.plot(x,a)\n",
    "plt.plot(x,b)\n",
    "plt.show()\n"
   ]
  },
  {
   "cell_type": "code",
   "execution_count": 167,
   "metadata": {},
   "outputs": [
    {
     "name": "stdout",
     "output_type": "stream",
     "text": [
      "<class 'function'>\n"
     ]
    }
   ],
   "source": [
    "\n",
    "def h(x):\n",
    "    return int(f(x))\n",
    "print(type(h))\n",
    "result3=optimize.minimize(h,30.0,method='BFGS')\n",
    "result31=round(optimize.OptimizeResult.get(result3, 'fun'),2)\n",
    "\n",
    "\n",
    "bound=[(1,30)]\n",
    "result32=optimize.differential_evolution(h,bound)\n",
    "result322=round(optimize.OptimizeResult.get(result32, 'fun'),2)\n"
   ]
  },
  {
   "cell_type": "code",
   "execution_count": 157,
   "metadata": {},
   "outputs": [],
   "source": [
    "import re\n",
    "#запись строки в файл, открытый в режиме 'w'\n",
    "file_obj = open('submission3.txt', 'w')\n",
    "mystr=str(result31)+' '+str(result322)\n",
    "file_obj.write(mystr)\n",
    "file_obj.close()"
   ]
  },
  {
   "cell_type": "code",
   "execution_count": null,
   "metadata": {},
   "outputs": [],
   "source": []
  }
 ],
 "metadata": {
  "kernelspec": {
   "display_name": "Python 3",
   "language": "python",
   "name": "python3"
  },
  "language_info": {
   "codemirror_mode": {
    "name": "ipython",
    "version": 3
   },
   "file_extension": ".py",
   "mimetype": "text/x-python",
   "name": "python",
   "nbconvert_exporter": "python",
   "pygments_lexer": "ipython3",
   "version": "3.8.3"
  }
 },
 "nbformat": 4,
 "nbformat_minor": 4
}
