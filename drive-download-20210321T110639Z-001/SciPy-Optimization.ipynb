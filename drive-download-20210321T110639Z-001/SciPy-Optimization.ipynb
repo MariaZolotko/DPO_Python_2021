{
 "cells": [
  {
   "cell_type": "markdown",
   "metadata": {},
   "source": [
    "# Решение оптимизационных задач в SciPy (Версия для Python 3)"
   ]
  },
  {
   "cell_type": "code",
   "execution_count": 1,
   "metadata": {},
   "outputs": [],
   "source": [
    "from scipy import optimize"
   ]
  },
  {
   "cell_type": "code",
   "execution_count": 16,
   "metadata": {},
   "outputs": [
    {
     "name": "stdout",
     "output_type": "stream",
     "text": [
      "0.0\n"
     ]
    }
   ],
   "source": [
    "def f(x):   # The rosenbrock function\n",
    "    return .5*(1 - x[0])**2 + (x[1] - x[0]**2)**2\n",
    "    \n",
    "print(f([1, 1]))"
   ]
  },
  {
   "cell_type": "code",
   "execution_count": 17,
   "metadata": {},
   "outputs": [
    {
     "name": "stdout",
     "output_type": "stream",
     "text": [
      "[0.99999324 1.00001283]\n"
     ]
    }
   ],
   "source": [
    "result = optimize.brute(f, ((-5, 5), (-5, 5)))\n",
    "print(result)"
   ]
  },
  {
   "cell_type": "code",
   "execution_count": 18,
   "metadata": {},
   "outputs": [
    {
     "name": "stdout",
     "output_type": "stream",
     "text": [
      "     fun: 7.395570986446986e-32\n",
      " message: 'Optimization terminated successfully.'\n",
      "    nfev: 3603\n",
      "     nit: 119\n",
      " success: True\n",
      "       x: array([1., 1.])\n"
     ]
    }
   ],
   "source": [
    "print(optimize.differential_evolution(f, ((-5, 5), (-5, 5))))"
   ]
  },
  {
   "cell_type": "code",
   "execution_count": 19,
   "metadata": {},
   "outputs": [],
   "source": [
    "import numpy as np\n",
    "\n",
    "def g(x):\n",
    "        return np.array((-2*.5*(1 - x[0]) - 4*x[0]*(x[1] - x[0]**2), 2*(x[1] - x[0]**2)))"
   ]
  },
  {
   "cell_type": "code",
   "execution_count": 11,
   "metadata": {},
   "outputs": [
    {
     "name": "stdout",
     "output_type": "stream",
     "text": [
      "15.264337522473747\n"
     ]
    }
   ],
   "source": [
    "print(optimize.check_grad(f, g, [2, 2]))"
   ]
  },
  {
   "cell_type": "code",
   "execution_count": 12,
   "metadata": {},
   "outputs": [
    {
     "name": "stdout",
     "output_type": "stream",
     "text": [
      "Warning: Desired error not necessarily achieved due to precision loss.\n",
      "         Current function value: 1.796859\n",
      "         Iterations: 3\n",
      "         Function evaluations: 51\n",
      "         Gradient evaluations: 39\n",
      "[0.96524715 0.93013811]\n"
     ]
    }
   ],
   "source": [
    "print(optimize.fmin_bfgs(f, [2, 2], fprime=g))"
   ]
  },
  {
   "cell_type": "code",
   "execution_count": 13,
   "metadata": {},
   "outputs": [
    {
     "name": "stdout",
     "output_type": "stream",
     "text": [
      "      fun: 4.5280935126791136e-15\n",
      " hess_inv: array([[ 0.75000001, -0.24999999],\n",
      "       [-0.24999999,  0.75000001]])\n",
      "      jac: array([-1.10065162e-07, -1.10065162e-07])\n",
      "  message: 'Optimization terminated successfully.'\n",
      "     nfev: 9\n",
      "      nit: 2\n",
      "     njev: 3\n",
      "   status: 0\n",
      "  success: True\n",
      "        x: array([-4.75820003e-08, -4.75820003e-08])\n"
     ]
    }
   ],
   "source": [
    "print(optimize.minimize(f, [2, 2]))"
   ]
  },
  {
   "cell_type": "code",
   "execution_count": 14,
   "metadata": {},
   "outputs": [
    {
     "name": "stdout",
     "output_type": "stream",
     "text": [
      "      fun: 4.5280935126791136e-15\n",
      " hess_inv: array([[ 0.75000001, -0.24999999],\n",
      "       [-0.24999999,  0.75000001]])\n",
      "      jac: array([-1.10065162e-07, -1.10065162e-07])\n",
      "  message: 'Optimization terminated successfully.'\n",
      "     nfev: 9\n",
      "      nit: 2\n",
      "     njev: 3\n",
      "   status: 0\n",
      "  success: True\n",
      "        x: array([-4.75820003e-08, -4.75820003e-08])\n"
     ]
    }
   ],
   "source": [
    "print(optimize.minimize(f, [2, 2], method='BFGS'))"
   ]
  },
  {
   "cell_type": "code",
   "execution_count": 15,
   "metadata": {},
   "outputs": [
    {
     "name": "stdout",
     "output_type": "stream",
     "text": [
      " final_simplex: (array([[-4.13302749e-05, -1.01526896e-05],\n",
      "       [ 3.62005091e-05,  3.10717439e-05],\n",
      "       [-4.20470585e-05,  5.09691299e-05]]), array([1.81126873e-09, 2.27593013e-09, 4.36580733e-09]))\n",
      "           fun: 1.8112687307246913e-09\n",
      "       message: 'Optimization terminated successfully.'\n",
      "          nfev: 73\n",
      "           nit: 40\n",
      "        status: 0\n",
      "       success: True\n",
      "             x: array([-4.13302749e-05, -1.01526896e-05])\n"
     ]
    }
   ],
   "source": [
    "print(optimize.minimize(f, [2, 2], method='Nelder-Mead'))"
   ]
  },
  {
   "cell_type": "code",
   "execution_count": null,
   "metadata": {},
   "outputs": [],
   "source": []
  }
 ],
 "metadata": {
  "kernelspec": {
   "display_name": "Python 3",
   "language": "python",
   "name": "python3"
  },
  "language_info": {
   "codemirror_mode": {
    "name": "ipython",
    "version": 3
   },
   "file_extension": ".py",
   "mimetype": "text/x-python",
   "name": "python",
   "nbconvert_exporter": "python",
   "pygments_lexer": "ipython3",
   "version": "3.8.3"
  }
 },
 "nbformat": 4,
 "nbformat_minor": 1
}
