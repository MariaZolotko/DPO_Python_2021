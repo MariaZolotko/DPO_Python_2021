{
 "cells": [
  {
   "cell_type": "markdown",
   "metadata": {},
   "source": [
    "# Python для анализа данных\n",
    "\n",
    "## Веб-скрэйпинг: скачивание файлов\n",
    "\n",
    "*На основе блокнота Татьяны Рогович, НИУ ВШЭ*\n",
    "*Автор: Ян Пиле, НИУ ВШЭ*"
   ]
  },
  {
   "cell_type": "markdown",
   "metadata": {},
   "source": [
    "## Скачивание файлов"
   ]
  },
  {
   "cell_type": "markdown",
   "metadata": {},
   "source": [
    "Кстати, еще одно применение скрэйпинга, о котором мы пока не поговорили - это автоматизированное скачивание файлов. Например, вы хотите скачать научные статьи по определенному ключевому слову или прайс-листы поставщика, которые он загружает на сайт в эскеле.\n",
    "\n",
    "Давайте посмотрим, как скачивать файлы на примере pdf и заодно попробуем походить по ссылкам. Кстати, этот процесс еще часто называется spidering или crawling, потому что ваш скрипт как паучок ползет по ссылкам (отсюда и название первых поисковых роботов - spider).\n",
    "\n",
    "Давайте попробуем сохранить англоязычные summary дисертаций, защищенных в 2019 году\n",
    "\n",
    "Мы уже отредактировали фильтры и ссылка их запомнила. Позже сегодня посмотрим как можно самим заполнять такие поля с помощью Selenium.\n",
    "\n",
    "https://www.hse.ru/sci/diss/?author=&chief=&year=2019&type=1&degree_type=&council=&spec=&fulltext=yes"
   ]
  },
  {
   "cell_type": "code",
   "execution_count": 16,
   "metadata": {},
   "outputs": [],
   "source": [
    "import requests \n",
    "from bs4 import BeautifulSoup\n",
    "from selenium import webdriver as wb\n",
    "from selenium import webdriver\n",
    "from selenium.webdriver.common.keys import Keys\n",
    "from selenium.webdriver.support.ui import Select\n",
    "from time import sleep\n",
    "import pandas as pd\n",
    "driver = wb.Firefox()\n",
    "\n",
    "driver.implicitly_wait(2)"
   ]
  },
  {
   "cell_type": "code",
   "execution_count": 17,
   "metadata": {},
   "outputs": [],
   "source": [
    "link = 'https://www.hse.ru/sci/diss/?fulltext=yes'\n",
    "driver.get(link)"
   ]
  },
  {
   "cell_type": "code",
   "execution_count": 37,
   "metadata": {},
   "outputs": [],
   "source": [
    "soup = BeautifulSoup(driver.page_source)\n",
    "# soup.find_all('a')"
   ]
  },
  {
   "cell_type": "code",
   "execution_count": 38,
   "metadata": {},
   "outputs": [],
   "source": [
    "# soup.find_all('a', {'class':'link'})"
   ]
  },
  {
   "cell_type": "markdown",
   "metadata": {},
   "source": [
    "Давайте для начала поэкспериментируем с первым кандидатом."
   ]
  },
  {
   "cell_type": "code",
   "execution_count": 20,
   "metadata": {},
   "outputs": [
    {
     "name": "stdout",
     "output_type": "stream",
     "text": [
      "190\n"
     ]
    },
    {
     "data": {
      "text/plain": [
       "[<a class=\"link\">Коллаборационизм в Крыму в период нацистской оккупации (1941-1944 гг.)</a>,\n",
       " <a class=\"link\" href=\"https://www.hse.ru/org/persons/25917795\" target=\"_blank\">Махалова Ирина Андреевна</a>,\n",
       " <a class=\"link\" href=\"https://www.hse.ru/org/persons/22511135\" target=\"_blank\">Будницкий Олег Витальевич</a>,\n",
       " <a class=\"link\">Вторая мировая война</a>,\n",
       " <a class=\"link\">Крым</a>,\n",
       " <a class=\"link\">коллаборационизм</a>,\n",
       " <a class=\"link\">оккупация</a>,\n",
       " <a class=\"link\">советская юстиция</a>,\n",
       " <a class=\"link\">сталинизм</a>,\n",
       " <a class=\"link\" data-hse-file=\"PDF\" href=\"http://www.hse.ru/data/xf/139/178/1583/диссертация_финал_Махалова.pdf\">Диссертация</a>]"
      ]
     },
     "execution_count": 20,
     "metadata": {},
     "output_type": "execute_result"
    }
   ],
   "source": [
    "print(len(soup.find_all('a')))\n",
    "soup.find_all('a', {'class':'link'})[:10]"
   ]
  },
  {
   "cell_type": "markdown",
   "metadata": {},
   "source": [
    "Видим, что ссылок очень много, а нам нужны только те, которые ведут на summary. Можно поискать их по тексту ссылки."
   ]
  },
  {
   "cell_type": "code",
   "execution_count": 24,
   "metadata": {},
   "outputs": [
    {
     "name": "stdout",
     "output_type": "stream",
     "text": [
      "<a class=\"link\" data-hse-file=\"PDF\" href=\"http://www.hse.ru/data/2020/09/24/1583178139/Summary_финал.pdf\">Summary</a>\n",
      "<a class=\"link\" data-hse-file=\"PDF\" href=\"http://www.hse.ru/data/2020/08/18/1586370776/Казеев_summary.pdf\">Summary</a>\n",
      "<a class=\"link\" data-hse-file=\"PDF\" href=\"http://www.hse.ru/data/2020/09/10/1579195206/Неклюдов_summary.pdf\">Summary</a>\n",
      "<a class=\"link\" data-hse-file=\"PDF\" href=\"http://www.hse.ru/data/2020/10/02/1579198197/Резюме на английском_итог.pdf\">Summary</a>\n",
      "<a class=\"link\" data-hse-file=\"PDF\" href=\"http://www.hse.ru/data/2020/07/13/1594067576/Соколова_summary.pdf\">Summary</a>\n",
      "<a class=\"link\" data-hse-file=\"PDF\" href=\"http://www.hse.ru/data/2020/10/01/1579193339/Summary.pdf\">Summary</a>\n",
      "<a class=\"link\" data-hse-file=\"PDF\" href=\"http://www.hse.ru/data/2020/09/15/1579192441/Тюрин_summary.pdf\">Summary</a>\n",
      "<a class=\"link\" data-hse-file=\"PDF\" href=\"http://www.hse.ru/data/2020/08/21/1589222101/Гиринский_summary.pdf\">Summary</a>\n",
      "<a class=\"link\" data-hse-file=\"PDF\" href=\"http://www.hse.ru/data/2020/09/14/1577837706/Summary.pdf\">Summary</a>\n",
      "<a class=\"link\" data-hse-file=\"PDF\" href=\"http://www.hse.ru/data/2020/09/11/1560161080/Summary.pdf\">Summary</a>\n"
     ]
    }
   ],
   "source": [
    "for link in soup.find_all('a', text='Summary'):\n",
    "    print(link)"
   ]
  },
  {
   "cell_type": "markdown",
   "metadata": {},
   "source": [
    "И соберем ссылки в список."
   ]
  },
  {
   "cell_type": "code",
   "execution_count": 31,
   "metadata": {},
   "outputs": [
    {
     "name": "stdout",
     "output_type": "stream",
     "text": [
      "<a class=\"link\" data-hse-file=\"PDF\" href=\"http://www.hse.ru/data/2020/09/24/1583178139/Summary_финал.pdf\">Summary</a>\n",
      "<a class=\"link\" data-hse-file=\"PDF\" href=\"http://www.hse.ru/data/2020/08/18/1586370776/Казеев_summary.pdf\">Summary</a>\n",
      "<a class=\"link\" data-hse-file=\"PDF\" href=\"http://www.hse.ru/data/2020/09/10/1579195206/Неклюдов_summary.pdf\">Summary</a>\n",
      "<a class=\"link\" data-hse-file=\"PDF\" href=\"http://www.hse.ru/data/2020/10/02/1579198197/Резюме на английском_итог.pdf\">Summary</a>\n",
      "<a class=\"link\" data-hse-file=\"PDF\" href=\"http://www.hse.ru/data/2020/07/13/1594067576/Соколова_summary.pdf\">Summary</a>\n",
      "<a class=\"link\" data-hse-file=\"PDF\" href=\"http://www.hse.ru/data/2020/10/01/1579193339/Summary.pdf\">Summary</a>\n",
      "<a class=\"link\" data-hse-file=\"PDF\" href=\"http://www.hse.ru/data/2020/09/15/1579192441/Тюрин_summary.pdf\">Summary</a>\n",
      "<a class=\"link\" data-hse-file=\"PDF\" href=\"http://www.hse.ru/data/2020/08/21/1589222101/Гиринский_summary.pdf\">Summary</a>\n",
      "<a class=\"link\" data-hse-file=\"PDF\" href=\"http://www.hse.ru/data/2020/09/14/1577837706/Summary.pdf\">Summary</a>\n",
      "<a class=\"link\" data-hse-file=\"PDF\" href=\"http://www.hse.ru/data/2020/09/11/1560161080/Summary.pdf\">Summary</a>\n",
      "['http://www.hse.ru/data/2020/09/24/1583178139/Summary_финал.pdf', 'http://www.hse.ru/data/2020/08/18/1586370776/Казеев_summary.pdf', 'http://www.hse.ru/data/2020/09/10/1579195206/Неклюдов_summary.pdf', 'http://www.hse.ru/data/2020/10/02/1579198197/Резюме на английском_итог.pdf', 'http://www.hse.ru/data/2020/07/13/1594067576/Соколова_summary.pdf', 'http://www.hse.ru/data/2020/10/01/1579193339/Summary.pdf', 'http://www.hse.ru/data/2020/09/15/1579192441/Тюрин_summary.pdf', 'http://www.hse.ru/data/2020/08/21/1589222101/Гиринский_summary.pdf', 'http://www.hse.ru/data/2020/09/14/1577837706/Summary.pdf', 'http://www.hse.ru/data/2020/09/11/1560161080/Summary.pdf']\n"
     ]
    }
   ],
   "source": [
    "links = []\n",
    "for link in soup.find_all('a', text='Summary'):\n",
    "    print(link)\n",
    "    links.append(link.get('href'))\n",
    "    \n",
    "print(links)"
   ]
  },
  {
   "cell_type": "markdown",
   "metadata": {},
   "source": [
    "Отлично. Теперь нужно придумать, откуда взять название для каждого файла. Пусть это будут фамилии авторов, давайте доберемся до них. Такую задачу мы пока не решали: будем искать тэг по тексту, а потом искать его родителя (потому что ни ячейку таблицы с именем автора, ни саму таблицу не получится уникально отсечь)."
   ]
  },
  {
   "cell_type": "code",
   "execution_count": 26,
   "metadata": {},
   "outputs": [
    {
     "name": "stdout",
     "output_type": "stream",
     "text": [
      "[<td class=\"p0 p\" style=\"width: 200px;\">Соискатель:</td>, <td class=\"p1 v\"><a class=\"link\" href=\"https://www.hse.ru/org/persons/25917795\" target=\"_blank\">Махалова Ирина Андреевна</a></td>, <a class=\"link\" href=\"https://www.hse.ru/org/persons/25917795\" target=\"_blank\">Махалова Ирина Андреевна</a>]\n",
      "[<td class=\"p0 p\" style=\"width: 200px;\">Соискатель:</td>, <td class=\"p1 v\"><a class=\"link\" href=\"https://www.hse.ru/org/persons/195203703\" target=\"_blank\">Казеев Никита Александрович</a></td>, <a class=\"link\" href=\"https://www.hse.ru/org/persons/195203703\" target=\"_blank\">Казеев Никита Александрович</a>]\n",
      "[<td class=\"p0 p\" style=\"width: 200px;\">Соискатель:</td>, <td class=\"p1 v\"><a class=\"link\" href=\"https://www.hse.ru/org/persons/191263008\" target=\"_blank\">Неклюдов Кирилл Олегович</a></td>, <a class=\"link\" href=\"https://www.hse.ru/org/persons/191263008\" target=\"_blank\">Неклюдов Кирилл Олегович</a>]\n",
      "[<td class=\"p0 p\" style=\"width: 200px;\">Соискатель:</td>, <td class=\"p1 v\"><a class=\"link\" href=\"https://www.hse.ru/org/persons/28124622\" target=\"_blank\">Драгой Ольга Викторовна</a></td>, <a class=\"link\" href=\"https://www.hse.ru/org/persons/28124622\" target=\"_blank\">Драгой Ольга Викторовна</a>]\n",
      "[<td class=\"p0 p\" style=\"width: 200px;\">Соискатель:</td>, <td class=\"p1 v\"><span>Соколова Анна Ильинична</span></td>, <span>Соколова Анна Ильинична</span>]\n",
      "[<td class=\"p0 p\" style=\"width: 200px;\">Соискатель:</td>, <td class=\"p1 v\"><a class=\"link\" href=\"https://www.hse.ru/org/persons/209813151\" target=\"_blank\">Коган Леонид Ефимович</a></td>, <a class=\"link\" href=\"https://www.hse.ru/org/persons/209813151\" target=\"_blank\">Коган Леонид Ефимович</a>]\n",
      "[<td class=\"p0 p\" style=\"width: 200px;\">Соискатель:</td>, <td class=\"p1 v\"><a class=\"link\" href=\"https://www.hse.ru/org/persons/161002023\" target=\"_blank\">Тюрин Александр Игоревич</a></td>, <a class=\"link\" href=\"https://www.hse.ru/org/persons/161002023\" target=\"_blank\">Тюрин Александр Игоревич</a>]\n",
      "[<td class=\"p0 p\" style=\"width: 200px;\">Соискатель:</td>, <td class=\"p1 v\"><a class=\"link\" href=\"https://www.hse.ru/org/persons/135913435\" target=\"_blank\">Гиринский Александр Андреевич</a></td>, <a class=\"link\" href=\"https://www.hse.ru/org/persons/135913435\" target=\"_blank\">Гиринский Александр Андреевич</a>]\n",
      "[<td class=\"p0 p\" style=\"width: 200px;\">Соискатель:</td>, <td class=\"p1 v\"><a class=\"link\" href=\"https://www.hse.ru/org/persons/196143816\" target=\"_blank\">Дорофеева Светлана Валентиновна</a></td>, <a class=\"link\" href=\"https://www.hse.ru/org/persons/196143816\" target=\"_blank\">Дорофеева Светлана Валентиновна</a>]\n",
      "[<td class=\"p0 p\" style=\"width: 200px;\">Соискатель:</td>, <td class=\"p1 v\"><a class=\"link\" href=\"https://www.hse.ru/org/persons/113170115\" target=\"_blank\">Антипкина Инна Вениаминовна</a></td>, <a class=\"link\" href=\"https://www.hse.ru/org/persons/113170115\" target=\"_blank\">Антипкина Инна Вениаминовна</a>]\n"
     ]
    }
   ],
   "source": [
    "for author in soup.find_all('td', text='Соискатель:'):\n",
    "    print(author.parent())"
   ]
  },
  {
   "cell_type": "markdown",
   "metadata": {},
   "source": [
    "Достанем фамилии."
   ]
  },
  {
   "cell_type": "code",
   "execution_count": 27,
   "metadata": {},
   "outputs": [
    {
     "name": "stdout",
     "output_type": "stream",
     "text": [
      "Махалова\n",
      "Казеев\n",
      "Неклюдов\n",
      "Драгой\n",
      "Соколова\n",
      "Коган\n",
      "Тюрин\n",
      "Гиринский\n",
      "Дорофеева\n",
      "Антипкина\n",
      "['Махалова', 'Казеев', 'Неклюдов', 'Драгой', 'Соколова', 'Коган', 'Тюрин', 'Гиринский', 'Дорофеева', 'Антипкина']\n"
     ]
    }
   ],
   "source": [
    "authors = []\n",
    "for author in soup.find_all('td', text='Соискатель:'):\n",
    "    print(author.parent()[1].get_text().split()[0])\n",
    "    authors.append(author.parent()[1].get_text().split()[0])\n",
    "    \n",
    "print(authors)"
   ]
  },
  {
   "cell_type": "markdown",
   "metadata": {},
   "source": [
    "Проверим, что списки действительно одинаковой длины."
   ]
  },
  {
   "cell_type": "code",
   "execution_count": 29,
   "metadata": {},
   "outputs": [
    {
     "data": {
      "text/plain": [
       "True"
      ]
     },
     "execution_count": 29,
     "metadata": {},
     "output_type": "execute_result"
    }
   ],
   "source": [
    "len(links) == len(authors)"
   ]
  },
  {
   "cell_type": "code",
   "execution_count": 32,
   "metadata": {},
   "outputs": [
    {
     "name": "stdout",
     "output_type": "stream",
     "text": [
      "['http://www.hse.ru/data/2020/09/24/1583178139/Summary_финал.pdf', 'http://www.hse.ru/data/2020/08/18/1586370776/Казеев_summary.pdf', 'http://www.hse.ru/data/2020/09/10/1579195206/Неклюдов_summary.pdf', 'http://www.hse.ru/data/2020/10/02/1579198197/Резюме на английском_итог.pdf', 'http://www.hse.ru/data/2020/07/13/1594067576/Соколова_summary.pdf', 'http://www.hse.ru/data/2020/10/01/1579193339/Summary.pdf', 'http://www.hse.ru/data/2020/09/15/1579192441/Тюрин_summary.pdf', 'http://www.hse.ru/data/2020/08/21/1589222101/Гиринский_summary.pdf', 'http://www.hse.ru/data/2020/09/14/1577837706/Summary.pdf', 'http://www.hse.ru/data/2020/09/11/1560161080/Summary.pdf']\n"
     ]
    }
   ],
   "source": [
    "print(links)"
   ]
  },
  {
   "cell_type": "markdown",
   "metadata": {},
   "source": [
    "Теперь попробуем сохранить файл. У нас все файлы pdf, будем переименовывать их фамилиями автора. Кстати, если файлы разного формата, то расширение можно узнать через атрибут headers"
   ]
  },
  {
   "cell_type": "code",
   "execution_count": 33,
   "metadata": {},
   "outputs": [
    {
     "data": {
      "text/plain": [
       "'application/pdf'"
      ]
     },
     "execution_count": 33,
     "metadata": {},
     "output_type": "execute_result"
    }
   ],
   "source": [
    "requests.get(links[0]).headers['content-type']"
   ]
  },
  {
   "cell_type": "code",
   "execution_count": 34,
   "metadata": {},
   "outputs": [],
   "source": [
    "# потоковое чтение файла, потому pdf может быть большим и не уместиться в памяти\n",
    "summary = requests.get(links[0], stream=True) \n",
    "\n",
    "# на всякий случай делаем проверку, иначе получим битый файл\n",
    "if summary.headers['content-type'] == 'application/pdf': \n",
    "\n",
    "    # wb - запись байтовой информации\n",
    "    fh = open('test.pdf', 'wb') \n",
    "    \n",
    "    # считываем туда \"содержание\" файла по ссылке\n",
    "    fh.write(summary.content) \n",
    "    fh.close()"
   ]
  },
  {
   "cell_type": "markdown",
   "metadata": {},
   "source": [
    "Давайте теперь еще добавим имя файла по фамилии."
   ]
  },
  {
   "cell_type": "code",
   "execution_count": 35,
   "metadata": {},
   "outputs": [],
   "source": [
    "# потоковое чтение файла, потому pdf может быть большим и не уместиться в памяти\n",
    "summary = requests.get(links[0], stream=True) \n",
    "\n",
    "# на всякий случай делаем проверку, иначе получим битый файл\n",
    "if summary.headers['content-type'] == 'application/pdf': \n",
    "\n",
    "    # wb - запись байтовой информации\n",
    "    fh = open(f'{authors[0]}.pdf', 'wb') \n",
    "    \n",
    "    # считываем туда \"содержание\" файла по ссылке\n",
    "    fh.write(summary.content) \n",
    "    fh.close()"
   ]
  },
  {
   "cell_type": "markdown",
   "metadata": {},
   "source": [
    "Давайте сохраним обработку файла в функцию и соберем уже все в цикл."
   ]
  },
  {
   "cell_type": "code",
   "execution_count": 36,
   "metadata": {},
   "outputs": [],
   "source": [
    "def get_pdf(idx):\n",
    "    summary = requests.get(links[idx], stream=True) # потоковое чтение файла, потому pdf может быть большим и не уместиться в памяти\n",
    "    if summary.headers['content-type'] == 'application/pdf': # на всякий случай делаем проверку, иначе получим битый файл\n",
    "        fh = open(f'{authors[idx]}.pdf', 'wb') # wb - запись байтовой информации\n",
    "        fh.write(summary.content) # считываем туда \"содержание\" файла по ссылке\n",
    "        fh.close()"
   ]
  },
  {
   "cell_type": "code",
   "execution_count": 41,
   "metadata": {},
   "outputs": [],
   "source": [
    "link = 'https://www.hse.ru/sci/diss/?fulltext=yes'\n",
    "driver.get(link)\n",
    "\n",
    "soup = BeautifulSoup(driver.page_source)\n",
    "\n",
    "links = []\n",
    "for link in soup.find_all('a', text='Summary'):\n",
    "    links.append(link.get('href'))\n",
    "\n",
    "authors = []\n",
    "for author in soup.find_all('td', text='Соискатель:'):\n",
    "    authors.append(author.parent()[1].get_text().split()[0])"
   ]
  },
  {
   "cell_type": "code",
   "execution_count": 44,
   "metadata": {},
   "outputs": [
    {
     "data": {
      "text/plain": [
       "['http://www.hse.ru/data/2020/09/24/1583178139/Summary_финал.pdf',\n",
       " 'http://www.hse.ru/data/2020/08/18/1586370776/Казеев_summary.pdf',\n",
       " 'http://www.hse.ru/data/2020/09/10/1579195206/Неклюдов_summary.pdf',\n",
       " 'http://www.hse.ru/data/2020/10/02/1579198197/Резюме на английском_итог.pdf',\n",
       " 'http://www.hse.ru/data/2020/07/13/1594067576/Соколова_summary.pdf',\n",
       " 'http://www.hse.ru/data/2020/10/01/1579193339/Summary.pdf',\n",
       " 'http://www.hse.ru/data/2020/09/15/1579192441/Тюрин_summary.pdf',\n",
       " 'http://www.hse.ru/data/2020/08/21/1589222101/Гиринский_summary.pdf',\n",
       " 'http://www.hse.ru/data/2020/09/14/1577837706/Summary.pdf',\n",
       " 'http://www.hse.ru/data/2020/09/11/1560161080/Summary.pdf']"
      ]
     },
     "execution_count": 44,
     "metadata": {},
     "output_type": "execute_result"
    }
   ],
   "source": [
    "links\n"
   ]
  },
  {
   "cell_type": "code",
   "execution_count": 45,
   "metadata": {},
   "outputs": [],
   "source": [
    "for idx in range(len(authors)):\n",
    "    get_pdf(idx)"
   ]
  },
  {
   "cell_type": "markdown",
   "metadata": {},
   "source": [
    "Готово!"
   ]
  },
  {
   "cell_type": "code",
   "execution_count": null,
   "metadata": {},
   "outputs": [],
   "source": []
  }
 ],
 "metadata": {
  "kernelspec": {
   "display_name": "Python 3",
   "language": "python",
   "name": "python3"
  },
  "language_info": {
   "codemirror_mode": {
    "name": "ipython",
    "version": 3
   },
   "file_extension": ".py",
   "mimetype": "text/x-python",
   "name": "python",
   "nbconvert_exporter": "python",
   "pygments_lexer": "ipython3",
   "version": "3.8.3"
  }
 },
 "nbformat": 4,
 "nbformat_minor": 4
}
