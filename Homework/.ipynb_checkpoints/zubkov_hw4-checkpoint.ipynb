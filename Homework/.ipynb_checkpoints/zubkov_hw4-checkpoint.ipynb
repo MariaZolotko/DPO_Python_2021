{
 "cells": [
  {
   "cell_type": "markdown",
   "metadata": {
    "id": "Jml-RoSh-rS8"
   },
   "source": [
    "# Python для анализа данных\n",
    "\n",
    "## ДЗ 4\n",
    "\n",
    "*Придумывал: Ян Пиле, НИУ ВШЭ*  "
   ]
  },
  {
   "cell_type": "markdown",
   "metadata": {
    "id": "jZK-1TTp-rTA"
   },
   "source": [
    "## Задача 1\n",
    "\n",
    "Дана страница https://ru.wikipedia.org/wiki/Премия_«Оскар»_за_лучший_фильм#Достижения_по_другим_номинациям_Оскара\n",
    "\n",
    "Используя удобные для вас модули Python (Например requests, bs4 и pandas, но можно и любые другие) сгрузить в удобную для вас структуру данных (например pandas-табличку) данные о номинантах и победителях премии Оскар за лучший фильм за всю историю существования премии. Заметьте, на страничке эта информация в нескольких таблицах. По данным ответьте на вопросы. P.S. Результат нужно именно посчитать, если на странице в явном виде указан ответ на вопрос, просто выгрузить этот ответ нельзя:\n",
    "\n",
    "    1. Сколько раз были номинированы фильмы, созданные при участии Стивена Спилберга?\n",
    "    2. Фильмы какой компании получили больше Оскаров за лучший фильм: Warner Bros. или Paramount Pictures и насколько больше?"
   ]
  },
  {
   "cell_type": "code",
   "execution_count": 2,
   "metadata": {
    "colab": {
     "base_uri": "https://localhost:8080/"
    },
    "executionInfo": {
     "elapsed": 3228,
     "status": "ok",
     "timestamp": 1616480747054,
     "user": {
      "displayName": "Verschworer",
      "photoUrl": "https://lh3.googleusercontent.com/a-/AOh14GgQbkgItI8vPBHZtVqt61Tf9iHDDTukqekIv5d6yw=s64",
      "userId": "12690098908040894903"
     },
     "user_tz": -180
    },
    "id": "tbUeM5Lh-rTB",
    "outputId": "b4beb676-485c-4dda-b290-e77752652a02"
   },
   "outputs": [
    {
     "data": {
      "text/plain": [
       "21"
      ]
     },
     "execution_count": 2,
     "metadata": {},
     "output_type": "execute_result"
    }
   ],
   "source": [
    "import pandas as pd #import famous datascience lib\n",
    "import requests #lib for internet requests\n",
    "\n",
    "url_1 = 'https://ru.wikipedia.org/wiki/Премия_«Оскар»_за_лучший_фильм#Достижения_по_другим_номинациям_Оскара' #targer url for data analyze\n",
    "\n",
    "r_1 = requests.get(url_1) #make request from target url\n",
    "wiki_1 = r_1.text # take text from target url request\n",
    "\n",
    "tables_1 = pd.read_html(wiki_1, encoding=\"UTF-8\") #list of tabels from target page\n",
    "len(tables_1) #look how many tables "
   ]
  },
  {
   "cell_type": "code",
   "execution_count": 3,
   "metadata": {
    "executionInfo": {
     "elapsed": 3226,
     "status": "ok",
     "timestamp": 1616480747056,
     "user": {
      "displayName": "Verschworer",
      "photoUrl": "https://lh3.googleusercontent.com/a-/AOh14GgQbkgItI8vPBHZtVqt61Tf9iHDDTukqekIv5d6yw=s64",
      "userId": "12690098908040894903"
     },
     "user_tz": -180
    },
    "id": "pCDaLNWFlDM5"
   },
   "outputs": [],
   "source": [
    "# tables_1 # & take a look to this tables, looks ugly, find start and and of data"
   ]
  },
  {
   "cell_type": "code",
   "execution_count": 4,
   "metadata": {
    "colab": {
     "base_uri": "https://localhost:8080/",
     "height": 614
    },
    "executionInfo": {
     "elapsed": 3855,
     "status": "ok",
     "timestamp": 1616480747689,
     "user": {
      "displayName": "Verschworer",
      "photoUrl": "https://lh3.googleusercontent.com/a-/AOh14GgQbkgItI8vPBHZtVqt61Tf9iHDDTukqekIv5d6yw=s64",
      "userId": "12690098908040894903"
     },
     "user_tz": -180
    },
    "id": "uFq9vuIOiV5s",
    "outputId": "8ef5483b-1b64-4a28-caa2-cff5df7c4c02"
   },
   "outputs": [
    {
     "data": {
      "text/html": [
       "<div>\n",
       "<style scoped>\n",
       "    .dataframe tbody tr th:only-of-type {\n",
       "        vertical-align: middle;\n",
       "    }\n",
       "\n",
       "    .dataframe tbody tr th {\n",
       "        vertical-align: top;\n",
       "    }\n",
       "\n",
       "    .dataframe thead th {\n",
       "        text-align: right;\n",
       "    }\n",
       "</style>\n",
       "<table border=\"1\" class=\"dataframe\">\n",
       "  <thead>\n",
       "    <tr style=\"text-align: right;\">\n",
       "      <th></th>\n",
       "      <th>Год</th>\n",
       "      <th>Фильм</th>\n",
       "      <th>Победы</th>\n",
       "      <th>Номинации</th>\n",
       "      <th>Достижение</th>\n",
       "    </tr>\n",
       "  </thead>\n",
       "  <tbody>\n",
       "    <tr>\n",
       "      <th>0</th>\n",
       "      <td>1929</td>\n",
       "      <td>Крылья</td>\n",
       "      <td>2</td>\n",
       "      <td>2</td>\n",
       "      <td>Первый военный фильм, победивший в категории Л...</td>\n",
       "    </tr>\n",
       "    <tr>\n",
       "      <th>1</th>\n",
       "      <td>1930-I</td>\n",
       "      <td>Бродвейская мелодия</td>\n",
       "      <td>1</td>\n",
       "      <td>3</td>\n",
       "      <td>Первый музыкальный фильм, победивший в категор...</td>\n",
       "    </tr>\n",
       "    <tr>\n",
       "      <th>2</th>\n",
       "      <td>1931</td>\n",
       "      <td>Симаррон</td>\n",
       "      <td>3</td>\n",
       "      <td>7</td>\n",
       "      <td>Первый вестерн, победивший в категории Лучший ...</td>\n",
       "    </tr>\n",
       "    <tr>\n",
       "      <th>3</th>\n",
       "      <td>1935</td>\n",
       "      <td>Это случилось однажды ночью</td>\n",
       "      <td>5</td>\n",
       "      <td>5</td>\n",
       "      <td>Первая кинокомедия, победившая в категории Луч...</td>\n",
       "    </tr>\n",
       "    <tr>\n",
       "      <th>4</th>\n",
       "      <td>1938</td>\n",
       "      <td>Жизнь Эмиля Золя</td>\n",
       "      <td>3</td>\n",
       "      <td>10</td>\n",
       "      <td>Первый биографический фильм, победивший в кате...</td>\n",
       "    </tr>\n",
       "    <tr>\n",
       "      <th>5</th>\n",
       "      <td>1940</td>\n",
       "      <td>Волшебник страны Оз</td>\n",
       "      <td>2</td>\n",
       "      <td>6</td>\n",
       "      <td>Первый фильм для детей, номинированный за Лучш...</td>\n",
       "    </tr>\n",
       "    <tr>\n",
       "      <th>6</th>\n",
       "      <td>1941</td>\n",
       "      <td>Ребекка</td>\n",
       "      <td>2</td>\n",
       "      <td>11</td>\n",
       "      <td>Первый (и единственный) триллер, победивший в ...</td>\n",
       "    </tr>\n",
       "    <tr>\n",
       "      <th>7</th>\n",
       "      <td>1968</td>\n",
       "      <td>Душной южной ночью</td>\n",
       "      <td>5</td>\n",
       "      <td>7</td>\n",
       "      <td>Первый и единственный детективный/таинственный...</td>\n",
       "    </tr>\n",
       "    <tr>\n",
       "      <th>8</th>\n",
       "      <td>1972</td>\n",
       "      <td>Заводной апельсин</td>\n",
       "      <td>0</td>\n",
       "      <td>4</td>\n",
       "      <td>Первый научно-фантастический фильм, номинирова...</td>\n",
       "    </tr>\n",
       "    <tr>\n",
       "      <th>9</th>\n",
       "      <td>1974</td>\n",
       "      <td>Изгоняющий дьявола</td>\n",
       "      <td>2</td>\n",
       "      <td>10</td>\n",
       "      <td>Первый фильм ужасов, номинированный за Лучший ...</td>\n",
       "    </tr>\n",
       "    <tr>\n",
       "      <th>10</th>\n",
       "      <td>1977</td>\n",
       "      <td>Рокки</td>\n",
       "      <td>3</td>\n",
       "      <td>10</td>\n",
       "      <td>Первый спортивный фильм, победивший в категори...</td>\n",
       "    </tr>\n",
       "    <tr>\n",
       "      <th>11</th>\n",
       "      <td>1986</td>\n",
       "      <td>Поцелуй женщины-паука</td>\n",
       "      <td>1</td>\n",
       "      <td>4</td>\n",
       "      <td>Первый независимый фильм, номинированный за Лу...</td>\n",
       "    </tr>\n",
       "    <tr>\n",
       "      <th>12</th>\n",
       "      <td>1992</td>\n",
       "      <td>Красавица и Чудовище</td>\n",
       "      <td>2</td>\n",
       "      <td>6</td>\n",
       "      <td>Первый анимационный фильм, номинированный за Л...</td>\n",
       "    </tr>\n",
       "    <tr>\n",
       "      <th>13</th>\n",
       "      <td>2001</td>\n",
       "      <td>Крадущийся тигр, затаившийся дракон</td>\n",
       "      <td>4</td>\n",
       "      <td>10</td>\n",
       "      <td>Первый (и единственный) фильм с боевыми искусс...</td>\n",
       "    </tr>\n",
       "    <tr>\n",
       "      <th>14</th>\n",
       "      <td>2003</td>\n",
       "      <td>Чикаго</td>\n",
       "      <td>6</td>\n",
       "      <td>13</td>\n",
       "      <td>Последний мюзикл в настоящее время, победивший...</td>\n",
       "    </tr>\n",
       "    <tr>\n",
       "      <th>15</th>\n",
       "      <td>2004</td>\n",
       "      <td>Властелин колец: Возвращение короля</td>\n",
       "      <td>11</td>\n",
       "      <td>11</td>\n",
       "      <td>Первый (и единственный) фильм в жанре фэнтези,...</td>\n",
       "    </tr>\n",
       "    <tr>\n",
       "      <th>16</th>\n",
       "      <td>2015</td>\n",
       "      <td>Бёрдмэн</td>\n",
       "      <td>4</td>\n",
       "      <td>9</td>\n",
       "      <td>Последний комедийный фильм в настоящее время, ...</td>\n",
       "    </tr>\n",
       "    <tr>\n",
       "      <th>17</th>\n",
       "      <td>2019</td>\n",
       "      <td>Зелёная книга</td>\n",
       "      <td>3</td>\n",
       "      <td>5</td>\n",
       "      <td>Последний биографический фильм в настоящее вре...</td>\n",
       "    </tr>\n",
       "  </tbody>\n",
       "</table>\n",
       "</div>"
      ],
      "text/plain": [
       "       Год  ...                                         Достижение\n",
       "0     1929  ...  Первый военный фильм, победивший в категории Л...\n",
       "1   1930-I  ...  Первый музыкальный фильм, победивший в категор...\n",
       "2     1931  ...  Первый вестерн, победивший в категории Лучший ...\n",
       "3     1935  ...  Первая кинокомедия, победившая в категории Луч...\n",
       "4     1938  ...  Первый биографический фильм, победивший в кате...\n",
       "5     1940  ...  Первый фильм для детей, номинированный за Лучш...\n",
       "6     1941  ...  Первый (и единственный) триллер, победивший в ...\n",
       "7     1968  ...  Первый и единственный детективный/таинственный...\n",
       "8     1972  ...  Первый научно-фантастический фильм, номинирова...\n",
       "9     1974  ...  Первый фильм ужасов, номинированный за Лучший ...\n",
       "10    1977  ...  Первый спортивный фильм, победивший в категори...\n",
       "11    1986  ...  Первый независимый фильм, номинированный за Лу...\n",
       "12    1992  ...  Первый анимационный фильм, номинированный за Л...\n",
       "13    2001  ...  Первый (и единственный) фильм с боевыми искусс...\n",
       "14    2003  ...  Последний мюзикл в настоящее время, победивший...\n",
       "15    2004  ...  Первый (и единственный) фильм в жанре фэнтези,...\n",
       "16    2015  ...  Последний комедийный фильм в настоящее время, ...\n",
       "17    2019  ...  Последний биографический фильм в настоящее вре...\n",
       "\n",
       "[18 rows x 5 columns]"
      ]
     },
     "execution_count": 4,
     "metadata": {
      "tags": []
     },
     "output_type": "execute_result"
    }
   ],
   "source": [
    "tables_1[11] #find the table starting from which there are data not related to the task"
   ]
  },
  {
   "cell_type": "code",
   "execution_count": 5,
   "metadata": {
    "colab": {
     "base_uri": "https://localhost:8080/"
    },
    "executionInfo": {
     "elapsed": 3851,
     "status": "ok",
     "timestamp": 1616480747690,
     "user": {
      "displayName": "Verschworer",
      "photoUrl": "https://lh3.googleusercontent.com/a-/AOh14GgQbkgItI8vPBHZtVqt61Tf9iHDDTukqekIv5d6yw=s64",
      "userId": "12690098908040894903"
     },
     "user_tz": -180
    },
    "id": "LZBpa2Tjh11H",
    "outputId": "85b5cf08-d87e-4e07-c2c9-ae1a2e308dc2"
   },
   "outputs": [
    {
     "data": {
      "text/plain": [
       "43"
      ]
     },
     "execution_count": 5,
     "metadata": {
      "tags": []
     },
     "output_type": "execute_result"
    }
   ],
   "source": [
    "table_1 = pd.concat(tables_1[0:10]) # make dataframe from tables with data of interest to us \n",
    "table_1.reset_index(drop=True, inplace=True) # make pass-through indexes\n",
    "table_1.columns = ['year', 'movie', 'company', 'producer', 'links'] # rename columns\n",
    "\n",
    "# table_1 = table.drop(['year', 'links'], axis='columns') # this columns don't need for task\n",
    "table_1['producer'] = table_1['producer'].str.replace(r'(\\s[и]\\s)|[,]\\s', '/', regex=True) # delimeter replacement for producer\n",
    "table_1['company'] = table_1['company'].astype(str).str.replace(r'(\\s[и]\\s)|[,]\\s', '/', regex=True) # delimeter replacement company\n",
    "table_1.isnull().sum().sum() # look to NaN values, total"
   ]
  },
  {
   "cell_type": "code",
   "execution_count": 6,
   "metadata": {
    "colab": {
     "base_uri": "https://localhost:8080/"
    },
    "executionInfo": {
     "elapsed": 3848,
     "status": "ok",
     "timestamp": 1616480747690,
     "user": {
      "displayName": "Verschworer",
      "photoUrl": "https://lh3.googleusercontent.com/a-/AOh14GgQbkgItI8vPBHZtVqt61Tf9iHDDTukqekIv5d6yw=s64",
      "userId": "12690098908040894903"
     },
     "user_tz": -180
    },
    "id": "C66ja57Oan0N",
    "outputId": "adcb52bb-a958-4f69-c3fa-693a2742e298"
   },
   "outputs": [
    {
     "data": {
      "text/plain": [
       "year        0\n",
       "movie       0\n",
       "company     0\n",
       "producer    0\n",
       "links       0\n",
       "dtype: int64"
      ]
     },
     "execution_count": 6,
     "metadata": {
      "tags": []
     },
     "output_type": "execute_result"
    }
   ],
   "source": [
    "table_1.fillna('-', inplace=True) # fill NaN values\n",
    "table_1.isnull().sum() # look to NaN values again, by columns"
   ]
  },
  {
   "cell_type": "code",
   "execution_count": 7,
   "metadata": {
    "colab": {
     "base_uri": "https://localhost:8080/",
     "height": 423
    },
    "executionInfo": {
     "elapsed": 3844,
     "status": "ok",
     "timestamp": 1616480747691,
     "user": {
      "displayName": "Verschworer",
      "photoUrl": "https://lh3.googleusercontent.com/a-/AOh14GgQbkgItI8vPBHZtVqt61Tf9iHDDTukqekIv5d6yw=s64",
      "userId": "12690098908040894903"
     },
     "user_tz": -180
    },
    "id": "0thlLoEi57se",
    "outputId": "729d7fb2-54d0-45de-d4fb-36569d5691d5"
   },
   "outputs": [
    {
     "data": {
      "text/html": [
       "<div>\n",
       "<style scoped>\n",
       "    .dataframe tbody tr th:only-of-type {\n",
       "        vertical-align: middle;\n",
       "    }\n",
       "\n",
       "    .dataframe tbody tr th {\n",
       "        vertical-align: top;\n",
       "    }\n",
       "\n",
       "    .dataframe thead th {\n",
       "        text-align: right;\n",
       "    }\n",
       "</style>\n",
       "<table border=\"1\" class=\"dataframe\">\n",
       "  <thead>\n",
       "    <tr style=\"text-align: right;\">\n",
       "      <th></th>\n",
       "      <th>year</th>\n",
       "      <th>movie</th>\n",
       "      <th>company</th>\n",
       "      <th>producer</th>\n",
       "      <th>links</th>\n",
       "    </tr>\n",
       "  </thead>\n",
       "  <tbody>\n",
       "    <tr>\n",
       "      <th>0</th>\n",
       "      <td>1929 (1-я)</td>\n",
       "      <td>★ «Крылья»</td>\n",
       "      <td>Paramount Pictures/Famous Players-Lasky</td>\n",
       "      <td>Люсьен Хаббард</td>\n",
       "      <td>[# 1]</td>\n",
       "    </tr>\n",
       "    <tr>\n",
       "      <th>1</th>\n",
       "      <td>1929 (1-я)</td>\n",
       "      <td>«Рэкет»</td>\n",
       "      <td>Caddo/Paramount</td>\n",
       "      <td>Говард Хьюз</td>\n",
       "      <td>[# 1]</td>\n",
       "    </tr>\n",
       "    <tr>\n",
       "      <th>2</th>\n",
       "      <td>1929 (1-я)</td>\n",
       "      <td>«Седьмое небо»</td>\n",
       "      <td>Fox Film Corporation</td>\n",
       "      <td>Уильям Фокс</td>\n",
       "      <td>[# 1]</td>\n",
       "    </tr>\n",
       "    <tr>\n",
       "      <th>3</th>\n",
       "      <td>1930-I (2-я)</td>\n",
       "      <td>★ «Бродвейская мелодия»</td>\n",
       "      <td>Metro-Goldwyn-Mayer</td>\n",
       "      <td>Ирвинг Талберг/Лоуренс Уэйнгартен</td>\n",
       "      <td>[# 2]</td>\n",
       "    </tr>\n",
       "    <tr>\n",
       "      <th>4</th>\n",
       "      <td>1930-I (2-я)</td>\n",
       "      <td>«Алиби»</td>\n",
       "      <td>Feature Productions/United Artists</td>\n",
       "      <td>Роланд Уэст</td>\n",
       "      <td>[# 2]</td>\n",
       "    </tr>\n",
       "    <tr>\n",
       "      <th>...</th>\n",
       "      <td>...</td>\n",
       "      <td>...</td>\n",
       "      <td>...</td>\n",
       "      <td>...</td>\n",
       "      <td>...</td>\n",
       "    </tr>\n",
       "    <tr>\n",
       "      <th>558</th>\n",
       "      <td>2020 (92-я)</td>\n",
       "      <td>«Джокер»</td>\n",
       "      <td>nan</td>\n",
       "      <td>Тодд Филлипс/Брэдли Купер/Эмма Тиллинджер Коскофф</td>\n",
       "      <td>-</td>\n",
       "    </tr>\n",
       "    <tr>\n",
       "      <th>559</th>\n",
       "      <td>2020 (92-я)</td>\n",
       "      <td>«Маленькие женщины»</td>\n",
       "      <td>nan</td>\n",
       "      <td>Эми Паскаль</td>\n",
       "      <td>-</td>\n",
       "    </tr>\n",
       "    <tr>\n",
       "      <th>560</th>\n",
       "      <td>2020 (92-я)</td>\n",
       "      <td>«Брачная история»</td>\n",
       "      <td>nan</td>\n",
       "      <td>Ноа Баумбах/Дэвид Хейман</td>\n",
       "      <td>-</td>\n",
       "    </tr>\n",
       "    <tr>\n",
       "      <th>561</th>\n",
       "      <td>2020 (92-я)</td>\n",
       "      <td>«1917»</td>\n",
       "      <td>nan</td>\n",
       "      <td>Сэм Мендес/Пиппа Харрис/Джейн‑Энн Тенггрен/Кал...</td>\n",
       "      <td>-</td>\n",
       "    </tr>\n",
       "    <tr>\n",
       "      <th>562</th>\n",
       "      <td>2020 (92-я)</td>\n",
       "      <td>«Однажды в Голливуде»</td>\n",
       "      <td>nan</td>\n",
       "      <td>Дэвид Хейман/Шеннон Макинтош/Квентин Тарантино</td>\n",
       "      <td>-</td>\n",
       "    </tr>\n",
       "  </tbody>\n",
       "</table>\n",
       "<p>563 rows × 5 columns</p>\n",
       "</div>"
      ],
      "text/plain": [
       "             year  ...  links\n",
       "0      1929 (1-я)  ...  [# 1]\n",
       "1      1929 (1-я)  ...  [# 1]\n",
       "2      1929 (1-я)  ...  [# 1]\n",
       "3    1930-I (2-я)  ...  [# 2]\n",
       "4    1930-I (2-я)  ...  [# 2]\n",
       "..            ...  ...    ...\n",
       "558   2020 (92-я)  ...      -\n",
       "559   2020 (92-я)  ...      -\n",
       "560   2020 (92-я)  ...      -\n",
       "561   2020 (92-я)  ...      -\n",
       "562   2020 (92-я)  ...      -\n",
       "\n",
       "[563 rows x 5 columns]"
      ]
     },
     "execution_count": 7,
     "metadata": {
      "tags": []
     },
     "output_type": "execute_result"
    }
   ],
   "source": [
    "table_1 # look on dataframe"
   ]
  },
  {
   "cell_type": "code",
   "execution_count": 8,
   "metadata": {
    "colab": {
     "base_uri": "https://localhost:8080/"
    },
    "executionInfo": {
     "elapsed": 3841,
     "status": "ok",
     "timestamp": 1616480747692,
     "user": {
      "displayName": "Verschworer",
      "photoUrl": "https://lh3.googleusercontent.com/a-/AOh14GgQbkgItI8vPBHZtVqt61Tf9iHDDTukqekIv5d6yw=s64",
      "userId": "12690098908040894903"
     },
     "user_tz": -180
    },
    "id": "qXIRRUamZYbM",
    "outputId": "1e666f8f-c6f3-4ad9-be72-da690acf4dea"
   },
   "outputs": [
    {
     "data": {
      "text/plain": [
       "[('Хэл Б. Уоллис', 19),\n",
       " ('Дэррил Фрэнсис Занук', 14),\n",
       " ('Стивен Спилберг', 10),\n",
       " ('Хенри Блэнк', 9),\n",
       " ('Скотт Рудин', 9)]"
      ]
     },
     "execution_count": 8,
     "metadata": {
      "tags": []
     },
     "output_type": "execute_result"
    }
   ],
   "source": [
    "from collections import Counter # provides specialized data types based on dictionaries, tuples, sets, lists.\n",
    "\n",
    "prod_lst = list([x for producer in [s.split('/') for s in table_1['producer']] for x in producer]) # make list of producers separated by delimeter\n",
    "c4_1 = Counter(prod_lst) # count for producers in prod list\n",
    "c4_1.most_common(5) # look on som fo it"
   ]
  },
  {
   "cell_type": "code",
   "execution_count": 9,
   "metadata": {
    "colab": {
     "base_uri": "https://localhost:8080/"
    },
    "executionInfo": {
     "elapsed": 3839,
     "status": "ok",
     "timestamp": 1616480747693,
     "user": {
      "displayName": "Verschworer",
      "photoUrl": "https://lh3.googleusercontent.com/a-/AOh14GgQbkgItI8vPBHZtVqt61Tf9iHDDTukqekIv5d6yw=s64",
      "userId": "12690098908040894903"
     },
     "user_tz": -180
    },
    "id": "oFsYvZ_ijSe9",
    "outputId": "4a8f7e02-5288-4bc7-d0e6-8ed1d597af40"
   },
   "outputs": [
    {
     "data": {
      "text/plain": [
       "10"
      ]
     },
     "execution_count": 9,
     "metadata": {
      "tags": []
     },
     "output_type": "execute_result"
    }
   ],
   "source": [
    "table_1[table_1['producer'].str.contains(\"Стивен Спилберг\", na=False)]['movie'].count() # pandas build-in method to count specific produser"
   ]
  },
  {
   "cell_type": "markdown",
   "metadata": {
    "id": "w7j9vAjOgL0O"
   },
   "source": [
    "**10** раз были номинированы фильмы, созданные при участии Стивена Спилберга."
   ]
  },
  {
   "cell_type": "code",
   "execution_count": 10,
   "metadata": {
    "colab": {
     "base_uri": "https://localhost:8080/",
     "height": 423
    },
    "executionInfo": {
     "elapsed": 3835,
     "status": "ok",
     "timestamp": 1616480747693,
     "user": {
      "displayName": "Verschworer",
      "photoUrl": "https://lh3.googleusercontent.com/a-/AOh14GgQbkgItI8vPBHZtVqt61Tf9iHDDTukqekIv5d6yw=s64",
      "userId": "12690098908040894903"
     },
     "user_tz": -180
    },
    "id": "SvsvDNMSazAr",
    "outputId": "51efe33d-c546-4062-e407-649d4e116948"
   },
   "outputs": [
    {
     "data": {
      "text/html": [
       "<div>\n",
       "<style scoped>\n",
       "    .dataframe tbody tr th:only-of-type {\n",
       "        vertical-align: middle;\n",
       "    }\n",
       "\n",
       "    .dataframe tbody tr th {\n",
       "        vertical-align: top;\n",
       "    }\n",
       "\n",
       "    .dataframe thead th {\n",
       "        text-align: right;\n",
       "    }\n",
       "</style>\n",
       "<table border=\"1\" class=\"dataframe\">\n",
       "  <thead>\n",
       "    <tr style=\"text-align: right;\">\n",
       "      <th></th>\n",
       "      <th>year</th>\n",
       "      <th>movie</th>\n",
       "      <th>company</th>\n",
       "      <th>producer</th>\n",
       "      <th>links</th>\n",
       "    </tr>\n",
       "  </thead>\n",
       "  <tbody>\n",
       "    <tr>\n",
       "      <th>0</th>\n",
       "      <td>1929 (1-я)</td>\n",
       "      <td>★ «Крылья»</td>\n",
       "      <td>Paramount Pictures/Famous Players-Lasky</td>\n",
       "      <td>Люсьен Хаббард</td>\n",
       "      <td>[# 1]</td>\n",
       "    </tr>\n",
       "    <tr>\n",
       "      <th>1</th>\n",
       "      <td>1930-I (2-я)</td>\n",
       "      <td>★ «Бродвейская мелодия»</td>\n",
       "      <td>Metro-Goldwyn-Mayer</td>\n",
       "      <td>Ирвинг Талберг/Лоуренс Уэйнгартен</td>\n",
       "      <td>[# 2]</td>\n",
       "    </tr>\n",
       "    <tr>\n",
       "      <th>2</th>\n",
       "      <td>1930-II (3-я)</td>\n",
       "      <td>★ «На западном фронте без перемен»</td>\n",
       "      <td>Universal</td>\n",
       "      <td>Карл Леммле-мл.</td>\n",
       "      <td>[# 3]</td>\n",
       "    </tr>\n",
       "    <tr>\n",
       "      <th>3</th>\n",
       "      <td>1931 (4-я)</td>\n",
       "      <td>★ «Симаррон»</td>\n",
       "      <td>RKO Radio Pictures</td>\n",
       "      <td>Уильям Лебарон</td>\n",
       "      <td>[# 4]</td>\n",
       "    </tr>\n",
       "    <tr>\n",
       "      <th>4</th>\n",
       "      <td>1932 (5-я)</td>\n",
       "      <td>★ «Гранд-отель»</td>\n",
       "      <td>Metro-Goldwyn-Mayer</td>\n",
       "      <td>Ирвинг Тальберг</td>\n",
       "      <td>[# 5]</td>\n",
       "    </tr>\n",
       "    <tr>\n",
       "      <th>...</th>\n",
       "      <td>...</td>\n",
       "      <td>...</td>\n",
       "      <td>...</td>\n",
       "      <td>...</td>\n",
       "      <td>...</td>\n",
       "    </tr>\n",
       "    <tr>\n",
       "      <th>87</th>\n",
       "      <td>2016 (88-я)</td>\n",
       "      <td>★ «В центре внимания»</td>\n",
       "      <td>Open Road Films/Anonymous Content/First Look M...</td>\n",
       "      <td>Майкл Шуга/Стив Голин/Николь Роклин/Блай Пэгон...</td>\n",
       "      <td>-</td>\n",
       "    </tr>\n",
       "    <tr>\n",
       "      <th>88</th>\n",
       "      <td>2017 (89-я)</td>\n",
       "      <td>★ «Лунный свет»</td>\n",
       "      <td>A24/Plan B Entertainment</td>\n",
       "      <td>Адель Романски/Деде Гарднер/Джереми Клейнер</td>\n",
       "      <td>-</td>\n",
       "    </tr>\n",
       "    <tr>\n",
       "      <th>89</th>\n",
       "      <td>2018 (90-я)</td>\n",
       "      <td>★ «Форма воды»</td>\n",
       "      <td>Fox Searchlight Pictures/TSG Entertainment/Dou...</td>\n",
       "      <td>Гильермо дель Торо/Дж. Майлз Дэйл</td>\n",
       "      <td>-</td>\n",
       "    </tr>\n",
       "    <tr>\n",
       "      <th>90</th>\n",
       "      <td>2019 (91-я)</td>\n",
       "      <td>★ «Зелёная книга»</td>\n",
       "      <td>nan</td>\n",
       "      <td>Джим Берк/Чарльз Б. Весслер/Брайан Карри/Питер...</td>\n",
       "      <td>-</td>\n",
       "    </tr>\n",
       "    <tr>\n",
       "      <th>91</th>\n",
       "      <td>2020 (92-я)</td>\n",
       "      <td>★ «Паразиты»</td>\n",
       "      <td>nan</td>\n",
       "      <td>Квак Щин-э/Пон Чжун Хо</td>\n",
       "      <td>-</td>\n",
       "    </tr>\n",
       "  </tbody>\n",
       "</table>\n",
       "<p>92 rows × 5 columns</p>\n",
       "</div>"
      ],
      "text/plain": [
       "             year  ...  links\n",
       "0      1929 (1-я)  ...  [# 1]\n",
       "1    1930-I (2-я)  ...  [# 2]\n",
       "2   1930-II (3-я)  ...  [# 3]\n",
       "3      1931 (4-я)  ...  [# 4]\n",
       "4      1932 (5-я)  ...  [# 5]\n",
       "..            ...  ...    ...\n",
       "87    2016 (88-я)  ...      -\n",
       "88    2017 (89-я)  ...      -\n",
       "89    2018 (90-я)  ...      -\n",
       "90    2019 (91-я)  ...      -\n",
       "91    2020 (92-я)  ...      -\n",
       "\n",
       "[92 rows x 5 columns]"
      ]
     },
     "execution_count": 10,
     "metadata": {
      "tags": []
     },
     "output_type": "execute_result"
    }
   ],
   "source": [
    "winners_df = table_1[table_1['movie'].str.contains(\"★\", na=False)] # create an intermediate dataframe, contains only winners\n",
    "winners_df.reset_index(drop=True, inplace=True) # make pass-through indexes\n",
    "winners_df # look on this df\n",
    "# company contains not NaN, but str-type nan values, which can make troubles"
   ]
  },
  {
   "cell_type": "code",
   "execution_count": 11,
   "metadata": {
    "colab": {
     "base_uri": "https://localhost:8080/",
     "height": 518
    },
    "executionInfo": {
     "elapsed": 3831,
     "status": "ok",
     "timestamp": 1616480747694,
     "user": {
      "displayName": "Verschworer",
      "photoUrl": "https://lh3.googleusercontent.com/a-/AOh14GgQbkgItI8vPBHZtVqt61Tf9iHDDTukqekIv5d6yw=s64",
      "userId": "12690098908040894903"
     },
     "user_tz": -180
    },
    "id": "4E3ngYNeVswf",
    "outputId": "519f8119-b3e9-4492-dca1-afc4c70a8906"
   },
   "outputs": [
    {
     "name": "stderr",
     "output_type": "stream",
     "text": [
      "/usr/local/lib/python3.7/dist-packages/pandas/core/series.py:4582: SettingWithCopyWarning: \n",
      "A value is trying to be set on a copy of a slice from a DataFrame\n",
      "\n",
      "See the caveats in the documentation: https://pandas.pydata.org/pandas-docs/stable/user_guide/indexing.html#returning-a-view-versus-a-copy\n",
      "  method=method,\n"
     ]
    },
    {
     "data": {
      "text/html": [
       "<div>\n",
       "<style scoped>\n",
       "    .dataframe tbody tr th:only-of-type {\n",
       "        vertical-align: middle;\n",
       "    }\n",
       "\n",
       "    .dataframe tbody tr th {\n",
       "        vertical-align: top;\n",
       "    }\n",
       "\n",
       "    .dataframe thead th {\n",
       "        text-align: right;\n",
       "    }\n",
       "</style>\n",
       "<table border=\"1\" class=\"dataframe\">\n",
       "  <thead>\n",
       "    <tr style=\"text-align: right;\">\n",
       "      <th></th>\n",
       "      <th>year</th>\n",
       "      <th>movie</th>\n",
       "      <th>company</th>\n",
       "      <th>producer</th>\n",
       "      <th>links</th>\n",
       "    </tr>\n",
       "  </thead>\n",
       "  <tbody>\n",
       "    <tr>\n",
       "      <th>0</th>\n",
       "      <td>1929 (1-я)</td>\n",
       "      <td>★ «Крылья»</td>\n",
       "      <td>Paramount Pictures/Famous Players-Lasky</td>\n",
       "      <td>Люсьен Хаббард</td>\n",
       "      <td>[# 1]</td>\n",
       "    </tr>\n",
       "    <tr>\n",
       "      <th>1</th>\n",
       "      <td>1930-I (2-я)</td>\n",
       "      <td>★ «Бродвейская мелодия»</td>\n",
       "      <td>Metro-Goldwyn-Mayer</td>\n",
       "      <td>Ирвинг Талберг/Лоуренс Уэйнгартен</td>\n",
       "      <td>[# 2]</td>\n",
       "    </tr>\n",
       "    <tr>\n",
       "      <th>2</th>\n",
       "      <td>1930-II (3-я)</td>\n",
       "      <td>★ «На западном фронте без перемен»</td>\n",
       "      <td>Universal</td>\n",
       "      <td>Карл Леммле-мл.</td>\n",
       "      <td>[# 3]</td>\n",
       "    </tr>\n",
       "    <tr>\n",
       "      <th>3</th>\n",
       "      <td>1931 (4-я)</td>\n",
       "      <td>★ «Симаррон»</td>\n",
       "      <td>RKO Radio Pictures</td>\n",
       "      <td>Уильям Лебарон</td>\n",
       "      <td>[# 4]</td>\n",
       "    </tr>\n",
       "    <tr>\n",
       "      <th>4</th>\n",
       "      <td>1932 (5-я)</td>\n",
       "      <td>★ «Гранд-отель»</td>\n",
       "      <td>Metro-Goldwyn-Mayer</td>\n",
       "      <td>Ирвинг Тальберг</td>\n",
       "      <td>[# 5]</td>\n",
       "    </tr>\n",
       "    <tr>\n",
       "      <th>...</th>\n",
       "      <td>...</td>\n",
       "      <td>...</td>\n",
       "      <td>...</td>\n",
       "      <td>...</td>\n",
       "      <td>...</td>\n",
       "    </tr>\n",
       "    <tr>\n",
       "      <th>87</th>\n",
       "      <td>2016 (88-я)</td>\n",
       "      <td>★ «В центре внимания»</td>\n",
       "      <td>Open Road Films/Anonymous Content/First Look M...</td>\n",
       "      <td>Майкл Шуга/Стив Голин/Николь Роклин/Блай Пэгон...</td>\n",
       "      <td>-</td>\n",
       "    </tr>\n",
       "    <tr>\n",
       "      <th>88</th>\n",
       "      <td>2017 (89-я)</td>\n",
       "      <td>★ «Лунный свет»</td>\n",
       "      <td>A24/Plan B Entertainment</td>\n",
       "      <td>Адель Романски/Деде Гарднер/Джереми Клейнер</td>\n",
       "      <td>-</td>\n",
       "    </tr>\n",
       "    <tr>\n",
       "      <th>89</th>\n",
       "      <td>2018 (90-я)</td>\n",
       "      <td>★ «Форма воды»</td>\n",
       "      <td>Fox Searchlight Pictures/TSG Entertainment/Dou...</td>\n",
       "      <td>Гильермо дель Торо/Дж. Майлз Дэйл</td>\n",
       "      <td>-</td>\n",
       "    </tr>\n",
       "    <tr>\n",
       "      <th>90</th>\n",
       "      <td>2019 (91-я)</td>\n",
       "      <td>★ «Зелёная книга»</td>\n",
       "      <td>-</td>\n",
       "      <td>Джим Берк/Чарльз Б. Весслер/Брайан Карри/Питер...</td>\n",
       "      <td>-</td>\n",
       "    </tr>\n",
       "    <tr>\n",
       "      <th>91</th>\n",
       "      <td>2020 (92-я)</td>\n",
       "      <td>★ «Паразиты»</td>\n",
       "      <td>-</td>\n",
       "      <td>Квак Щин-э/Пон Чжун Хо</td>\n",
       "      <td>-</td>\n",
       "    </tr>\n",
       "  </tbody>\n",
       "</table>\n",
       "<p>92 rows × 5 columns</p>\n",
       "</div>"
      ],
      "text/plain": [
       "             year  ...  links\n",
       "0      1929 (1-я)  ...  [# 1]\n",
       "1    1930-I (2-я)  ...  [# 2]\n",
       "2   1930-II (3-я)  ...  [# 3]\n",
       "3      1931 (4-я)  ...  [# 4]\n",
       "4      1932 (5-я)  ...  [# 5]\n",
       "..            ...  ...    ...\n",
       "87    2016 (88-я)  ...      -\n",
       "88    2017 (89-я)  ...      -\n",
       "89    2018 (90-я)  ...      -\n",
       "90    2019 (91-я)  ...      -\n",
       "91    2020 (92-я)  ...      -\n",
       "\n",
       "[92 rows x 5 columns]"
      ]
     },
     "execution_count": 11,
     "metadata": {
      "tags": []
     },
     "output_type": "execute_result"
    }
   ],
   "source": [
    "winners_df['company'].replace('nan', '-', inplace=True) # fix it\n",
    "winners_df # some control"
   ]
  },
  {
   "cell_type": "code",
   "execution_count": 13,
   "metadata": {
    "colab": {
     "base_uri": "https://localhost:8080/"
    },
    "executionInfo": {
     "elapsed": 2249,
     "status": "ok",
     "timestamp": 1616480769164,
     "user": {
      "displayName": "Verschworer",
      "photoUrl": "https://lh3.googleusercontent.com/a-/AOh14GgQbkgItI8vPBHZtVqt61Tf9iHDDTukqekIv5d6yw=s64",
      "userId": "12690098908040894903"
     },
     "user_tz": -180
    },
    "id": "OZSPJ3GBezQ2",
    "outputId": "46156d03-865c-4d7e-ce8a-db8fa9eb3433"
   },
   "outputs": [
    {
     "data": {
      "text/plain": [
       "[('Columbia Pictures', 12),\n",
       " ('United Artists', 12),\n",
       " ('Warner Bros.', 10),\n",
       " ('Paramount Pictures', 9),\n",
       " ('Metro-Goldwyn-Mayer', 9)]"
      ]
     },
     "execution_count": 13,
     "metadata": {
      "tags": []
     },
     "output_type": "execute_result"
    }
   ],
   "source": [
    "comp_lst = list([x for company in [s.split('/') for s in winners_df['company']] for x in company]) # list of companies\n",
    "c4_2 = Counter(comp_lst) # apply the counter again\n",
    "c4_2.most_common(5) # look up result"
   ]
  },
  {
   "cell_type": "markdown",
   "metadata": {
    "id": "xXCJqw9mgziT"
   },
   "source": [
    "Фильмы Warner Bros. получили на **1** Оскар за лучший фильм больше чем фильмы Paramount Pictures. (10 против 9)"
   ]
  },
  {
   "cell_type": "markdown",
   "metadata": {
    "id": "6B7J8DW_-rTC"
   },
   "source": [
    "## Задача 2\n",
    "\n",
    "Дана страница https://ru.wikipedia.org/wiki/Премия_«Оскар»_за_лучшую_женскую_роль\n",
    "\n",
    "Используя удобные для вас модули Python (Например requests, bs4 и pandas, но можно и любые другие) сгрузить в удобную для вас структуру данных (например pandas-табличку) данные о номинантах и победителях премии Оскар за лучшую женскую роль за всю историю существования премии. Заметьте, на страничке эта информация в нескольких таблицах. По данным ответьте на вопросы. P.S. Результат нужно именно посчитать, если на странице в явном виде указан ответ на вопрос, просто выгрузить этот ответ нельзя:\n",
    "\n",
    "    1. Какая актриса чаще всего номинировалась на Оскар?\n",
    "    2. Насколько отличается количество номинаций самой часто номинировавшейся актрисы и второй по частоте?"
   ]
  },
  {
   "cell_type": "code",
   "execution_count": 14,
   "metadata": {
    "colab": {
     "base_uri": "https://localhost:8080/"
    },
    "executionInfo": {
     "elapsed": 1922,
     "status": "ok",
     "timestamp": 1616480780837,
     "user": {
      "displayName": "Verschworer",
      "photoUrl": "https://lh3.googleusercontent.com/a-/AOh14GgQbkgItI8vPBHZtVqt61Tf9iHDDTukqekIv5d6yw=s64",
      "userId": "12690098908040894903"
     },
     "user_tz": -180
    },
    "id": "muLL3or0-rTD",
    "outputId": "8e7567d0-c916-49de-c01d-b7450a2817ad"
   },
   "outputs": [
    {
     "data": {
      "text/plain": [
       "18"
      ]
     },
     "execution_count": 14,
     "metadata": {
      "tags": []
     },
     "output_type": "execute_result"
    }
   ],
   "source": [
    "url_2 = 'https://ru.wikipedia.org/wiki/Премия_«Оскар»_за_лучшую_женскую_роль' # target url for second task\n",
    "r_2 = requests.get(url_2) # and again request\n",
    "wiki_2 = r_2.text # take text\n",
    "\n",
    "tables_2 = pd.read_html(wiki_2, encoding=\"UTF-8\") # list of tables form target url\n",
    "len(tables_2) # how many tables we have?"
   ]
  },
  {
   "cell_type": "code",
   "execution_count": 15,
   "metadata": {
    "executionInfo": {
     "elapsed": 1144,
     "status": "ok",
     "timestamp": 1616480783506,
     "user": {
      "displayName": "Verschworer",
      "photoUrl": "https://lh3.googleusercontent.com/a-/AOh14GgQbkgItI8vPBHZtVqt61Tf9iHDDTukqekIv5d6yw=s64",
      "userId": "12690098908040894903"
     },
     "user_tz": -180
    },
    "id": "uAlRvGh7m_At"
   },
   "outputs": [],
   "source": [
    "# tables_2 # looks ugly too, find start and and of data"
   ]
  },
  {
   "cell_type": "code",
   "execution_count": 16,
   "metadata": {
    "colab": {
     "base_uri": "https://localhost:8080/",
     "height": 614
    },
    "executionInfo": {
     "elapsed": 2420,
     "status": "ok",
     "timestamp": 1616480788021,
     "user": {
      "displayName": "Verschworer",
      "photoUrl": "https://lh3.googleusercontent.com/a-/AOh14GgQbkgItI8vPBHZtVqt61Tf9iHDDTukqekIv5d6yw=s64",
      "userId": "12690098908040894903"
     },
     "user_tz": -180
    },
    "id": "keO4xbP7odyh",
    "outputId": "15f3514d-afd9-486f-d8a5-59778524b56d"
   },
   "outputs": [
    {
     "data": {
      "text/html": [
       "<div>\n",
       "<style scoped>\n",
       "    .dataframe tbody tr th:only-of-type {\n",
       "        vertical-align: middle;\n",
       "    }\n",
       "\n",
       "    .dataframe tbody tr th {\n",
       "        vertical-align: top;\n",
       "    }\n",
       "\n",
       "    .dataframe thead th {\n",
       "        text-align: right;\n",
       "    }\n",
       "</style>\n",
       "<table border=\"1\" class=\"dataframe\">\n",
       "  <thead>\n",
       "    <tr style=\"text-align: right;\">\n",
       "      <th></th>\n",
       "      <th>Церемония</th>\n",
       "      <th>Фото лауреата</th>\n",
       "      <th>Актриса</th>\n",
       "      <th>Фильм(ы)</th>\n",
       "      <th>Роль</th>\n",
       "    </tr>\n",
       "  </thead>\n",
       "  <tbody>\n",
       "    <tr>\n",
       "      <th>0</th>\n",
       "      <td>1-я (1929)</td>\n",
       "      <td>NaN</td>\n",
       "      <td>• Джанет Гейнор</td>\n",
       "      <td>«Седьмое небо»</td>\n",
       "      <td>Дайана</td>\n",
       "    </tr>\n",
       "    <tr>\n",
       "      <th>1</th>\n",
       "      <td>1-я (1929)</td>\n",
       "      <td>NaN</td>\n",
       "      <td>• Джанет Гейнор</td>\n",
       "      <td>«Уличный ангел»</td>\n",
       "      <td>Анджела</td>\n",
       "    </tr>\n",
       "    <tr>\n",
       "      <th>2</th>\n",
       "      <td>1-я (1929)</td>\n",
       "      <td>NaN</td>\n",
       "      <td>• Джанет Гейнор</td>\n",
       "      <td>«Восход солнца»</td>\n",
       "      <td>жена</td>\n",
       "    </tr>\n",
       "    <tr>\n",
       "      <th>3</th>\n",
       "      <td>1-я (1929)</td>\n",
       "      <td>NaN</td>\n",
       "      <td>• Луиза Дрессер</td>\n",
       "      <td>«Корабль приплывает»</td>\n",
       "      <td>миссис Плезник</td>\n",
       "    </tr>\n",
       "    <tr>\n",
       "      <th>4</th>\n",
       "      <td>1-я (1929)</td>\n",
       "      <td>NaN</td>\n",
       "      <td>• Глория Свенсон</td>\n",
       "      <td>«Сэди Томпсон»</td>\n",
       "      <td>Сэди Томпсон</td>\n",
       "    </tr>\n",
       "    <tr>\n",
       "      <th>5</th>\n",
       "      <td>2-я (1930-I)</td>\n",
       "      <td>NaN</td>\n",
       "      <td>• Мэри Пикфорд</td>\n",
       "      <td>«Кокетка»</td>\n",
       "      <td>Норма Безант</td>\n",
       "    </tr>\n",
       "    <tr>\n",
       "      <th>6</th>\n",
       "      <td>2-я (1930-I)</td>\n",
       "      <td>NaN</td>\n",
       "      <td>• Рут Чаттертон</td>\n",
       "      <td>«Мадам Икс»</td>\n",
       "      <td>Жаклин Флорио</td>\n",
       "    </tr>\n",
       "    <tr>\n",
       "      <th>7</th>\n",
       "      <td>2-я (1930-I)</td>\n",
       "      <td>NaN</td>\n",
       "      <td>• Бетти Компсон</td>\n",
       "      <td>«Зазывала»</td>\n",
       "      <td>Кэрри</td>\n",
       "    </tr>\n",
       "    <tr>\n",
       "      <th>8</th>\n",
       "      <td>2-я (1930-I)</td>\n",
       "      <td>NaN</td>\n",
       "      <td>• Джинн Иглс (посмертно)</td>\n",
       "      <td>«Письмо»</td>\n",
       "      <td>Лесли Кросби</td>\n",
       "    </tr>\n",
       "    <tr>\n",
       "      <th>9</th>\n",
       "      <td>2-я (1930-I)</td>\n",
       "      <td>NaN</td>\n",
       "      <td>• Коринна Гриффит</td>\n",
       "      <td>«Божественная леди»</td>\n",
       "      <td>леди Эмма Гамильтон</td>\n",
       "    </tr>\n",
       "    <tr>\n",
       "      <th>10</th>\n",
       "      <td>2-я (1930-I)</td>\n",
       "      <td>NaN</td>\n",
       "      <td>• Бесси Лав</td>\n",
       "      <td>«Бродвейская мелодия»</td>\n",
       "      <td>Хэнк Махони</td>\n",
       "    </tr>\n",
       "    <tr>\n",
       "      <th>11</th>\n",
       "      <td>3-я (1930-II)</td>\n",
       "      <td>NaN</td>\n",
       "      <td>• Норма Ширер</td>\n",
       "      <td>«Развод»</td>\n",
       "      <td>Джерри Бернард Мартин</td>\n",
       "    </tr>\n",
       "    <tr>\n",
       "      <th>12</th>\n",
       "      <td>3-я (1930-II)</td>\n",
       "      <td>NaN</td>\n",
       "      <td>• Нэнси Кэрролл</td>\n",
       "      <td>«Торжество дьявола»</td>\n",
       "      <td>Хэлли Хобарт</td>\n",
       "    </tr>\n",
       "    <tr>\n",
       "      <th>13</th>\n",
       "      <td>3-я (1930-II)</td>\n",
       "      <td>NaN</td>\n",
       "      <td>• Рут Чаттертон</td>\n",
       "      <td>«Сара и сын»</td>\n",
       "      <td>Сара Сторм</td>\n",
       "    </tr>\n",
       "    <tr>\n",
       "      <th>14</th>\n",
       "      <td>3-я (1930-II)</td>\n",
       "      <td>NaN</td>\n",
       "      <td>• Грета Гарбо</td>\n",
       "      <td>«Анна Кристи»</td>\n",
       "      <td>Анна Кристи</td>\n",
       "    </tr>\n",
       "    <tr>\n",
       "      <th>15</th>\n",
       "      <td>3-я (1930-II)</td>\n",
       "      <td>NaN</td>\n",
       "      <td>• Грета Гарбо</td>\n",
       "      <td>«Роман»</td>\n",
       "      <td>Рита Каваллини</td>\n",
       "    </tr>\n",
       "    <tr>\n",
       "      <th>16</th>\n",
       "      <td>3-я (1930-II)</td>\n",
       "      <td>NaN</td>\n",
       "      <td>• Норма Ширер</td>\n",
       "      <td>«Их собственное желание»</td>\n",
       "      <td>Люсия «Лалли» Марлетт</td>\n",
       "    </tr>\n",
       "    <tr>\n",
       "      <th>17</th>\n",
       "      <td>3-я (1930-II)</td>\n",
       "      <td>NaN</td>\n",
       "      <td>• Глория Свенсон</td>\n",
       "      <td>«Правонарушительница»</td>\n",
       "      <td>Марион Доннелл</td>\n",
       "    </tr>\n",
       "  </tbody>\n",
       "</table>\n",
       "</div>"
      ],
      "text/plain": [
       "        Церемония  ...                   Роль\n",
       "0      1-я (1929)  ...                 Дайана\n",
       "1      1-я (1929)  ...                Анджела\n",
       "2      1-я (1929)  ...                   жена\n",
       "3      1-я (1929)  ...         миссис Плезник\n",
       "4      1-я (1929)  ...           Сэди Томпсон\n",
       "5    2-я (1930-I)  ...           Норма Безант\n",
       "6    2-я (1930-I)  ...          Жаклин Флорио\n",
       "7    2-я (1930-I)  ...                  Кэрри\n",
       "8    2-я (1930-I)  ...           Лесли Кросби\n",
       "9    2-я (1930-I)  ...    леди Эмма Гамильтон\n",
       "10   2-я (1930-I)  ...            Хэнк Махони\n",
       "11  3-я (1930-II)  ...  Джерри Бернард Мартин\n",
       "12  3-я (1930-II)  ...           Хэлли Хобарт\n",
       "13  3-я (1930-II)  ...             Сара Сторм\n",
       "14  3-я (1930-II)  ...            Анна Кристи\n",
       "15  3-я (1930-II)  ...         Рита Каваллини\n",
       "16  3-я (1930-II)  ...  Люсия «Лалли» Марлетт\n",
       "17  3-я (1930-II)  ...         Марион Доннелл\n",
       "\n",
       "[18 rows x 5 columns]"
      ]
     },
     "execution_count": 16,
     "metadata": {
      "tags": []
     },
     "output_type": "execute_result"
    }
   ],
   "source": [
    "tables_2[2] # our data start from"
   ]
  },
  {
   "cell_type": "code",
   "execution_count": 17,
   "metadata": {
    "colab": {
     "base_uri": "https://localhost:8080/",
     "height": 423
    },
    "executionInfo": {
     "elapsed": 1288,
     "status": "ok",
     "timestamp": 1616480793966,
     "user": {
      "displayName": "Verschworer",
      "photoUrl": "https://lh3.googleusercontent.com/a-/AOh14GgQbkgItI8vPBHZtVqt61Tf9iHDDTukqekIv5d6yw=s64",
      "userId": "12690098908040894903"
     },
     "user_tz": -180
    },
    "id": "OTObsPDdpAAc",
    "outputId": "ff8e4bd0-2e0e-4e06-aa5a-53eb683f8648"
   },
   "outputs": [
    {
     "data": {
      "text/html": [
       "<div>\n",
       "<style scoped>\n",
       "    .dataframe tbody tr th:only-of-type {\n",
       "        vertical-align: middle;\n",
       "    }\n",
       "\n",
       "    .dataframe tbody tr th {\n",
       "        vertical-align: top;\n",
       "    }\n",
       "\n",
       "    .dataframe thead th {\n",
       "        text-align: right;\n",
       "    }\n",
       "</style>\n",
       "<table border=\"1\" class=\"dataframe\">\n",
       "  <thead>\n",
       "    <tr style=\"text-align: right;\">\n",
       "      <th></th>\n",
       "      <th>Церемония</th>\n",
       "      <th>Фото лауреата</th>\n",
       "      <th>Актриса</th>\n",
       "      <th>Фильм(ы)</th>\n",
       "      <th>Роль</th>\n",
       "      <th>Фильм</th>\n",
       "      <th>Роль.1</th>\n",
       "    </tr>\n",
       "  </thead>\n",
       "  <tbody>\n",
       "    <tr>\n",
       "      <th>0</th>\n",
       "      <td>1-я (1929)</td>\n",
       "      <td>NaN</td>\n",
       "      <td>• Джанет Гейнор</td>\n",
       "      <td>«Седьмое небо»</td>\n",
       "      <td>Дайана</td>\n",
       "      <td>NaN</td>\n",
       "      <td>NaN</td>\n",
       "    </tr>\n",
       "    <tr>\n",
       "      <th>1</th>\n",
       "      <td>1-я (1929)</td>\n",
       "      <td>NaN</td>\n",
       "      <td>• Джанет Гейнор</td>\n",
       "      <td>«Уличный ангел»</td>\n",
       "      <td>Анджела</td>\n",
       "      <td>NaN</td>\n",
       "      <td>NaN</td>\n",
       "    </tr>\n",
       "    <tr>\n",
       "      <th>2</th>\n",
       "      <td>1-я (1929)</td>\n",
       "      <td>NaN</td>\n",
       "      <td>• Джанет Гейнор</td>\n",
       "      <td>«Восход солнца»</td>\n",
       "      <td>жена</td>\n",
       "      <td>NaN</td>\n",
       "      <td>NaN</td>\n",
       "    </tr>\n",
       "    <tr>\n",
       "      <th>3</th>\n",
       "      <td>1-я (1929)</td>\n",
       "      <td>NaN</td>\n",
       "      <td>• Луиза Дрессер</td>\n",
       "      <td>«Корабль приплывает»</td>\n",
       "      <td>миссис Плезник</td>\n",
       "      <td>NaN</td>\n",
       "      <td>NaN</td>\n",
       "    </tr>\n",
       "    <tr>\n",
       "      <th>4</th>\n",
       "      <td>1-я (1929)</td>\n",
       "      <td>NaN</td>\n",
       "      <td>• Глория Свенсон</td>\n",
       "      <td>«Сэди Томпсон»</td>\n",
       "      <td>Сэди Томпсон</td>\n",
       "      <td>NaN</td>\n",
       "      <td>NaN</td>\n",
       "    </tr>\n",
       "    <tr>\n",
       "      <th>...</th>\n",
       "      <td>...</td>\n",
       "      <td>...</td>\n",
       "      <td>...</td>\n",
       "      <td>...</td>\n",
       "      <td>...</td>\n",
       "      <td>...</td>\n",
       "      <td>...</td>\n",
       "    </tr>\n",
       "    <tr>\n",
       "      <th>45</th>\n",
       "      <td>92-я (2020)</td>\n",
       "      <td>NaN</td>\n",
       "      <td>• Рене Зеллвегер</td>\n",
       "      <td>NaN</td>\n",
       "      <td>Джуди Гарленд</td>\n",
       "      <td>«Джуди»</td>\n",
       "      <td>NaN</td>\n",
       "    </tr>\n",
       "    <tr>\n",
       "      <th>46</th>\n",
       "      <td>92-я (2020)</td>\n",
       "      <td>NaN</td>\n",
       "      <td>• Синтия Эриво</td>\n",
       "      <td>NaN</td>\n",
       "      <td>Гарриет Табмен</td>\n",
       "      <td>«Гарриет»</td>\n",
       "      <td>NaN</td>\n",
       "    </tr>\n",
       "    <tr>\n",
       "      <th>47</th>\n",
       "      <td>92-я (2020)</td>\n",
       "      <td>NaN</td>\n",
       "      <td>• Скарлетт Йоханссон</td>\n",
       "      <td>NaN</td>\n",
       "      <td>Николь Барбер</td>\n",
       "      <td>«Брачная история»</td>\n",
       "      <td>NaN</td>\n",
       "    </tr>\n",
       "    <tr>\n",
       "      <th>48</th>\n",
       "      <td>92-я (2020)</td>\n",
       "      <td>NaN</td>\n",
       "      <td>• Сирша Ронан</td>\n",
       "      <td>NaN</td>\n",
       "      <td>Джозефина «Джо» Марч</td>\n",
       "      <td>«Маленькие женщины»</td>\n",
       "      <td>NaN</td>\n",
       "    </tr>\n",
       "    <tr>\n",
       "      <th>49</th>\n",
       "      <td>92-я (2020)</td>\n",
       "      <td>NaN</td>\n",
       "      <td>• Шарлиз Терон</td>\n",
       "      <td>NaN</td>\n",
       "      <td>Мегин Келли</td>\n",
       "      <td>«Скандал»</td>\n",
       "      <td>NaN</td>\n",
       "    </tr>\n",
       "  </tbody>\n",
       "</table>\n",
       "<p>459 rows × 7 columns</p>\n",
       "</div>"
      ],
      "text/plain": [
       "      Церемония  Фото лауреата  ...                Фильм Роль.1\n",
       "0    1-я (1929)            NaN  ...                  NaN    NaN\n",
       "1    1-я (1929)            NaN  ...                  NaN    NaN\n",
       "2    1-я (1929)            NaN  ...                  NaN    NaN\n",
       "3    1-я (1929)            NaN  ...                  NaN    NaN\n",
       "4    1-я (1929)            NaN  ...                  NaN    NaN\n",
       "..          ...            ...  ...                  ...    ...\n",
       "45  92-я (2020)            NaN  ...              «Джуди»    NaN\n",
       "46  92-я (2020)            NaN  ...            «Гарриет»    NaN\n",
       "47  92-я (2020)            NaN  ...    «Брачная история»    NaN\n",
       "48  92-я (2020)            NaN  ...  «Маленькие женщины»    NaN\n",
       "49  92-я (2020)            NaN  ...            «Скандал»    NaN\n",
       "\n",
       "[459 rows x 7 columns]"
      ]
     },
     "execution_count": 17,
     "metadata": {
      "tags": []
     },
     "output_type": "execute_result"
    }
   ],
   "source": [
    "table_2 = pd.concat(tables_2[2:12]) # make a dataframe from the data needed to answer the task 2\n",
    "table_2 # and look on this df. we have seen that data split staggered to some columns, fix it"
   ]
  },
  {
   "cell_type": "code",
   "execution_count": 18,
   "metadata": {
    "colab": {
     "base_uri": "https://localhost:8080/",
     "height": 423
    },
    "executionInfo": {
     "elapsed": 1118,
     "status": "ok",
     "timestamp": 1616480797956,
     "user": {
      "displayName": "Verschworer",
      "photoUrl": "https://lh3.googleusercontent.com/a-/AOh14GgQbkgItI8vPBHZtVqt61Tf9iHDDTukqekIv5d6yw=s64",
      "userId": "12690098908040894903"
     },
     "user_tz": -180
    },
    "id": "-ZocKt5U4AqN",
    "outputId": "461a2a85-51bf-4b86-c48d-77e604fbcf4f"
   },
   "outputs": [
    {
     "data": {
      "text/html": [
       "<div>\n",
       "<style scoped>\n",
       "    .dataframe tbody tr th:only-of-type {\n",
       "        vertical-align: middle;\n",
       "    }\n",
       "\n",
       "    .dataframe tbody tr th {\n",
       "        vertical-align: top;\n",
       "    }\n",
       "\n",
       "    .dataframe thead th {\n",
       "        text-align: right;\n",
       "    }\n",
       "</style>\n",
       "<table border=\"1\" class=\"dataframe\">\n",
       "  <thead>\n",
       "    <tr style=\"text-align: right;\">\n",
       "      <th></th>\n",
       "      <th>Церемония</th>\n",
       "      <th>Фото лауреата</th>\n",
       "      <th>Актриса</th>\n",
       "      <th>Фильм(ы)</th>\n",
       "      <th>Роль</th>\n",
       "      <th>Фильм</th>\n",
       "      <th>Роль.1</th>\n",
       "    </tr>\n",
       "  </thead>\n",
       "  <tbody>\n",
       "    <tr>\n",
       "      <th>0</th>\n",
       "      <td>1-я (1929)</td>\n",
       "      <td>NaN</td>\n",
       "      <td>• Джанет Гейнор</td>\n",
       "      <td>«Седьмое небо»</td>\n",
       "      <td>Дайана</td>\n",
       "      <td>NaN</td>\n",
       "      <td>NaN</td>\n",
       "    </tr>\n",
       "    <tr>\n",
       "      <th>1</th>\n",
       "      <td>1-я (1929)</td>\n",
       "      <td>NaN</td>\n",
       "      <td>• Джанет Гейнор</td>\n",
       "      <td>«Уличный ангел»</td>\n",
       "      <td>Анджела</td>\n",
       "      <td>NaN</td>\n",
       "      <td>NaN</td>\n",
       "    </tr>\n",
       "    <tr>\n",
       "      <th>2</th>\n",
       "      <td>1-я (1929)</td>\n",
       "      <td>NaN</td>\n",
       "      <td>• Джанет Гейнор</td>\n",
       "      <td>«Восход солнца»</td>\n",
       "      <td>жена</td>\n",
       "      <td>NaN</td>\n",
       "      <td>NaN</td>\n",
       "    </tr>\n",
       "    <tr>\n",
       "      <th>3</th>\n",
       "      <td>1-я (1929)</td>\n",
       "      <td>NaN</td>\n",
       "      <td>• Луиза Дрессер</td>\n",
       "      <td>«Корабль приплывает»</td>\n",
       "      <td>миссис Плезник</td>\n",
       "      <td>NaN</td>\n",
       "      <td>NaN</td>\n",
       "    </tr>\n",
       "    <tr>\n",
       "      <th>4</th>\n",
       "      <td>1-я (1929)</td>\n",
       "      <td>NaN</td>\n",
       "      <td>• Глория Свенсон</td>\n",
       "      <td>«Сэди Томпсон»</td>\n",
       "      <td>Сэди Томпсон</td>\n",
       "      <td>NaN</td>\n",
       "      <td>NaN</td>\n",
       "    </tr>\n",
       "    <tr>\n",
       "      <th>...</th>\n",
       "      <td>...</td>\n",
       "      <td>...</td>\n",
       "      <td>...</td>\n",
       "      <td>...</td>\n",
       "      <td>...</td>\n",
       "      <td>...</td>\n",
       "      <td>...</td>\n",
       "    </tr>\n",
       "    <tr>\n",
       "      <th>45</th>\n",
       "      <td>92-я (2020)</td>\n",
       "      <td>NaN</td>\n",
       "      <td>• Рене Зеллвегер</td>\n",
       "      <td>«Джуди»</td>\n",
       "      <td>Джуди Гарленд</td>\n",
       "      <td>«Джуди»</td>\n",
       "      <td>NaN</td>\n",
       "    </tr>\n",
       "    <tr>\n",
       "      <th>46</th>\n",
       "      <td>92-я (2020)</td>\n",
       "      <td>NaN</td>\n",
       "      <td>• Синтия Эриво</td>\n",
       "      <td>«Гарриет»</td>\n",
       "      <td>Гарриет Табмен</td>\n",
       "      <td>«Гарриет»</td>\n",
       "      <td>NaN</td>\n",
       "    </tr>\n",
       "    <tr>\n",
       "      <th>47</th>\n",
       "      <td>92-я (2020)</td>\n",
       "      <td>NaN</td>\n",
       "      <td>• Скарлетт Йоханссон</td>\n",
       "      <td>«Брачная история»</td>\n",
       "      <td>Николь Барбер</td>\n",
       "      <td>«Брачная история»</td>\n",
       "      <td>NaN</td>\n",
       "    </tr>\n",
       "    <tr>\n",
       "      <th>48</th>\n",
       "      <td>92-я (2020)</td>\n",
       "      <td>NaN</td>\n",
       "      <td>• Сирша Ронан</td>\n",
       "      <td>«Маленькие женщины»</td>\n",
       "      <td>Джозефина «Джо» Марч</td>\n",
       "      <td>«Маленькие женщины»</td>\n",
       "      <td>NaN</td>\n",
       "    </tr>\n",
       "    <tr>\n",
       "      <th>49</th>\n",
       "      <td>92-я (2020)</td>\n",
       "      <td>NaN</td>\n",
       "      <td>• Шарлиз Терон</td>\n",
       "      <td>«Скандал»</td>\n",
       "      <td>Мегин Келли</td>\n",
       "      <td>«Скандал»</td>\n",
       "      <td>NaN</td>\n",
       "    </tr>\n",
       "  </tbody>\n",
       "</table>\n",
       "<p>459 rows × 7 columns</p>\n",
       "</div>"
      ],
      "text/plain": [
       "      Церемония  Фото лауреата  ...                Фильм Роль.1\n",
       "0    1-я (1929)            NaN  ...                  NaN    NaN\n",
       "1    1-я (1929)            NaN  ...                  NaN    NaN\n",
       "2    1-я (1929)            NaN  ...                  NaN    NaN\n",
       "3    1-я (1929)            NaN  ...                  NaN    NaN\n",
       "4    1-я (1929)            NaN  ...                  NaN    NaN\n",
       "..          ...            ...  ...                  ...    ...\n",
       "45  92-я (2020)            NaN  ...              «Джуди»    NaN\n",
       "46  92-я (2020)            NaN  ...            «Гарриет»    NaN\n",
       "47  92-я (2020)            NaN  ...    «Брачная история»    NaN\n",
       "48  92-я (2020)            NaN  ...  «Маленькие женщины»    NaN\n",
       "49  92-я (2020)            NaN  ...            «Скандал»    NaN\n",
       "\n",
       "[459 rows x 7 columns]"
      ]
     },
     "execution_count": 18,
     "metadata": {
      "tags": []
     },
     "output_type": "execute_result"
    }
   ],
   "source": [
    "table_2['Фильм(ы)'].fillna(table_2['Фильм'], inplace=True) # fix this\n",
    "table_2['Роль'].fillna(table_2['Роль.1'], inplace=True) # and fix this\n",
    "table_2 # control"
   ]
  },
  {
   "cell_type": "code",
   "execution_count": 19,
   "metadata": {
    "colab": {
     "base_uri": "https://localhost:8080/"
    },
    "executionInfo": {
     "elapsed": 1039,
     "status": "ok",
     "timestamp": 1616480802547,
     "user": {
      "displayName": "Verschworer",
      "photoUrl": "https://lh3.googleusercontent.com/a-/AOh14GgQbkgItI8vPBHZtVqt61Tf9iHDDTukqekIv5d6yw=s64",
      "userId": "12690098908040894903"
     },
     "user_tz": -180
    },
    "id": "WgJRHngO3ob8",
    "outputId": "8f4b0932-b428-449a-e09b-58de2b1dc5eb"
   },
   "outputs": [
    {
     "data": {
      "text/plain": [
       "0"
      ]
     },
     "execution_count": 19,
     "metadata": {
      "tags": []
     },
     "output_type": "execute_result"
    }
   ],
   "source": [
    "table_2.reset_index(drop=True, inplace=True) # pass-through indexes\n",
    "table_2 = table_2.drop(['Фото лауреата', 'Фильм', 'Роль.1'], axis='columns') # drop superfluous columns\n",
    "table_2.columns = ['year', 'actress', 'movie', 'role'] # rename other columns\n",
    "table_2.isna().sum().sum() # control NaN's"
   ]
  },
  {
   "cell_type": "code",
   "execution_count": 20,
   "metadata": {
    "colab": {
     "base_uri": "https://localhost:8080/",
     "height": 423
    },
    "executionInfo": {
     "elapsed": 1195,
     "status": "ok",
     "timestamp": 1616480812199,
     "user": {
      "displayName": "Verschworer",
      "photoUrl": "https://lh3.googleusercontent.com/a-/AOh14GgQbkgItI8vPBHZtVqt61Tf9iHDDTukqekIv5d6yw=s64",
      "userId": "12690098908040894903"
     },
     "user_tz": -180
    },
    "id": "J7CaHYdYrSAd",
    "outputId": "5f3711d5-6f5d-46b4-f5ef-1719d9b602c1"
   },
   "outputs": [
    {
     "data": {
      "text/html": [
       "<div>\n",
       "<style scoped>\n",
       "    .dataframe tbody tr th:only-of-type {\n",
       "        vertical-align: middle;\n",
       "    }\n",
       "\n",
       "    .dataframe tbody tr th {\n",
       "        vertical-align: top;\n",
       "    }\n",
       "\n",
       "    .dataframe thead th {\n",
       "        text-align: right;\n",
       "    }\n",
       "</style>\n",
       "<table border=\"1\" class=\"dataframe\">\n",
       "  <thead>\n",
       "    <tr style=\"text-align: right;\">\n",
       "      <th></th>\n",
       "      <th>year</th>\n",
       "      <th>actress</th>\n",
       "      <th>movie</th>\n",
       "      <th>role</th>\n",
       "    </tr>\n",
       "  </thead>\n",
       "  <tbody>\n",
       "    <tr>\n",
       "      <th>0</th>\n",
       "      <td>1-я (1929)</td>\n",
       "      <td>• Джанет Гейнор</td>\n",
       "      <td>«Седьмое небо»</td>\n",
       "      <td>Дайана</td>\n",
       "    </tr>\n",
       "    <tr>\n",
       "      <th>1</th>\n",
       "      <td>1-я (1929)</td>\n",
       "      <td>• Джанет Гейнор</td>\n",
       "      <td>«Уличный ангел»</td>\n",
       "      <td>Анджела</td>\n",
       "    </tr>\n",
       "    <tr>\n",
       "      <th>2</th>\n",
       "      <td>1-я (1929)</td>\n",
       "      <td>• Джанет Гейнор</td>\n",
       "      <td>«Восход солнца»</td>\n",
       "      <td>жена</td>\n",
       "    </tr>\n",
       "    <tr>\n",
       "      <th>3</th>\n",
       "      <td>1-я (1929)</td>\n",
       "      <td>• Луиза Дрессер</td>\n",
       "      <td>«Корабль приплывает»</td>\n",
       "      <td>миссис Плезник</td>\n",
       "    </tr>\n",
       "    <tr>\n",
       "      <th>4</th>\n",
       "      <td>1-я (1929)</td>\n",
       "      <td>• Глория Свенсон</td>\n",
       "      <td>«Сэди Томпсон»</td>\n",
       "      <td>Сэди Томпсон</td>\n",
       "    </tr>\n",
       "    <tr>\n",
       "      <th>...</th>\n",
       "      <td>...</td>\n",
       "      <td>...</td>\n",
       "      <td>...</td>\n",
       "      <td>...</td>\n",
       "    </tr>\n",
       "    <tr>\n",
       "      <th>454</th>\n",
       "      <td>92-я (2020)</td>\n",
       "      <td>• Рене Зеллвегер</td>\n",
       "      <td>«Джуди»</td>\n",
       "      <td>Джуди Гарленд</td>\n",
       "    </tr>\n",
       "    <tr>\n",
       "      <th>455</th>\n",
       "      <td>92-я (2020)</td>\n",
       "      <td>• Синтия Эриво</td>\n",
       "      <td>«Гарриет»</td>\n",
       "      <td>Гарриет Табмен</td>\n",
       "    </tr>\n",
       "    <tr>\n",
       "      <th>456</th>\n",
       "      <td>92-я (2020)</td>\n",
       "      <td>• Скарлетт Йоханссон</td>\n",
       "      <td>«Брачная история»</td>\n",
       "      <td>Николь Барбер</td>\n",
       "    </tr>\n",
       "    <tr>\n",
       "      <th>457</th>\n",
       "      <td>92-я (2020)</td>\n",
       "      <td>• Сирша Ронан</td>\n",
       "      <td>«Маленькие женщины»</td>\n",
       "      <td>Джозефина «Джо» Марч</td>\n",
       "    </tr>\n",
       "    <tr>\n",
       "      <th>458</th>\n",
       "      <td>92-я (2020)</td>\n",
       "      <td>• Шарлиз Терон</td>\n",
       "      <td>«Скандал»</td>\n",
       "      <td>Мегин Келли</td>\n",
       "    </tr>\n",
       "  </tbody>\n",
       "</table>\n",
       "<p>459 rows × 4 columns</p>\n",
       "</div>"
      ],
      "text/plain": [
       "            year  ...                  role\n",
       "0     1-я (1929)  ...                Дайана\n",
       "1     1-я (1929)  ...               Анджела\n",
       "2     1-я (1929)  ...                  жена\n",
       "3     1-я (1929)  ...        миссис Плезник\n",
       "4     1-я (1929)  ...          Сэди Томпсон\n",
       "..           ...  ...                   ...\n",
       "454  92-я (2020)  ...         Джуди Гарленд\n",
       "455  92-я (2020)  ...        Гарриет Табмен\n",
       "456  92-я (2020)  ...         Николь Барбер\n",
       "457  92-я (2020)  ...  Джозефина «Джо» Марч\n",
       "458  92-я (2020)  ...           Мегин Келли\n",
       "\n",
       "[459 rows x 4 columns]"
      ]
     },
     "execution_count": 20,
     "metadata": {
      "tags": []
     },
     "output_type": "execute_result"
    }
   ],
   "source": [
    "table_2 # look at the clear df"
   ]
  },
  {
   "cell_type": "code",
   "execution_count": 21,
   "metadata": {
    "colab": {
     "base_uri": "https://localhost:8080/"
    },
    "executionInfo": {
     "elapsed": 1232,
     "status": "ok",
     "timestamp": 1616480821201,
     "user": {
      "displayName": "Verschworer",
      "photoUrl": "https://lh3.googleusercontent.com/a-/AOh14GgQbkgItI8vPBHZtVqt61Tf9iHDDTukqekIv5d6yw=s64",
      "userId": "12690098908040894903"
     },
     "user_tz": -180
    },
    "id": "qEW7KRBdrrMC",
    "outputId": "1e2c66e2-9a72-4c4a-9431-14fb55842e88"
   },
   "outputs": [
    {
     "data": {
      "text/plain": [
       "• Мерил Стрип       17\n",
       "• Кэтрин Хепбёрн    12\n",
       "• Бетт Дейвис       11\n",
       "• Грир Гарсон        7\n",
       "• Джейн Фонда        6\n",
       "Name: actress, dtype: int64"
      ]
     },
     "execution_count": 21,
     "metadata": {
      "tags": []
     },
     "output_type": "execute_result"
    }
   ],
   "source": [
    "table_2['actress'].value_counts().head(5) #answer to second task, use in-build pandas method"
   ]
  },
  {
   "cell_type": "markdown",
   "metadata": {
    "id": "EbM0TgEdYbxe"
   },
   "source": [
    "1. Мерил Стрип чаще всего номинировалась на Оскар.\n",
    "2. Количество номинаций самой часто номинировавшейся актрисы и второй по частоте отличается на 5 (Мерил Стрип - 17, Кэтрин Хепбёрн - 12)"
   ]
  },
  {
   "cell_type": "markdown",
   "metadata": {
    "id": "H0cii0ci-rTE"
   },
   "source": [
    "## Задача 3\n",
    "\n",
    "Дана страница https://www.worldometers.info/world-population/world-population-by-year/\n",
    "\n",
    "На ней представлены данные о росте численности населения Земли. Используя удобные для вас модули Python (Например requests, bs4 и pandas, но можно и любые другие) сгрузить в удобную для вас структуру данных (например pandas-табличку) необходимые данные и нарисовать графики ежегодного прироста городского населения и ежегодного прироста общего населения, начиная с 1951 года. Если вы сгрузили данные в pandas-dataframe, графики можно построить так:"
   ]
  },
  {
   "cell_type": "code",
   "execution_count": 3,
   "metadata": {
    "colab": {
     "base_uri": "https://localhost:8080/"
    },
    "executionInfo": {
     "elapsed": 1619,
     "status": "ok",
     "timestamp": 1616241178726,
     "user": {
      "displayName": "Verschworer",
      "photoUrl": "https://lh3.googleusercontent.com/a-/AOh14GgQbkgItI8vPBHZtVqt61Tf9iHDDTukqekIv5d6yw=s64",
      "userId": "12690098908040894903"
     },
     "user_tz": -180
    },
    "id": "EiQoXvw0obtB",
    "outputId": "2b7b2768-0d4f-4807-f72f-12ee2cc8b144"
   },
   "outputs": [
    {
     "data": {
      "text/plain": [
       "1"
      ]
     },
     "execution_count": 3,
     "metadata": {},
     "output_type": "execute_result"
    }
   ],
   "source": [
    "url_3 = 'https://www.worldometers.info/world-population/world-population-by-year/'\n",
    "r_3 = requests.get(url_3)\n",
    "website = r_3.text\n",
    "\n",
    "tables_3 = pd.read_html(website, encoding=\"UTF-8\")\n",
    "len(tables_3)"
   ]
  },
  {
   "cell_type": "code",
   "execution_count": 4,
   "metadata": {
    "colab": {
     "base_uri": "https://localhost:8080/"
    },
    "executionInfo": {
     "elapsed": 1617,
     "status": "ok",
     "timestamp": 1616241178728,
     "user": {
      "displayName": "Verschworer",
      "photoUrl": "https://lh3.googleusercontent.com/a-/AOh14GgQbkgItI8vPBHZtVqt61Tf9iHDDTukqekIv5d6yw=s64",
      "userId": "12690098908040894903"
     },
     "user_tz": -180
    },
    "id": "xlRuO2wbZCZb",
    "outputId": "45a2e1f9-b0e8-42f7-833c-9a83cc292d97"
   },
   "outputs": [
    {
     "data": {
      "text/plain": [
       "Year                  int64\n",
       "World Population      int64\n",
       "YearlyChange         object\n",
       "NetChange           float64\n",
       "Density(P/Km²)      float64\n",
       "UrbanPop            float64\n",
       "UrbanPop %           object\n",
       "dtype: object"
      ]
     },
     "execution_count": 4,
     "metadata": {},
     "output_type": "execute_result"
    }
   ],
   "source": [
    "df = tables_3[0]\n",
    "df.dtypes"
   ]
  },
  {
   "cell_type": "code",
   "execution_count": 5,
   "metadata": {
    "colab": {
     "base_uri": "https://localhost:8080/",
     "height": 423
    },
    "executionInfo": {
     "elapsed": 1615,
     "status": "ok",
     "timestamp": 1616241178729,
     "user": {
      "displayName": "Verschworer",
      "photoUrl": "https://lh3.googleusercontent.com/a-/AOh14GgQbkgItI8vPBHZtVqt61Tf9iHDDTukqekIv5d6yw=s64",
      "userId": "12690098908040894903"
     },
     "user_tz": -180
    },
    "id": "eNXwJ7_nCCRy",
    "outputId": "cc91778d-af13-4e61-818c-7bc636e8978b"
   },
   "outputs": [
    {
     "data": {
      "text/html": [
       "<div>\n",
       "<style scoped>\n",
       "    .dataframe tbody tr th:only-of-type {\n",
       "        vertical-align: middle;\n",
       "    }\n",
       "\n",
       "    .dataframe tbody tr th {\n",
       "        vertical-align: top;\n",
       "    }\n",
       "\n",
       "    .dataframe thead th {\n",
       "        text-align: right;\n",
       "    }\n",
       "</style>\n",
       "<table border=\"1\" class=\"dataframe\">\n",
       "  <thead>\n",
       "    <tr style=\"text-align: right;\">\n",
       "      <th></th>\n",
       "      <th>Year</th>\n",
       "      <th>World Population</th>\n",
       "      <th>YearlyChange</th>\n",
       "      <th>NetChange</th>\n",
       "      <th>Density(P/Km²)</th>\n",
       "      <th>UrbanPop</th>\n",
       "      <th>UrbanPop %</th>\n",
       "    </tr>\n",
       "  </thead>\n",
       "  <tbody>\n",
       "    <tr>\n",
       "      <th>0</th>\n",
       "      <td>2020</td>\n",
       "      <td>7794798739</td>\n",
       "      <td>1.05 %</td>\n",
       "      <td>81330639.0</td>\n",
       "      <td>52.0</td>\n",
       "      <td>4.378994e+09</td>\n",
       "      <td>56 %</td>\n",
       "    </tr>\n",
       "    <tr>\n",
       "      <th>1</th>\n",
       "      <td>2019</td>\n",
       "      <td>7713468100</td>\n",
       "      <td>1.08 %</td>\n",
       "      <td>82377060.0</td>\n",
       "      <td>52.0</td>\n",
       "      <td>4.299439e+09</td>\n",
       "      <td>56 %</td>\n",
       "    </tr>\n",
       "    <tr>\n",
       "      <th>2</th>\n",
       "      <td>2018</td>\n",
       "      <td>7631091040</td>\n",
       "      <td>1.10 %</td>\n",
       "      <td>83232115.0</td>\n",
       "      <td>51.0</td>\n",
       "      <td>4.219817e+09</td>\n",
       "      <td>55 %</td>\n",
       "    </tr>\n",
       "    <tr>\n",
       "      <th>3</th>\n",
       "      <td>2017</td>\n",
       "      <td>7547858925</td>\n",
       "      <td>1.12 %</td>\n",
       "      <td>83836876.0</td>\n",
       "      <td>51.0</td>\n",
       "      <td>4.140189e+09</td>\n",
       "      <td>55 %</td>\n",
       "    </tr>\n",
       "    <tr>\n",
       "      <th>4</th>\n",
       "      <td>2016</td>\n",
       "      <td>7464022049</td>\n",
       "      <td>1.14 %</td>\n",
       "      <td>84224910.0</td>\n",
       "      <td>50.0</td>\n",
       "      <td>4.060653e+09</td>\n",
       "      <td>54 %</td>\n",
       "    </tr>\n",
       "    <tr>\n",
       "      <th>...</th>\n",
       "      <td>...</td>\n",
       "      <td>...</td>\n",
       "      <td>...</td>\n",
       "      <td>...</td>\n",
       "      <td>...</td>\n",
       "      <td>...</td>\n",
       "      <td>...</td>\n",
       "    </tr>\n",
       "    <tr>\n",
       "      <th>89</th>\n",
       "      <td>-1000</td>\n",
       "      <td>50000000</td>\n",
       "      <td>NaN</td>\n",
       "      <td>NaN</td>\n",
       "      <td>NaN</td>\n",
       "      <td>NaN</td>\n",
       "      <td>NaN</td>\n",
       "    </tr>\n",
       "    <tr>\n",
       "      <th>90</th>\n",
       "      <td>-2000</td>\n",
       "      <td>27000000</td>\n",
       "      <td>NaN</td>\n",
       "      <td>NaN</td>\n",
       "      <td>NaN</td>\n",
       "      <td>NaN</td>\n",
       "      <td>NaN</td>\n",
       "    </tr>\n",
       "    <tr>\n",
       "      <th>91</th>\n",
       "      <td>-3000</td>\n",
       "      <td>14000000</td>\n",
       "      <td>NaN</td>\n",
       "      <td>NaN</td>\n",
       "      <td>NaN</td>\n",
       "      <td>NaN</td>\n",
       "      <td>NaN</td>\n",
       "    </tr>\n",
       "    <tr>\n",
       "      <th>92</th>\n",
       "      <td>-4000</td>\n",
       "      <td>7000000</td>\n",
       "      <td>NaN</td>\n",
       "      <td>NaN</td>\n",
       "      <td>NaN</td>\n",
       "      <td>NaN</td>\n",
       "      <td>NaN</td>\n",
       "    </tr>\n",
       "    <tr>\n",
       "      <th>93</th>\n",
       "      <td>-5000</td>\n",
       "      <td>5000000</td>\n",
       "      <td>NaN</td>\n",
       "      <td>NaN</td>\n",
       "      <td>NaN</td>\n",
       "      <td>NaN</td>\n",
       "      <td>NaN</td>\n",
       "    </tr>\n",
       "  </tbody>\n",
       "</table>\n",
       "<p>94 rows × 7 columns</p>\n",
       "</div>"
      ],
      "text/plain": [
       "    Year  World Population YearlyChange   NetChange  Density(P/Km²)  \\\n",
       "0   2020        7794798739       1.05 %  81330639.0            52.0   \n",
       "1   2019        7713468100       1.08 %  82377060.0            52.0   \n",
       "2   2018        7631091040       1.10 %  83232115.0            51.0   \n",
       "3   2017        7547858925       1.12 %  83836876.0            51.0   \n",
       "4   2016        7464022049       1.14 %  84224910.0            50.0   \n",
       "..   ...               ...          ...         ...             ...   \n",
       "89 -1000          50000000          NaN         NaN             NaN   \n",
       "90 -2000          27000000          NaN         NaN             NaN   \n",
       "91 -3000          14000000          NaN         NaN             NaN   \n",
       "92 -4000           7000000          NaN         NaN             NaN   \n",
       "93 -5000           5000000          NaN         NaN             NaN   \n",
       "\n",
       "        UrbanPop UrbanPop %  \n",
       "0   4.378994e+09       56 %  \n",
       "1   4.299439e+09       56 %  \n",
       "2   4.219817e+09       55 %  \n",
       "3   4.140189e+09       55 %  \n",
       "4   4.060653e+09       54 %  \n",
       "..           ...        ...  \n",
       "89           NaN        NaN  \n",
       "90           NaN        NaN  \n",
       "91           NaN        NaN  \n",
       "92           NaN        NaN  \n",
       "93           NaN        NaN  \n",
       "\n",
       "[94 rows x 7 columns]"
      ]
     },
     "execution_count": 5,
     "metadata": {},
     "output_type": "execute_result"
    }
   ],
   "source": [
    "df"
   ]
  },
  {
   "cell_type": "code",
   "execution_count": 6,
   "metadata": {
    "id": "ti4w21lFyYjd"
   },
   "outputs": [],
   "source": [
    "# df.dropna(inplace=True)\n",
    "# import re\n",
    "# ch = []    \n",
    "# for values in df['YearlyChange']:\n",
    "#     ch.append(re.search(r'\\d\\.\\d+', values).group())\n",
    "\n",
    "\n",
    "# df['Change'] = ch\n",
    "# df['Change'] = df['Change'].astype(float)"
   ]
  },
  {
   "cell_type": "code",
   "execution_count": null,
   "metadata": {
    "id": "MyBr9drJAXKH"
   },
   "outputs": [],
   "source": [
    "# u = []    \n",
    "# for values in df['UrbanPop %']:\n",
    "#     u.append(re.search(r'\\d\\.*\\d+', values).group())\n",
    "# df['Urban'] = u\n",
    "# df['Urban'] = df['Urban'].astype(float)"
   ]
  },
  {
   "cell_type": "code",
   "execution_count": 7,
   "metadata": {
    "colab": {
     "base_uri": "https://localhost:8080/",
     "height": 423
    },
    "executionInfo": {
     "elapsed": 1606,
     "status": "ok",
     "timestamp": 1616241178731,
     "user": {
      "displayName": "Verschworer",
      "photoUrl": "https://lh3.googleusercontent.com/a-/AOh14GgQbkgItI8vPBHZtVqt61Tf9iHDDTukqekIv5d6yw=s64",
      "userId": "12690098908040894903"
     },
     "user_tz": -180
    },
    "id": "iNpmiSdDDHvk",
    "outputId": "f9089d7a-4bb9-4d2b-de5b-29d83f5ab345"
   },
   "outputs": [
    {
     "data": {
      "text/html": [
       "<div>\n",
       "<style scoped>\n",
       "    .dataframe tbody tr th:only-of-type {\n",
       "        vertical-align: middle;\n",
       "    }\n",
       "\n",
       "    .dataframe tbody tr th {\n",
       "        vertical-align: top;\n",
       "    }\n",
       "\n",
       "    .dataframe thead th {\n",
       "        text-align: right;\n",
       "    }\n",
       "</style>\n",
       "<table border=\"1\" class=\"dataframe\">\n",
       "  <thead>\n",
       "    <tr style=\"text-align: right;\">\n",
       "      <th></th>\n",
       "      <th>Year</th>\n",
       "      <th>World Population</th>\n",
       "      <th>YearlyChange</th>\n",
       "      <th>NetChange</th>\n",
       "      <th>Density(P/Km²)</th>\n",
       "      <th>UrbanPop</th>\n",
       "      <th>UrbanPop %</th>\n",
       "    </tr>\n",
       "  </thead>\n",
       "  <tbody>\n",
       "    <tr>\n",
       "      <th>0</th>\n",
       "      <td>2020</td>\n",
       "      <td>7794798739</td>\n",
       "      <td>1.05 %</td>\n",
       "      <td>81330639.0</td>\n",
       "      <td>52.0</td>\n",
       "      <td>4.378994e+09</td>\n",
       "      <td>56 %</td>\n",
       "    </tr>\n",
       "    <tr>\n",
       "      <th>1</th>\n",
       "      <td>2019</td>\n",
       "      <td>7713468100</td>\n",
       "      <td>1.08 %</td>\n",
       "      <td>82377060.0</td>\n",
       "      <td>52.0</td>\n",
       "      <td>4.299439e+09</td>\n",
       "      <td>56 %</td>\n",
       "    </tr>\n",
       "    <tr>\n",
       "      <th>2</th>\n",
       "      <td>2018</td>\n",
       "      <td>7631091040</td>\n",
       "      <td>1.10 %</td>\n",
       "      <td>83232115.0</td>\n",
       "      <td>51.0</td>\n",
       "      <td>4.219817e+09</td>\n",
       "      <td>55 %</td>\n",
       "    </tr>\n",
       "    <tr>\n",
       "      <th>3</th>\n",
       "      <td>2017</td>\n",
       "      <td>7547858925</td>\n",
       "      <td>1.12 %</td>\n",
       "      <td>83836876.0</td>\n",
       "      <td>51.0</td>\n",
       "      <td>4.140189e+09</td>\n",
       "      <td>55 %</td>\n",
       "    </tr>\n",
       "    <tr>\n",
       "      <th>4</th>\n",
       "      <td>2016</td>\n",
       "      <td>7464022049</td>\n",
       "      <td>1.14 %</td>\n",
       "      <td>84224910.0</td>\n",
       "      <td>50.0</td>\n",
       "      <td>4.060653e+09</td>\n",
       "      <td>54 %</td>\n",
       "    </tr>\n",
       "    <tr>\n",
       "      <th>...</th>\n",
       "      <td>...</td>\n",
       "      <td>...</td>\n",
       "      <td>...</td>\n",
       "      <td>...</td>\n",
       "      <td>...</td>\n",
       "      <td>...</td>\n",
       "      <td>...</td>\n",
       "    </tr>\n",
       "    <tr>\n",
       "      <th>65</th>\n",
       "      <td>1955</td>\n",
       "      <td>2773019936</td>\n",
       "      <td>1.77 %</td>\n",
       "      <td>48173195.0</td>\n",
       "      <td>19.0</td>\n",
       "      <td>8.770088e+08</td>\n",
       "      <td>32 %</td>\n",
       "    </tr>\n",
       "    <tr>\n",
       "      <th>66</th>\n",
       "      <td>1954</td>\n",
       "      <td>2724846741</td>\n",
       "      <td>1.76 %</td>\n",
       "      <td>47237781.0</td>\n",
       "      <td>18.0</td>\n",
       "      <td>8.501791e+08</td>\n",
       "      <td>31 %</td>\n",
       "    </tr>\n",
       "    <tr>\n",
       "      <th>67</th>\n",
       "      <td>1953</td>\n",
       "      <td>2677608960</td>\n",
       "      <td>1.78 %</td>\n",
       "      <td>46747398.0</td>\n",
       "      <td>18.0</td>\n",
       "      <td>8.242900e+08</td>\n",
       "      <td>31 %</td>\n",
       "    </tr>\n",
       "    <tr>\n",
       "      <th>68</th>\n",
       "      <td>1952</td>\n",
       "      <td>2630861562</td>\n",
       "      <td>1.81 %</td>\n",
       "      <td>46827301.0</td>\n",
       "      <td>18.0</td>\n",
       "      <td>7.992825e+08</td>\n",
       "      <td>30 %</td>\n",
       "    </tr>\n",
       "    <tr>\n",
       "      <th>69</th>\n",
       "      <td>1951</td>\n",
       "      <td>2584034261</td>\n",
       "      <td>1.88 %</td>\n",
       "      <td>47603112.0</td>\n",
       "      <td>17.0</td>\n",
       "      <td>7.750677e+08</td>\n",
       "      <td>30 %</td>\n",
       "    </tr>\n",
       "  </tbody>\n",
       "</table>\n",
       "<p>70 rows × 7 columns</p>\n",
       "</div>"
      ],
      "text/plain": [
       "    Year  World Population YearlyChange   NetChange  Density(P/Km²)  \\\n",
       "0   2020        7794798739       1.05 %  81330639.0            52.0   \n",
       "1   2019        7713468100       1.08 %  82377060.0            52.0   \n",
       "2   2018        7631091040       1.10 %  83232115.0            51.0   \n",
       "3   2017        7547858925       1.12 %  83836876.0            51.0   \n",
       "4   2016        7464022049       1.14 %  84224910.0            50.0   \n",
       "..   ...               ...          ...         ...             ...   \n",
       "65  1955        2773019936       1.77 %  48173195.0            19.0   \n",
       "66  1954        2724846741       1.76 %  47237781.0            18.0   \n",
       "67  1953        2677608960       1.78 %  46747398.0            18.0   \n",
       "68  1952        2630861562       1.81 %  46827301.0            18.0   \n",
       "69  1951        2584034261       1.88 %  47603112.0            17.0   \n",
       "\n",
       "        UrbanPop UrbanPop %  \n",
       "0   4.378994e+09       56 %  \n",
       "1   4.299439e+09       56 %  \n",
       "2   4.219817e+09       55 %  \n",
       "3   4.140189e+09       55 %  \n",
       "4   4.060653e+09       54 %  \n",
       "..           ...        ...  \n",
       "65  8.770088e+08       32 %  \n",
       "66  8.501791e+08       31 %  \n",
       "67  8.242900e+08       31 %  \n",
       "68  7.992825e+08       30 %  \n",
       "69  7.750677e+08       30 %  \n",
       "\n",
       "[70 rows x 7 columns]"
      ]
     },
     "execution_count": 7,
     "metadata": {},
     "output_type": "execute_result"
    }
   ],
   "source": [
    "df.drop(df.tail(24).index,inplace=True)\n",
    "df"
   ]
  },
  {
   "cell_type": "code",
   "execution_count": 8,
   "metadata": {
    "id": "VhfrV-yG1T4L"
   },
   "outputs": [],
   "source": [
    "# df['urban_change'] = df['UrbanPop'].diff(periods=-1).fillna(abs(df['UrbanPop'].diff(periods=1)))\n",
    "df['urban_change'] = df['UrbanPop'].diff(periods=-1)"
   ]
  },
  {
   "cell_type": "code",
   "execution_count": null,
   "metadata": {
    "id": "b-xfFM6wJaBA"
   },
   "outputs": [],
   "source": [
    "# df['urban_change'] = df['urban_change'].interpolate(method='linear')"
   ]
  },
  {
   "cell_type": "code",
   "execution_count": 9,
   "metadata": {
    "colab": {
     "base_uri": "https://localhost:8080/",
     "height": 423
    },
    "executionInfo": {
     "elapsed": 1599,
     "status": "ok",
     "timestamp": 1616241178732,
     "user": {
      "displayName": "Verschworer",
      "photoUrl": "https://lh3.googleusercontent.com/a-/AOh14GgQbkgItI8vPBHZtVqt61Tf9iHDDTukqekIv5d6yw=s64",
      "userId": "12690098908040894903"
     },
     "user_tz": -180
    },
    "id": "qjsYMFFrK_x5",
    "outputId": "6fcce862-bc07-420e-c636-29058a3f7ac7"
   },
   "outputs": [
    {
     "data": {
      "text/html": [
       "<div>\n",
       "<style scoped>\n",
       "    .dataframe tbody tr th:only-of-type {\n",
       "        vertical-align: middle;\n",
       "    }\n",
       "\n",
       "    .dataframe tbody tr th {\n",
       "        vertical-align: top;\n",
       "    }\n",
       "\n",
       "    .dataframe thead th {\n",
       "        text-align: right;\n",
       "    }\n",
       "</style>\n",
       "<table border=\"1\" class=\"dataframe\">\n",
       "  <thead>\n",
       "    <tr style=\"text-align: right;\">\n",
       "      <th></th>\n",
       "      <th>Year</th>\n",
       "      <th>World Population</th>\n",
       "      <th>YearlyChange</th>\n",
       "      <th>NetChange</th>\n",
       "      <th>Density(P/Km²)</th>\n",
       "      <th>UrbanPop</th>\n",
       "      <th>UrbanPop %</th>\n",
       "      <th>urban_change</th>\n",
       "    </tr>\n",
       "  </thead>\n",
       "  <tbody>\n",
       "    <tr>\n",
       "      <th>0</th>\n",
       "      <td>2020</td>\n",
       "      <td>7794798739</td>\n",
       "      <td>1.05 %</td>\n",
       "      <td>81330639.0</td>\n",
       "      <td>52.0</td>\n",
       "      <td>4.378994e+09</td>\n",
       "      <td>56 %</td>\n",
       "      <td>79555326.0</td>\n",
       "    </tr>\n",
       "    <tr>\n",
       "      <th>1</th>\n",
       "      <td>2019</td>\n",
       "      <td>7713468100</td>\n",
       "      <td>1.08 %</td>\n",
       "      <td>82377060.0</td>\n",
       "      <td>52.0</td>\n",
       "      <td>4.299439e+09</td>\n",
       "      <td>56 %</td>\n",
       "      <td>79621300.0</td>\n",
       "    </tr>\n",
       "    <tr>\n",
       "      <th>2</th>\n",
       "      <td>2018</td>\n",
       "      <td>7631091040</td>\n",
       "      <td>1.10 %</td>\n",
       "      <td>83232115.0</td>\n",
       "      <td>51.0</td>\n",
       "      <td>4.219817e+09</td>\n",
       "      <td>55 %</td>\n",
       "      <td>79628724.0</td>\n",
       "    </tr>\n",
       "    <tr>\n",
       "      <th>3</th>\n",
       "      <td>2017</td>\n",
       "      <td>7547858925</td>\n",
       "      <td>1.12 %</td>\n",
       "      <td>83836876.0</td>\n",
       "      <td>51.0</td>\n",
       "      <td>4.140189e+09</td>\n",
       "      <td>55 %</td>\n",
       "      <td>79535911.0</td>\n",
       "    </tr>\n",
       "    <tr>\n",
       "      <th>4</th>\n",
       "      <td>2016</td>\n",
       "      <td>7464022049</td>\n",
       "      <td>1.14 %</td>\n",
       "      <td>84224910.0</td>\n",
       "      <td>50.0</td>\n",
       "      <td>4.060653e+09</td>\n",
       "      <td>54 %</td>\n",
       "      <td>79155020.0</td>\n",
       "    </tr>\n",
       "    <tr>\n",
       "      <th>...</th>\n",
       "      <td>...</td>\n",
       "      <td>...</td>\n",
       "      <td>...</td>\n",
       "      <td>...</td>\n",
       "      <td>...</td>\n",
       "      <td>...</td>\n",
       "      <td>...</td>\n",
       "      <td>...</td>\n",
       "    </tr>\n",
       "    <tr>\n",
       "      <th>65</th>\n",
       "      <td>1955</td>\n",
       "      <td>2773019936</td>\n",
       "      <td>1.77 %</td>\n",
       "      <td>48173195.0</td>\n",
       "      <td>19.0</td>\n",
       "      <td>8.770088e+08</td>\n",
       "      <td>32 %</td>\n",
       "      <td>26829736.0</td>\n",
       "    </tr>\n",
       "    <tr>\n",
       "      <th>66</th>\n",
       "      <td>1954</td>\n",
       "      <td>2724846741</td>\n",
       "      <td>1.76 %</td>\n",
       "      <td>47237781.0</td>\n",
       "      <td>18.0</td>\n",
       "      <td>8.501791e+08</td>\n",
       "      <td>31 %</td>\n",
       "      <td>25889117.0</td>\n",
       "    </tr>\n",
       "    <tr>\n",
       "      <th>67</th>\n",
       "      <td>1953</td>\n",
       "      <td>2677608960</td>\n",
       "      <td>1.78 %</td>\n",
       "      <td>46747398.0</td>\n",
       "      <td>18.0</td>\n",
       "      <td>8.242900e+08</td>\n",
       "      <td>31 %</td>\n",
       "      <td>25007456.0</td>\n",
       "    </tr>\n",
       "    <tr>\n",
       "      <th>68</th>\n",
       "      <td>1952</td>\n",
       "      <td>2630861562</td>\n",
       "      <td>1.81 %</td>\n",
       "      <td>46827301.0</td>\n",
       "      <td>18.0</td>\n",
       "      <td>7.992825e+08</td>\n",
       "      <td>30 %</td>\n",
       "      <td>24214836.0</td>\n",
       "    </tr>\n",
       "    <tr>\n",
       "      <th>69</th>\n",
       "      <td>1951</td>\n",
       "      <td>2584034261</td>\n",
       "      <td>1.88 %</td>\n",
       "      <td>47603112.0</td>\n",
       "      <td>17.0</td>\n",
       "      <td>7.750677e+08</td>\n",
       "      <td>30 %</td>\n",
       "      <td>NaN</td>\n",
       "    </tr>\n",
       "  </tbody>\n",
       "</table>\n",
       "<p>70 rows × 8 columns</p>\n",
       "</div>"
      ],
      "text/plain": [
       "    Year  World Population YearlyChange   NetChange  Density(P/Km²)  \\\n",
       "0   2020        7794798739       1.05 %  81330639.0            52.0   \n",
       "1   2019        7713468100       1.08 %  82377060.0            52.0   \n",
       "2   2018        7631091040       1.10 %  83232115.0            51.0   \n",
       "3   2017        7547858925       1.12 %  83836876.0            51.0   \n",
       "4   2016        7464022049       1.14 %  84224910.0            50.0   \n",
       "..   ...               ...          ...         ...             ...   \n",
       "65  1955        2773019936       1.77 %  48173195.0            19.0   \n",
       "66  1954        2724846741       1.76 %  47237781.0            18.0   \n",
       "67  1953        2677608960       1.78 %  46747398.0            18.0   \n",
       "68  1952        2630861562       1.81 %  46827301.0            18.0   \n",
       "69  1951        2584034261       1.88 %  47603112.0            17.0   \n",
       "\n",
       "        UrbanPop UrbanPop %  urban_change  \n",
       "0   4.378994e+09       56 %    79555326.0  \n",
       "1   4.299439e+09       56 %    79621300.0  \n",
       "2   4.219817e+09       55 %    79628724.0  \n",
       "3   4.140189e+09       55 %    79535911.0  \n",
       "4   4.060653e+09       54 %    79155020.0  \n",
       "..           ...        ...           ...  \n",
       "65  8.770088e+08       32 %    26829736.0  \n",
       "66  8.501791e+08       31 %    25889117.0  \n",
       "67  8.242900e+08       31 %    25007456.0  \n",
       "68  7.992825e+08       30 %    24214836.0  \n",
       "69  7.750677e+08       30 %           NaN  \n",
       "\n",
       "[70 rows x 8 columns]"
      ]
     },
     "execution_count": 9,
     "metadata": {},
     "output_type": "execute_result"
    }
   ],
   "source": [
    "df"
   ]
  },
  {
   "cell_type": "code",
   "execution_count": null,
   "metadata": {
    "id": "TTCgSzQBzr5P"
   },
   "outputs": [],
   "source": [
    "# df.dropna(inplace=True)\n",
    "# df['UrbanPop'] = df['UrbanPop'].astype(int)\n",
    "# df['urban_change'] = df['urban_change'].astype(int)"
   ]
  },
  {
   "cell_type": "code",
   "execution_count": null,
   "metadata": {
    "id": "RjrGUv2qAy7_"
   },
   "outputs": [],
   "source": []
  },
  {
   "cell_type": "code",
   "execution_count": null,
   "metadata": {
    "colab": {
     "base_uri": "https://localhost:8080/",
     "height": 309
    },
    "executionInfo": {
     "elapsed": 2111,
     "status": "ok",
     "timestamp": 1616241179253,
     "user": {
      "displayName": "Verschworer",
      "photoUrl": "https://lh3.googleusercontent.com/a-/AOh14GgQbkgItI8vPBHZtVqt61Tf9iHDDTukqekIv5d6yw=s64",
      "userId": "12690098908040894903"
     },
     "user_tz": -180
    },
    "id": "uMhYB8zIDQDg",
    "outputId": "66e8d078-382c-4a2d-aca6-dce217886e68"
   },
   "outputs": [
    {
     "data": {
      "text/plain": [
       "<matplotlib.axes._subplots.AxesSubplot at 0x7fbd55059450>"
      ]
     },
     "execution_count": 291,
     "metadata": {
      "tags": []
     },
     "output_type": "execute_result"
    },
    {
     "data": {
      "image/png": "[encoded data removed]",
      "text/plain": [
       "<Figure size 432x288 with 1 Axes>"
      ]
     },
     "metadata": {
      "needs_background": "light",
      "tags": []
     },
     "output_type": "display_data"
    }
   ],
   "source": [
    "import matplotlib.pyplot as plt\n",
    "ax = plt.gca();\n",
    "\n",
    "df.plot(kind='line',x='Year',y='NetChange',ax=ax)\n",
    "df.plot(kind='line',x='Year',y='urban_change', color='red', ax=ax)\n",
    "# p_2 = df.plot(x='Year', y1='NetChange', y2='urban_change')"
   ]
  },
  {
   "cell_type": "code",
   "execution_count": null,
   "metadata": {
    "id": "t9IzqItMaWx2"
   },
   "outputs": [],
   "source": []
  }
 ],
 "metadata": {
  "colab": {
   "collapsed_sections": [],
   "name": "zubkov_hw4.ipynb",
   "provenance": [
    {
     "file_id": "https://github.com/pileyan/DPO_Python_2021/blob/main/Homework/hw4.ipynb",
     "timestamp": 1615839398745
    }
   ]
  },
  "kernelspec": {
   "display_name": "Python 3",
   "language": "python",
   "name": "python3"
  },
  "language_info": {
   "codemirror_mode": {
    "name": "ipython",
    "version": 3
   },
   "file_extension": ".py",
   "mimetype": "text/x-python",
   "name": "python",
   "nbconvert_exporter": "python",
   "pygments_lexer": "ipython3",
   "version": "3.8.3"
  },
  "toc": {
   "base_numbering": 1,
   "nav_menu": {},
   "number_sections": true,
   "sideBar": true,
   "skip_h1_title": false,
   "title_cell": "Table of Contents",
   "title_sidebar": "Contents",
   "toc_cell": false,
   "toc_position": {},
   "toc_section_display": true,
   "toc_window_display": false
  },
  "varInspector": {
   "cols": {
    "lenName": 16,
    "lenType": 16,
    "lenVar": 40
   },
   "kernels_config": {
    "python": {
     "delete_cmd_postfix": "",
     "delete_cmd_prefix": "del ",
     "library": "var_list.py",
     "varRefreshCmd": "print(var_dic_list())"
    },
    "r": {
     "delete_cmd_postfix": ") ",
     "delete_cmd_prefix": "rm(",
     "library": "var_list.r",
     "varRefreshCmd": "cat(var_dic_list()) "
    }
   },
   "types_to_exclude": [
    "module",
    "function",
    "builtin_function_or_method",
    "instance",
    "_Feature"
   ],
   "window_display": false
  }
 },
 "nbformat": 4,
 "nbformat_minor": 1
}
