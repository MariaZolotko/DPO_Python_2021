{
 "cells": [
  {
   "cell_type": "markdown",
   "metadata": {},
   "source": [
    "Центр непрерывного образования\n",
    "\n",
    "# Программа «Python для автоматизации и анализа данных»\n",
    "\n",
    "Неделя 3 - 1\n",
    "\n",
    "*Ян Пиле, НИУ ВШЭ*  \n"
   ]
  },
  {
   "cell_type": "markdown",
   "metadata": {},
   "source": [
    "## Задачи"
   ]
  },
  {
   "cell_type": "markdown",
   "metadata": {},
   "source": [
    "### Задача 1\n",
    "\n",
    "Дана строка, состоящая из слов. Сделать из нее аббревиатуру с помощью списковых включений\n",
    "\n",
    "**Вход:** \"Комитет Государственной Безопасности\"\n",
    "\n",
    "**Выход:** \"КГБ\""
   ]
  },
  {
   "cell_type": "code",
   "execution_count": 7,
   "metadata": {},
   "outputs": [
    {
     "name": "stdout",
     "output_type": "stream",
     "text": [
      "КГБ\n"
     ]
    }
   ],
   "source": [
    "text = \"Комитет Государственной Безопасности\"\n",
    "abr = ''\n",
    "\n",
    "# Решение\n",
    "words = text.split(\" \")\n",
    "for x in words:\n",
    "    if x[0].isupper():\n",
    "        abr = abr + x[0]\n",
    "    else:\n",
    "        print(\"Для формирования аббривиатуры требуются заглавные буквы, а я их не вижу\")\n",
    "print(abr)"
   ]
  },
  {
   "cell_type": "markdown",
   "metadata": {},
   "source": [
    "### Задача 2\n",
    "\n",
    "На вход принимается число N. \n",
    "\n",
    "Выведите на печать следующий паттерн:\n",
    "\n",
    "1\n",
    "\n",
    "1 2\n",
    "\n",
    "1 2 3\n",
    "\n",
    "1 2 3 4\n",
    "\n",
    "...\n",
    "\n",
    "1 ... N\n",
    "\n",
    "**Это не так просто)**"
   ]
  },
  {
   "cell_type": "code",
   "execution_count": 2,
   "metadata": {},
   "outputs": [
    {
     "name": "stdout",
     "output_type": "stream",
     "text": [
      "Введите натуральное число:6\n",
      "1\n",
      "1 2\n",
      "1 2 3\n",
      "1 2 3 4\n",
      "1 2 3 4 5\n",
      "1 2 3 4 5 6\n"
     ]
    }
   ],
   "source": [
    "numer = int(input(\"Введите натуральное число:\"))\n",
    "posl = []\n",
    "for i in range(1, numer+1):\n",
    "    posl.append(i)\n",
    "    print(' '.join(map(str, posl)))"
   ]
  },
  {
   "cell_type": "markdown",
   "metadata": {},
   "source": [
    "### Задача 3\n",
    "\n",
    "Дана строка. Замените в ней все буквы А на # с помощью спискового включения.\n"
   ]
  },
  {
   "cell_type": "code",
   "execution_count": 4,
   "metadata": {},
   "outputs": [
    {
     "name": "stdout",
     "output_type": "stream",
     "text": [
      "Введите строку:Апрпаа апрпа рпророп ааа\n",
      "#прп## #прп# рпророп ###\n"
     ]
    }
   ],
   "source": [
    "# вариант для русской раскладки\n",
    "\n",
    "import re\n",
    "stroka = input(\"Введите строку:\")\n",
    "vowels = 'аА'\n",
    "stroka_new = ''.join([i if i not in vowels else '#' for i in stroka])\n",
    "print(stroka_new)"
   ]
  },
  {
   "cell_type": "markdown",
   "metadata": {},
   "source": [
    "### Задача 4\n",
    "\n",
    "В математике существует так называемая последовательность чисел Фибоначчи. Выглядит она так: 1, 1, 2, 3, 5, 8, 13, ...\n",
    "\n",
    "Каждое последующее число равно сумме двух предыдущих, а первые два числа Фибоначчи - две единицы.\n",
    "Запросите с клавиатуры число N и запишите в список первые N чисел Фибоначчи."
   ]
  },
  {
   "cell_type": "code",
   "execution_count": 6,
   "metadata": {},
   "outputs": [
    {
     "name": "stdout",
     "output_type": "stream",
     "text": [
      "Введите целое число:6\n",
      "1, 1, 2, 3, 5, 8\n"
     ]
    }
   ],
   "source": [
    "numm = int(input('Введите целое число:'))\n",
    "seq_Fibonacci = list()\n",
    "for i in range(1, numm+1):\n",
    "    if i == 1:\n",
    "        seq_Fibonacci.insert(0, 1)\n",
    "    elif i == 2:\n",
    "        seq_Fibonacci.insert(1, 1)\n",
    "    else:\n",
    "        seq_Fibonacci.insert(i-1, seq_Fibonacci[i-2]+seq_Fibonacci[i-3])\n",
    "print(', '.join(map(str, seq_Fibonacci)))"
   ]
  },
  {
   "cell_type": "markdown",
   "metadata": {},
   "source": [
    "### Задача 5 Подсчет слов\n",
    "Давайте теперь поработаем с настоящим файлом и действительно посчитаем в нем слова. Мы загрузим метаданные почтового сервера университета Мичигана. И попробуем найти, с какого адреса ушло больше всего писем."
   ]
  },
  {
   "cell_type": "code",
   "execution_count": 24,
   "metadata": {},
   "outputs": [
    {
     "name": "stdout",
     "output_type": "stream",
     "text": [
      "{'zqian@umich.edu': 195}\n"
     ]
    }
   ],
   "source": [
    "# способ 1\n",
    "\n",
    "# импортируем библиотеку для доступа к файлам в интернете\n",
    "import requests\n",
    "import re\n",
    "import collections\n",
    "# в переменной mbox хранится текст для работы\n",
    "mbox = requests.get('http://www.py4inf.com/code/mbox.txt').text\n",
    "\n",
    "pattern = re.compile(\n",
    "    r'(?<=From\\s)[a-zA-Z0-9_.]+[@][a-zA-Z0-9]+\\.+[a-zA-Z.]+(?=\\s)')\n",
    "c = collections.Counter(re.findall(pattern, mbox))\n",
    "print(dict(c.most_common(1)))"
   ]
  },
  {
   "cell_type": "code",
   "execution_count": 23,
   "metadata": {},
   "outputs": [
    {
     "name": "stdout",
     "output_type": "stream",
     "text": [
      "{'zqian@umich.edu': 195}\n"
     ]
    }
   ],
   "source": [
    "# способ 2\n",
    "\n",
    "import requests\n",
    "import re\n",
    "import collections\n",
    "# в переменной mbox хранится текст для работы\n",
    "mbox = requests.get('http://www.py4inf.com/code/mbox.txt').text\n",
    "\n",
    "pattern = re.compile(\n",
    "    r'(?<=From\\s)[a-zA-Z0-9_.]+[@][a-zA-Z0-9]+\\.+[a-zA-Z.]+(?=\\s)')\n",
    "freq_mail = dict()\n",
    "for i in re.findall(pattern, mbox):\n",
    "    if i in freq_mail:\n",
    "        freq_mail[i] += 1\n",
    "    else:\n",
    "        freq_mail[i] = 1\n",
    "\n",
    "numm_max_freq_mail = 0\n",
    "max_freq_mail = {}\n",
    "for k, v in freq_mail.items():\n",
    "    if v > numm_max_freq_mail:\n",
    "        numm_max_freq_mail = v\n",
    "        max_freq_mail.clear()\n",
    "        max_freq_mail[k] = v\n",
    "print(max_freq_mail)"
   ]
  },
  {
   "cell_type": "markdown",
   "metadata": {},
   "source": [
    "### Задача 6 Посчитать среднюю метрику X-DSPAM-Confidence для письма. \n",
    "### (Кажется, это что-то похожее на вероятность того, что письмо - не спам)\n",
    "\n",
    "Давайте воспользуемся предыдущим кодом и достанем те строчки, где эта метрика записана:"
   ]
  },
  {
   "cell_type": "code",
   "execution_count": 25,
   "metadata": {},
   "outputs": [
    {
     "name": "stdout",
     "output_type": "stream",
     "text": [
      "0.8941280467445736\n"
     ]
    }
   ],
   "source": [
    "# импортируем библиотеку для доступа к файлам в интернете\n",
    "import requests\n",
    "# в переменной mbox хранится текст для работы\n",
    "mbox = requests.get('http://www.py4inf.com/code/mbox.txt').text\n",
    "pattern = re.compile(r'(?<=X-DSPAM-Confidence:[ ])[0-9.]+(?=\\s)')\n",
    "metrika = 0\n",
    "quantity = 0\n",
    "for i in re.findall(pattern, mbox):\n",
    "    metrika += float(i)\n",
    "    quantity += 1\n",
    "metrika_sr = metrika/quantity\n",
    "print(metrika_sr)"
   ]
  },
  {
   "cell_type": "markdown",
   "metadata": {},
   "source": [
    "### Задача 7 Объединение словарей\n",
    "\n",
    "Напишите программу, которая объединяет значения из двух списков. использовать d.get((ключ),что-то если ключа нет), либо плюсовать либо добавить новое...\n",
    "\n",
    "Ввод:\n",
    "\n",
    "    shops = [{'товар': 'яблоки', 'количество': 400}, {'товар': 'конфеты', 'количество': 300}, {'товар': 'яблоки', 'количество': 750}]\n",
    "\n",
    "\n",
    "Вывод:\n",
    "\n",
    "    {'яблоки': 1150, 'конфеты': 300}"
   ]
  },
  {
   "cell_type": "code",
   "execution_count": 39,
   "metadata": {},
   "outputs": [
    {
     "name": "stdout",
     "output_type": "stream",
     "text": [
      "{'яблоки': 850, 'конфеты': 300}\n"
     ]
    }
   ],
   "source": [
    "shops = [{'товар': 'яблоки', 'количество': 100},\n",
    "         {'товар': 'конфеты', 'количество': 300},\n",
    "         {'товар': 'яблоки', 'количество': 750}]\n",
    "products = {}\n",
    "for i in shops:\n",
    "    if i['товар'] in products:\n",
    "        products[i.get('товар')] += int(i.get('количество'))\n",
    "    else:\n",
    "        x = {i.get('товар'): i.get('количество')}\n",
    "        products.update(x)\n",
    "print(products)"
   ]
  },
  {
   "cell_type": "markdown",
   "metadata": {},
   "source": [
    "### Задача 8 Найти все числа от 1000 до 3000 включительно, все цифры которых четные.\n",
    "\n",
    "Программа должна выдавать результат в виде разделенной запятыми строки"
   ]
  },
  {
   "cell_type": "code",
   "execution_count": 40,
   "metadata": {},
   "outputs": [
    {
     "name": "stdout",
     "output_type": "stream",
     "text": [
      "2000, 2002, 2004, 2006, 2008, 2020, 2022, 2024, 2026, 2028, 2040, 2042, 2044, 2046, 2048, 2060, 2062, 2064, 2066, 2068, 2080, 2082, 2084, 2086, 2088, 2200, 2202, 2204, 2206, 2208, 2220, 2222, 2224, 2226, 2228, 2240, 2242, 2244, 2246, 2248, 2260, 2262, 2264, 2266, 2268, 2280, 2282, 2284, 2286, 2288, 2400, 2402, 2404, 2406, 2408, 2420, 2422, 2424, 2426, 2428, 2440, 2442, 2444, 2446, 2448, 2460, 2462, 2464, 2466, 2468, 2480, 2482, 2484, 2486, 2488, 2600, 2602, 2604, 2606, 2608, 2620, 2622, 2624, 2626, 2628, 2640, 2642, 2644, 2646, 2648, 2660, 2662, 2664, 2666, 2668, 2680, 2682, 2684, 2686, 2688, 2800, 2802, 2804, 2806, 2808, 2820, 2822, 2824, 2826, 2828, 2840, 2842, 2844, 2846, 2848, 2860, 2862, 2864, 2866, 2868, 2880, 2882, 2884, 2886, 2888\n"
     ]
    }
   ],
   "source": [
    "summ = 0\n",
    "lst = list()\n",
    "for i in range(1000, 3001):\n",
    "    a, b, c, d = [int(j) for j in str(i)]\n",
    "    if a % 2 == 0 and b % 2 == 0 and c % 2 == 0 and d % 2 == 0:\n",
    "        lst.append(i)\n",
    "print(', '.join(map(str, lst)))"
   ]
  },
  {
   "cell_type": "markdown",
   "metadata": {},
   "source": [
    "### Задача 9 Найти количество цифр и количество букв в строке\n",
    "\n",
    "Вход: \"абвгд 234\"\n",
    "\n",
    "\n",
    "Выход:\n",
    "\n",
    "    Цифры: 3\n",
    "    Буквы: 5"
   ]
  },
  {
   "cell_type": "code",
   "execution_count": 41,
   "metadata": {},
   "outputs": [
    {
     "name": "stdout",
     "output_type": "stream",
     "text": [
      "Введите строку: asdasd777 asdshd7 asds7\n",
      "Цифры: 5\n",
      "Буквы: 16\n"
     ]
    }
   ],
   "source": [
    "# вариант 1\n",
    "\n",
    "import re\n",
    "\n",
    "stroka = input(\"Введите строку: \")\n",
    "pattern1 = re.compile(r'([0-9])')\n",
    "pattern2 = re.compile(r'([a-zA-Zа-яА-ЯёЁ])')\n",
    "numm = len(re.findall(pattern1, stroka))\n",
    "buk = len(re.findall(pattern2, stroka))\n",
    "print(f\"Цифры: {numm}\")\n",
    "print(f\"Буквы: {buk}\")"
   ]
  },
  {
   "cell_type": "code",
   "execution_count": 42,
   "metadata": {},
   "outputs": [
    {
     "name": "stdout",
     "output_type": "stream",
     "text": [
      "Введите строку: adasd 6asds 667 \n",
      "Цифры: 4\n",
      "Буквы: 9\n"
     ]
    }
   ],
   "source": [
    "#вариант 2\n",
    "\n",
    "import re\n",
    "\n",
    "numm = 0\n",
    "buk = 0\n",
    "stroka = input(\"Введите строку: \")\n",
    "pattern1 = re.compile(r'([0-9])')\n",
    "pattern2 = re.compile(r'([a-zA-Zа-яА-ЯёЁ])')\n",
    "for i in stroka:\n",
    "    if re.findall(pattern1,i):\n",
    "        numm+=1\n",
    "    elif re.findall(pattern2,i):\n",
    "        buk+=1\n",
    "print(f\"Цифры: {numm}\")\n",
    "print(f\"Буквы: {buk}\")\n",
    "    "
   ]
  },
  {
   "cell_type": "markdown",
   "metadata": {},
   "source": [
    "### Задача 10 Найти частоту слов в строке. Строка вводится с клавиатуры, допустим, она разделена пробелами\n",
    "\n",
    "Вход: \"Я не кидал никого никогда\"\n",
    "\n",
    "\n",
    "Выход:\n",
    "\n",
    "    Я:1\n",
    "    не:1\n",
    "    кидал:1\n",
    "    никого:1\n",
    "    никогда:1"
   ]
  },
  {
   "cell_type": "code",
   "execution_count": 45,
   "metadata": {},
   "outputs": [
    {
     "name": "stdout",
     "output_type": "stream",
     "text": [
      "Введите строку:Я не кидал никого никогда\n",
      "Я:1\n",
      "не:1\n",
      "кидал:1\n",
      "никого:1\n",
      "никогда:1\n"
     ]
    }
   ],
   "source": [
    "import collections\n",
    "import re\n",
    "\n",
    "stroka = input(\"Введите строку:\")\n",
    "pattern = re.compile(r'\\b[a-zA-Zа-яА-ЯёЁ-]+\\b')\n",
    "c = collections.Counter(re.findall(pattern, stroka))\n",
    "for i in c:\n",
    "    print(f\"{i}:{c[i]}\")"
   ]
  },
  {
   "cell_type": "markdown",
   "metadata": {},
   "source": [
    "### Задача 11 Дан массив из чисел. Отсортируйте его, не используя встроенных функций. (циклами for, например). Ожидаю получить сортировку пузырьком) (два фор и условия)\n",
    "\n",
    "Вход: На вход дана последовательность из N случайных чисел. Например [48, 59, 9, 90, 15, 58, 19, 49, 13, 7]\n",
    "\n",
    "\n",
    "Выход:\n",
    "\n",
    "    Отсортированная последовательность [7, 9, 13, 15, 19, 48, 49, 58, 59, 90]"
   ]
  },
  {
   "cell_type": "code",
   "execution_count": 46,
   "metadata": {},
   "outputs": [
    {
     "name": "stdout",
     "output_type": "stream",
     "text": [
      "[19, 91, 16, 15, 52, 57, 16, 3, 47, 80]\n",
      "[3, 15, 16, 16, 19, 47, 52, 57, 80, 91]\n"
     ]
    }
   ],
   "source": [
    "from random import randint\n",
    "\n",
    "N = 10\n",
    "a = []\n",
    "for i in range(N):\n",
    "    a.append(randint(1, 99))\n",
    "print(a)\n",
    "\n",
    "# решение 1\n",
    "sort_a = []\n",
    "for j in range(N):\n",
    "    sort_a.append(min(a))\n",
    "    a.remove(min(a))\n",
    "print(sort_a)"
   ]
  },
  {
   "cell_type": "code",
   "execution_count": 47,
   "metadata": {},
   "outputs": [
    {
     "name": "stdout",
     "output_type": "stream",
     "text": [
      "[62, 21, 12, 46, 14, 32, 30, 95, 45, 71]\n",
      "[12, 14, 21, 30, 32, 45, 46, 62, 71, 95]\n"
     ]
    }
   ],
   "source": [
    "from random import randint\n",
    " \n",
    "N = 10\n",
    "a = []\n",
    "for i in range(N):\n",
    "    a.append(randint(1, 99))\n",
    "print(a)\n",
    "\n",
    "# решение 2\n",
    "j = 1\n",
    "for j in range(N - 1):\n",
    "    i = 0\n",
    "    for i in range(N -1-j):\n",
    "        if a[i] > a[i+1]:\n",
    "            a.insert(i+1,a.pop(i))\n",
    "            i += 1\n",
    "    j += 1\n",
    "print(a)"
   ]
  },
  {
   "cell_type": "markdown",
   "metadata": {},
   "source": [
    "### Задача 12 Про Поросёнка Петра\n",
    "\n",
    "На плоскости в точке (0,0) стоит Поросёнок Пётр. Он умеет ходить налево, направо, вверх и вниз. Расстояние его прохода в какую-либо сторону измеряется в шагах. Когда он идет вправо, его первая координата увеличивается, когда влево - уменьшается. Когда он идет вверх, его вторая координата увеличивается, а когда вниз - уменьшается. \n",
    "\n",
    "С клавиатуры считывается число N - число ходов, которые сделает Пётр. После чего на каждом шаге спрашивается, сколько шагов и в какую сторону за этот ход Пётр сделает. Так происходит, пока Пётр не осуществит все N ходов.\n",
    "\n",
    "Программа должна вывести, сколько шагов Пётр должен был бы сделать, чтобы кратчайшим путем прибыть из свое начальной точки (0,0) в свою конечную точку. Напоминание: Пётр умеет ходить только вверх-вниз, и влево-вправо, но не по диагонали.\n",
    "\n",
    "Пример ввода: \n",
    "\n",
    "    Введите N: 3\n",
    "    Ход 1: Вверх 1\n",
    "    Ход 2: Вниз 1\n",
    "    Ход 3: Вверх 1\n",
    "    \n",
    "Пример вывода:\n",
    "\n",
    "    Пётр находится на расстоянии 1 от (0,0)"
   ]
  },
  {
   "cell_type": "code",
   "execution_count": 48,
   "metadata": {},
   "outputs": [
    {
     "name": "stdout",
     "output_type": "stream",
     "text": [
      "Введите количество шагов: 3\n",
      "Ход 1: Вверх 1\n",
      "Ход 2: Вниз 1\n",
      "Ход 3: Вверх 1\n",
      "Пётр находится на расстоянии 1 от (0,0)\n"
     ]
    }
   ],
   "source": [
    "kolichestvo=int(input(\"Введите количество шагов: \"))\n",
    "x0 = 0\n",
    "y0 = 0\n",
    "x = 0\n",
    "y = 0\n",
    "i = 0\n",
    "for i in range(1,kolichestvo+1):\n",
    "    hod = (input(f\"Ход {i}: \").split(' '))\n",
    "    if hod[0].lower() == 'влево':\n",
    "        x -= int(hod[1])\n",
    "    elif hod[0].lower() == 'вправо':\n",
    "        x += (int(hod[1]))\n",
    "    elif hod[0].lower() == 'вверх':\n",
    "        y += (int(hod[1]))\n",
    "    elif hod[0].lower() == 'вниз':\n",
    "        y -= (int(hod[1]))\n",
    "    else:\n",
    "        print(\"Неверный ввод хода\")\n",
    "    i += 1\n",
    "L1 = abs(x - x0) + abs(y - y0)\n",
    "print(f'Пётр находится на расстоянии {L1} от (0,0)')"
   ]
  }
 ],
 "metadata": {
  "kernelspec": {
   "display_name": "Python 3",
   "language": "python",
   "name": "python3"
  },
  "language_info": {
   "codemirror_mode": {
    "name": "ipython",
    "version": 3
   },
   "file_extension": ".py",
   "mimetype": "text/x-python",
   "name": "python",
   "nbconvert_exporter": "python",
   "pygments_lexer": "ipython3",
   "version": "3.8.3"
  },
  "toc": {
   "base_numbering": 1,
   "nav_menu": {},
   "number_sections": true,
   "sideBar": true,
   "skip_h1_title": false,
   "title_cell": "Table of Contents",
   "title_sidebar": "Contents",
   "toc_cell": false,
   "toc_position": {},
   "toc_section_display": true,
   "toc_window_display": false
  },
  "varInspector": {
   "cols": {
    "lenName": 16,
    "lenType": 16,
    "lenVar": 40
   },
   "kernels_config": {
    "python": {
     "delete_cmd_postfix": "",
     "delete_cmd_prefix": "del ",
     "library": "var_list.py",
     "varRefreshCmd": "print(var_dic_list())"
    },
    "r": {
     "delete_cmd_postfix": ") ",
     "delete_cmd_prefix": "rm(",
     "library": "var_list.r",
     "varRefreshCmd": "cat(var_dic_list()) "
    }
   },
   "types_to_exclude": [
    "module",
    "function",
    "builtin_function_or_method",
    "instance",
    "_Feature"
   ],
   "window_display": false
  }
 },
 "nbformat": 4,
 "nbformat_minor": 2
}
