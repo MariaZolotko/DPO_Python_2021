{
 "cells": [
  {
   "cell_type": "markdown",
   "metadata": {
    "id": "Jml-RoSh-rS8"
   },
   "source": [
    "# Python для анализа данных\n",
    "\n",
    "## ДЗ 4\n",
    "\n",
    "*Придумывал: Ян Пиле, НИУ ВШЭ*  "
   ]
  },
  {
   "cell_type": "markdown",
   "metadata": {
    "id": "jZK-1TTp-rTA"
   },
   "source": [
    "## Задача 1\n",
    "\n",
    "Дана страница https://ru.wikipedia.org/wiki/Премия_«Оскар»_за_лучший_фильм#Достижения_по_другим_номинациям_Оскара\n",
    "\n",
    "Используя удобные для вас модули Python (Например requests, bs4 и pandas, но можно и любые другие) сгрузить в удобную для вас структуру данных (например pandas-табличку) данные о номинантах и победителях премии Оскар за лучший фильм за всю историю существования премии. Заметьте, на страничке эта информация в нескольких таблицах. По данным ответьте на вопросы. P.S. Результат нужно именно посчитать, если на странице в явном виде указан ответ на вопрос, просто выгрузить этот ответ нельзя:\n",
    "\n",
    "    1. Сколько раз были номинированы фильмы, созданные при участии Стивена Спилберга?\n",
    "    2. Фильмы какой компании получили больше Оскаров за лучший фильм: Warner Bros. или Paramount Pictures и насколько больше?"
   ]
  },
  {
   "cell_type": "code",
   "execution_count": 1,
   "metadata": {
    "colab": {
     "base_uri": "https://localhost:8080/"
    },
    "executionInfo": {
     "elapsed": 2126,
     "status": "ok",
     "timestamp": 1616004375802,
     "user": {
      "displayName": "Verschworer",
      "photoUrl": "https://lh3.googleusercontent.com/a-/AOh14GgQbkgItI8vPBHZtVqt61Tf9iHDDTukqekIv5d6yw=s64",
      "userId": "12690098908040894903"
     },
     "user_tz": -180
    },
    "id": "tbUeM5Lh-rTB",
    "outputId": "16dcdacb-85a7-4a68-fcd1-8703e044bf4b"
   },
   "outputs": [
    {
     "data": {
      "text/plain": [
       "21"
      ]
     },
     "execution_count": 1,
     "metadata": {},
     "output_type": "execute_result"
    }
   ],
   "source": [
    "import pandas as pd\n",
    "import requests\n",
    "\n",
    "url_1 = 'https://ru.wikipedia.org/wiki/Премия_«Оскар»_за_лучший_фильм#Достижения_по_другим_номинациям_Оскара'\n",
    "\n",
    "r_1 = requests.get(url_1)\n",
    "wiki_1 = r_1.text\n",
    "\n",
    "tables_1 = pd.read_html(wiki_1, encoding=\"UTF-8\")\n",
    "len(tables_1)"
   ]
  },
  {
   "cell_type": "code",
   "execution_count": null,
   "metadata": {
    "id": "pCDaLNWFlDM5"
   },
   "outputs": [],
   "source": [
    "# tables_1"
   ]
  },
  {
   "cell_type": "code",
   "execution_count": 2,
   "metadata": {
    "colab": {
     "base_uri": "https://localhost:8080/",
     "height": 423
    },
    "executionInfo": {
     "elapsed": 850,
     "status": "ok",
     "timestamp": 1616004380663,
     "user": {
      "displayName": "Verschworer",
      "photoUrl": "https://lh3.googleusercontent.com/a-/AOh14GgQbkgItI8vPBHZtVqt61Tf9iHDDTukqekIv5d6yw=s64",
      "userId": "12690098908040894903"
     },
     "user_tz": -180
    },
    "id": "uFq9vuIOiV5s",
    "outputId": "341821af-ee77-4de9-e685-496f890b90eb"
   },
   "outputs": [
    {
     "data": {
      "text/html": [
       "<div>\n",
       "<style scoped>\n",
       "    .dataframe tbody tr th:only-of-type {\n",
       "        vertical-align: middle;\n",
       "    }\n",
       "\n",
       "    .dataframe tbody tr th {\n",
       "        vertical-align: top;\n",
       "    }\n",
       "\n",
       "    .dataframe thead th {\n",
       "        text-align: right;\n",
       "    }\n",
       "</style>\n",
       "<table border=\"1\" class=\"dataframe\">\n",
       "  <thead>\n",
       "    <tr style=\"text-align: right;\">\n",
       "      <th></th>\n",
       "      <th>Год/Церемония</th>\n",
       "      <th>Фильм</th>\n",
       "      <th>Кинокомпания(и)</th>\n",
       "      <th>Продюсер(ы)</th>\n",
       "      <th>Ссылки</th>\n",
       "    </tr>\n",
       "  </thead>\n",
       "  <tbody>\n",
       "    <tr>\n",
       "      <th>0</th>\n",
       "      <td>2011 (83-я)</td>\n",
       "      <td>★ «Король говорит!»</td>\n",
       "      <td>The Weinstein Company</td>\n",
       "      <td>Эмиль Шерман, Йен Каннинг, Гарет Анвин</td>\n",
       "      <td>[# 83]</td>\n",
       "    </tr>\n",
       "    <tr>\n",
       "      <th>1</th>\n",
       "      <td>2011 (83-я)</td>\n",
       "      <td>«Чёрный лебедь»</td>\n",
       "      <td>Fox Searchlight Pictures</td>\n",
       "      <td>Скотт Фрэнклин, Майк Медавой, Брайан Оливер</td>\n",
       "      <td>[# 83]</td>\n",
       "    </tr>\n",
       "    <tr>\n",
       "      <th>2</th>\n",
       "      <td>2011 (83-я)</td>\n",
       "      <td>«Боец»</td>\n",
       "      <td>Paramount Pictures</td>\n",
       "      <td>Дэвид Хоберман, Тодд Либерман, Марк Уолберг</td>\n",
       "      <td>[# 83]</td>\n",
       "    </tr>\n",
       "    <tr>\n",
       "      <th>3</th>\n",
       "      <td>2011 (83-я)</td>\n",
       "      <td>«Начало»</td>\n",
       "      <td>Warner Bros.</td>\n",
       "      <td>Кристофер Нолан, Эмма Томас</td>\n",
       "      <td>[# 83]</td>\n",
       "    </tr>\n",
       "    <tr>\n",
       "      <th>4</th>\n",
       "      <td>2011 (83-я)</td>\n",
       "      <td>«Детки в порядке»</td>\n",
       "      <td>Focus Features</td>\n",
       "      <td>Гари Гилберт, Джеффри Леви-Хайнт, Селин Рэттрэй</td>\n",
       "      <td>[# 83]</td>\n",
       "    </tr>\n",
       "    <tr>\n",
       "      <th>...</th>\n",
       "      <td>...</td>\n",
       "      <td>...</td>\n",
       "      <td>...</td>\n",
       "      <td>...</td>\n",
       "      <td>...</td>\n",
       "    </tr>\n",
       "    <tr>\n",
       "      <th>83</th>\n",
       "      <td>2020 (92-я)</td>\n",
       "      <td>«Джокер»</td>\n",
       "      <td>NaN</td>\n",
       "      <td>Тодд Филлипс, Брэдли Купер и Эмма Тиллинджер К...</td>\n",
       "      <td>NaN</td>\n",
       "    </tr>\n",
       "    <tr>\n",
       "      <th>84</th>\n",
       "      <td>2020 (92-я)</td>\n",
       "      <td>«Маленькие женщины»</td>\n",
       "      <td>NaN</td>\n",
       "      <td>Эми Паскаль</td>\n",
       "      <td>NaN</td>\n",
       "    </tr>\n",
       "    <tr>\n",
       "      <th>85</th>\n",
       "      <td>2020 (92-я)</td>\n",
       "      <td>«Брачная история»</td>\n",
       "      <td>NaN</td>\n",
       "      <td>Ноа Баумбах и Дэвид Хейман</td>\n",
       "      <td>NaN</td>\n",
       "    </tr>\n",
       "    <tr>\n",
       "      <th>86</th>\n",
       "      <td>2020 (92-я)</td>\n",
       "      <td>«1917»</td>\n",
       "      <td>NaN</td>\n",
       "      <td>Сэм Мендес, Пиппа Харрис, Джейн‑Энн Тенггрен и...</td>\n",
       "      <td>NaN</td>\n",
       "    </tr>\n",
       "    <tr>\n",
       "      <th>87</th>\n",
       "      <td>2020 (92-я)</td>\n",
       "      <td>«Однажды в Голливуде»</td>\n",
       "      <td>NaN</td>\n",
       "      <td>Дэвид Хейман, Шеннон Макинтош и Квентин Тарантино</td>\n",
       "      <td>NaN</td>\n",
       "    </tr>\n",
       "  </tbody>\n",
       "</table>\n",
       "<p>88 rows × 5 columns</p>\n",
       "</div>"
      ],
      "text/plain": [
       "   Год/Церемония                  Фильм           Кинокомпания(и)  \\\n",
       "0    2011 (83-я)    ★ «Король говорит!»     The Weinstein Company   \n",
       "1    2011 (83-я)        «Чёрный лебедь»  Fox Searchlight Pictures   \n",
       "2    2011 (83-я)                 «Боец»        Paramount Pictures   \n",
       "3    2011 (83-я)               «Начало»              Warner Bros.   \n",
       "4    2011 (83-я)      «Детки в порядке»            Focus Features   \n",
       "..           ...                    ...                       ...   \n",
       "83   2020 (92-я)               «Джокер»                       NaN   \n",
       "84   2020 (92-я)    «Маленькие женщины»                       NaN   \n",
       "85   2020 (92-я)      «Брачная история»                       NaN   \n",
       "86   2020 (92-я)                 «1917»                       NaN   \n",
       "87   2020 (92-я)  «Однажды в Голливуде»                       NaN   \n",
       "\n",
       "                                          Продюсер(ы)  Ссылки  \n",
       "0              Эмиль Шерман, Йен Каннинг, Гарет Анвин  [# 83]  \n",
       "1         Скотт Фрэнклин, Майк Медавой, Брайан Оливер  [# 83]  \n",
       "2         Дэвид Хоберман, Тодд Либерман, Марк Уолберг  [# 83]  \n",
       "3                         Кристофер Нолан, Эмма Томас  [# 83]  \n",
       "4     Гари Гилберт, Джеффри Леви-Хайнт, Селин Рэттрэй  [# 83]  \n",
       "..                                                ...     ...  \n",
       "83  Тодд Филлипс, Брэдли Купер и Эмма Тиллинджер К...     NaN  \n",
       "84                                        Эми Паскаль     NaN  \n",
       "85                         Ноа Баумбах и Дэвид Хейман     NaN  \n",
       "86  Сэм Мендес, Пиппа Харрис, Джейн‑Энн Тенггрен и...     NaN  \n",
       "87  Дэвид Хейман, Шеннон Макинтош и Квентин Тарантино     NaN  \n",
       "\n",
       "[88 rows x 5 columns]"
      ]
     },
     "execution_count": 2,
     "metadata": {},
     "output_type": "execute_result"
    }
   ],
   "source": [
    "tables_1[9]"
   ]
  },
  {
   "cell_type": "code",
   "execution_count": 3,
   "metadata": {
    "colab": {
     "base_uri": "https://localhost:8080/",
     "height": 206
    },
    "executionInfo": {
     "elapsed": 1369,
     "status": "ok",
     "timestamp": 1616004385179,
     "user": {
      "displayName": "Verschworer",
      "photoUrl": "https://lh3.googleusercontent.com/a-/AOh14GgQbkgItI8vPBHZtVqt61Tf9iHDDTukqekIv5d6yw=s64",
      "userId": "12690098908040894903"
     },
     "user_tz": -180
    },
    "id": "LZBpa2Tjh11H",
    "outputId": "82c56a00-7acc-44db-e3d9-3efb67a8458a"
   },
   "outputs": [
    {
     "data": {
      "text/html": [
       "<div>\n",
       "<style scoped>\n",
       "    .dataframe tbody tr th:only-of-type {\n",
       "        vertical-align: middle;\n",
       "    }\n",
       "\n",
       "    .dataframe tbody tr th {\n",
       "        vertical-align: top;\n",
       "    }\n",
       "\n",
       "    .dataframe thead th {\n",
       "        text-align: right;\n",
       "    }\n",
       "</style>\n",
       "<table border=\"1\" class=\"dataframe\">\n",
       "  <thead>\n",
       "    <tr style=\"text-align: right;\">\n",
       "      <th></th>\n",
       "      <th>year</th>\n",
       "      <th>movie</th>\n",
       "      <th>company</th>\n",
       "      <th>producer</th>\n",
       "      <th>links</th>\n",
       "    </tr>\n",
       "  </thead>\n",
       "  <tbody>\n",
       "    <tr>\n",
       "      <th>0</th>\n",
       "      <td>1929 (1-я)</td>\n",
       "      <td>★ «Крылья»</td>\n",
       "      <td>Paramount Pictures, Famous Players-Lasky</td>\n",
       "      <td>Люсьен Хаббард</td>\n",
       "      <td>[# 1]</td>\n",
       "    </tr>\n",
       "    <tr>\n",
       "      <th>1</th>\n",
       "      <td>1929 (1-я)</td>\n",
       "      <td>«Рэкет»</td>\n",
       "      <td>Caddo, Paramount</td>\n",
       "      <td>Говард Хьюз</td>\n",
       "      <td>[# 1]</td>\n",
       "    </tr>\n",
       "    <tr>\n",
       "      <th>2</th>\n",
       "      <td>1929 (1-я)</td>\n",
       "      <td>«Седьмое небо»</td>\n",
       "      <td>Fox Film Corporation</td>\n",
       "      <td>Уильям Фокс</td>\n",
       "      <td>[# 1]</td>\n",
       "    </tr>\n",
       "    <tr>\n",
       "      <th>3</th>\n",
       "      <td>1930-I (2-я)</td>\n",
       "      <td>★ «Бродвейская мелодия»</td>\n",
       "      <td>Metro-Goldwyn-Mayer</td>\n",
       "      <td>Ирвинг Талберг, Лоуренс Уэйнгартен</td>\n",
       "      <td>[# 2]</td>\n",
       "    </tr>\n",
       "    <tr>\n",
       "      <th>4</th>\n",
       "      <td>1930-I (2-я)</td>\n",
       "      <td>«Алиби»</td>\n",
       "      <td>Feature Productions, United Artists</td>\n",
       "      <td>Роланд Уэст</td>\n",
       "      <td>[# 2]</td>\n",
       "    </tr>\n",
       "  </tbody>\n",
       "</table>\n",
       "</div>"
      ],
      "text/plain": [
       "           year                    movie  \\\n",
       "0    1929 (1-я)               ★ «Крылья»   \n",
       "1    1929 (1-я)                  «Рэкет»   \n",
       "2    1929 (1-я)           «Седьмое небо»   \n",
       "3  1930-I (2-я)  ★ «Бродвейская мелодия»   \n",
       "4  1930-I (2-я)                  «Алиби»   \n",
       "\n",
       "                                    company  \\\n",
       "0  Paramount Pictures, Famous Players-Lasky   \n",
       "1                          Caddo, Paramount   \n",
       "2                      Fox Film Corporation   \n",
       "3                       Metro-Goldwyn-Mayer   \n",
       "4       Feature Productions, United Artists   \n",
       "\n",
       "                             producer  links  \n",
       "0                      Люсьен Хаббард  [# 1]  \n",
       "1                         Говард Хьюз  [# 1]  \n",
       "2                         Уильям Фокс  [# 1]  \n",
       "3  Ирвинг Талберг, Лоуренс Уэйнгартен  [# 2]  \n",
       "4                         Роланд Уэст  [# 2]  "
      ]
     },
     "execution_count": 3,
     "metadata": {},
     "output_type": "execute_result"
    }
   ],
   "source": [
    "table_1 = pd.concat(tables_1[0:9])\n",
    "table_1.reset_index(drop=True, inplace=True)\n",
    "table_1.columns = ['year', 'movie', 'company', 'producer', 'links']\n",
    "# table_1 = table.drop(['year', 'movie', 'links'], axis='columns')\n",
    "table_1.head()"
   ]
  },
  {
   "cell_type": "code",
   "execution_count": 4,
   "metadata": {
    "colab": {
     "base_uri": "https://localhost:8080/"
    },
    "executionInfo": {
     "elapsed": 957,
     "status": "ok",
     "timestamp": 1616004389378,
     "user": {
      "displayName": "Verschworer",
      "photoUrl": "https://lh3.googleusercontent.com/a-/AOh14GgQbkgItI8vPBHZtVqt61Tf9iHDDTukqekIv5d6yw=s64",
      "userId": "12690098908040894903"
     },
     "user_tz": -180
    },
    "id": "qXIRRUamZYbM",
    "outputId": "278b95f3-6f4f-435e-8d64-b09ec1e80b69"
   },
   "outputs": [
    {
     "data": {
      "text/plain": [
       "[('Хэл Б. Уоллис', 19),\n",
       " ('Дэррил Фрэнсис Занук', 14),\n",
       " ('Хенри Блэнк', 9),\n",
       " ('Сэмюэл Голдвин', 8),\n",
       " ('Дэвид Селзник', 8),\n",
       " ('Фрэнк Капра', 7),\n",
       " ('Джек Уорнер', 6),\n",
       " ('Ирвинг Тальберг', 6),\n",
       " ('Джордж Стивенс', 6),\n",
       " ('Стэнли Крамер', 6),\n",
       " ('Стивен Спилберг', 6)]"
      ]
     },
     "execution_count": 4,
     "metadata": {},
     "output_type": "execute_result"
    }
   ],
   "source": [
    "from collections import Counter\n",
    "\n",
    "prod_lst = list([x for producer in [s.split(', ') for s in table_1['producer']] for x in producer])\n",
    "c4_1 = Counter(prod_lst)\n",
    "c4_1.most_common(11)"
   ]
  },
  {
   "cell_type": "code",
   "execution_count": 5,
   "metadata": {
    "colab": {
     "base_uri": "https://localhost:8080/"
    },
    "executionInfo": {
     "elapsed": 1217,
     "status": "ok",
     "timestamp": 1616006621675,
     "user": {
      "displayName": "Verschworer",
      "photoUrl": "https://lh3.googleusercontent.com/a-/AOh14GgQbkgItI8vPBHZtVqt61Tf9iHDDTukqekIv5d6yw=s64",
      "userId": "12690098908040894903"
     },
     "user_tz": -180
    },
    "id": "oFsYvZ_ijSe9",
    "outputId": "37f4a1b2-0df8-446e-d89b-ca9fb036af5a"
   },
   "outputs": [
    {
     "data": {
      "text/plain": [
       "6"
      ]
     },
     "execution_count": 5,
     "metadata": {},
     "output_type": "execute_result"
    }
   ],
   "source": [
    "table_1[table_1['producer'].str.contains(\"Стивен Спилберг\", na=True)]['movie'].count()"
   ]
  },
  {
   "cell_type": "markdown",
   "metadata": {
    "id": "w7j9vAjOgL0O"
   },
   "source": [
    "**6** раз были номинированы фильмы, созданные при участии Стивена Спилберга."
   ]
  },
  {
   "cell_type": "code",
   "execution_count": 13,
   "metadata": {
    "colab": {
     "base_uri": "https://localhost:8080/",
     "height": 423
    },
    "executionInfo": {
     "elapsed": 862,
     "status": "ok",
     "timestamp": 1616006439954,
     "user": {
      "displayName": "Verschworer",
      "photoUrl": "https://lh3.googleusercontent.com/a-/AOh14GgQbkgItI8vPBHZtVqt61Tf9iHDDTukqekIv5d6yw=s64",
      "userId": "12690098908040894903"
     },
     "user_tz": -180
    },
    "id": "SvsvDNMSazAr",
    "outputId": "237ed19b-4806-4ab3-a7e0-b86549d23370"
   },
   "outputs": [
    {
     "data": {
      "text/html": [
       "<div>\n",
       "<style scoped>\n",
       "    .dataframe tbody tr th:only-of-type {\n",
       "        vertical-align: middle;\n",
       "    }\n",
       "\n",
       "    .dataframe tbody tr th {\n",
       "        vertical-align: top;\n",
       "    }\n",
       "\n",
       "    .dataframe thead th {\n",
       "        text-align: right;\n",
       "    }\n",
       "</style>\n",
       "<table border=\"1\" class=\"dataframe\">\n",
       "  <thead>\n",
       "    <tr style=\"text-align: right;\">\n",
       "      <th></th>\n",
       "      <th>year</th>\n",
       "      <th>movie</th>\n",
       "      <th>company</th>\n",
       "      <th>producer</th>\n",
       "      <th>links</th>\n",
       "    </tr>\n",
       "  </thead>\n",
       "  <tbody>\n",
       "    <tr>\n",
       "      <th>0</th>\n",
       "      <td>1929 (1-я)</td>\n",
       "      <td>★ «Крылья»</td>\n",
       "      <td>Paramount Pictures, Famous Players-Lasky</td>\n",
       "      <td>Люсьен Хаббард</td>\n",
       "      <td>[# 1]</td>\n",
       "    </tr>\n",
       "    <tr>\n",
       "      <th>3</th>\n",
       "      <td>1930-I (2-я)</td>\n",
       "      <td>★ «Бродвейская мелодия»</td>\n",
       "      <td>Metro-Goldwyn-Mayer</td>\n",
       "      <td>Ирвинг Талберг, Лоуренс Уэйнгартен</td>\n",
       "      <td>[# 2]</td>\n",
       "    </tr>\n",
       "    <tr>\n",
       "      <th>8</th>\n",
       "      <td>1930-II (3-я)</td>\n",
       "      <td>★ «На западном фронте без перемен»</td>\n",
       "      <td>Universal</td>\n",
       "      <td>Карл Леммле-мл.</td>\n",
       "      <td>[# 3]</td>\n",
       "    </tr>\n",
       "    <tr>\n",
       "      <th>13</th>\n",
       "      <td>1931 (4-я)</td>\n",
       "      <td>★ «Симаррон»</td>\n",
       "      <td>RKO Radio Pictures</td>\n",
       "      <td>Уильям Лебарон</td>\n",
       "      <td>[# 4]</td>\n",
       "    </tr>\n",
       "    <tr>\n",
       "      <th>18</th>\n",
       "      <td>1932 (5-я)</td>\n",
       "      <td>★ «Гранд-отель»</td>\n",
       "      <td>Metro-Goldwyn-Mayer</td>\n",
       "      <td>Ирвинг Тальберг</td>\n",
       "      <td>[# 5]</td>\n",
       "    </tr>\n",
       "    <tr>\n",
       "      <th>...</th>\n",
       "      <td>...</td>\n",
       "      <td>...</td>\n",
       "      <td>...</td>\n",
       "      <td>...</td>\n",
       "      <td>...</td>\n",
       "    </tr>\n",
       "    <tr>\n",
       "      <th>445</th>\n",
       "      <td>2006 (78-я)</td>\n",
       "      <td>★ «Столкновение»</td>\n",
       "      <td>Lions Gate Entertainment</td>\n",
       "      <td>Пол Хаггис, Кэти Шульман</td>\n",
       "      <td>[# 78]</td>\n",
       "    </tr>\n",
       "    <tr>\n",
       "      <th>450</th>\n",
       "      <td>2007 (79-я)</td>\n",
       "      <td>★ «Отступники»</td>\n",
       "      <td>Warner Bros.</td>\n",
       "      <td>Грэм Кинг</td>\n",
       "      <td>[# 79]</td>\n",
       "    </tr>\n",
       "    <tr>\n",
       "      <th>455</th>\n",
       "      <td>2008 (80-я)</td>\n",
       "      <td>★ «Старикам тут не место»</td>\n",
       "      <td>Miramax Films, Paramount Vantage</td>\n",
       "      <td>Скотт Рудин, Итан Коэн, Джоэл Коэн</td>\n",
       "      <td>[# 80]</td>\n",
       "    </tr>\n",
       "    <tr>\n",
       "      <th>460</th>\n",
       "      <td>2009 (81-я)</td>\n",
       "      <td>★ «Миллионер из трущоб»</td>\n",
       "      <td>Fox Searchlight, Warner Bros.</td>\n",
       "      <td>Кристиан Колсон</td>\n",
       "      <td>[# 81]</td>\n",
       "    </tr>\n",
       "    <tr>\n",
       "      <th>465</th>\n",
       "      <td>2010 (82-я)</td>\n",
       "      <td>★ «Повелитель бури»</td>\n",
       "      <td>Summit Entertainment</td>\n",
       "      <td>Кэтрин Бигелоу, Марк Боал, Николас Шартье, Гре...</td>\n",
       "      <td>[# 82]</td>\n",
       "    </tr>\n",
       "  </tbody>\n",
       "</table>\n",
       "<p>82 rows × 5 columns</p>\n",
       "</div>"
      ],
      "text/plain": [
       "              year                               movie  \\\n",
       "0       1929 (1-я)                          ★ «Крылья»   \n",
       "3     1930-I (2-я)             ★ «Бродвейская мелодия»   \n",
       "8    1930-II (3-я)  ★ «На западном фронте без перемен»   \n",
       "13      1931 (4-я)                        ★ «Симаррон»   \n",
       "18      1932 (5-я)                     ★ «Гранд-отель»   \n",
       "..             ...                                 ...   \n",
       "445    2006 (78-я)                    ★ «Столкновение»   \n",
       "450    2007 (79-я)                      ★ «Отступники»   \n",
       "455    2008 (80-я)           ★ «Старикам тут не место»   \n",
       "460    2009 (81-я)             ★ «Миллионер из трущоб»   \n",
       "465    2010 (82-я)                 ★ «Повелитель бури»   \n",
       "\n",
       "                                      company  \\\n",
       "0    Paramount Pictures, Famous Players-Lasky   \n",
       "3                         Metro-Goldwyn-Mayer   \n",
       "8                                   Universal   \n",
       "13                         RKO Radio Pictures   \n",
       "18                        Metro-Goldwyn-Mayer   \n",
       "..                                        ...   \n",
       "445                  Lions Gate Entertainment   \n",
       "450                              Warner Bros.   \n",
       "455          Miramax Films, Paramount Vantage   \n",
       "460             Fox Searchlight, Warner Bros.   \n",
       "465                      Summit Entertainment   \n",
       "\n",
       "                                              producer   links  \n",
       "0                                       Люсьен Хаббард   [# 1]  \n",
       "3                   Ирвинг Талберг, Лоуренс Уэйнгартен   [# 2]  \n",
       "8                                      Карл Леммле-мл.   [# 3]  \n",
       "13                                      Уильям Лебарон   [# 4]  \n",
       "18                                     Ирвинг Тальберг   [# 5]  \n",
       "..                                                 ...     ...  \n",
       "445                           Пол Хаггис, Кэти Шульман  [# 78]  \n",
       "450                                          Грэм Кинг  [# 79]  \n",
       "455                 Скотт Рудин, Итан Коэн, Джоэл Коэн  [# 80]  \n",
       "460                                    Кристиан Колсон  [# 81]  \n",
       "465  Кэтрин Бигелоу, Марк Боал, Николас Шартье, Гре...  [# 82]  \n",
       "\n",
       "[82 rows x 5 columns]"
      ]
     },
     "execution_count": 13,
     "metadata": {},
     "output_type": "execute_result"
    }
   ],
   "source": [
    "winners_df = table_1[table_1['movie'].str.contains(\"★\", na=True)]\n",
    "winners_df"
   ]
  },
  {
   "cell_type": "code",
   "execution_count": 32,
   "metadata": {},
   "outputs": [
    {
     "name": "stdout",
     "output_type": "stream",
     "text": [
      "82\n",
      "0\n"
     ]
    },
    {
     "ename": "TypeError",
     "evalue": "expected string or bytes-like object",
     "output_type": "error",
     "traceback": [
      "\u001b[1;31m---------------------------------------------------------------------------\u001b[0m",
      "\u001b[1;31mTypeError\u001b[0m                                 Traceback (most recent call last)",
      "\u001b[1;32m<ipython-input-32-af0736f1c78e>\u001b[0m in \u001b[0;36m<module>\u001b[1;34m\u001b[0m\n\u001b[0;32m      5\u001b[0m \u001b[1;32mfor\u001b[0m \u001b[0mi\u001b[0m \u001b[1;32min\u001b[0m \u001b[0mrange\u001b[0m\u001b[1;33m(\u001b[0m\u001b[1;36m0\u001b[0m\u001b[1;33m,\u001b[0m\u001b[0mlen\u001b[0m\u001b[1;33m(\u001b[0m\u001b[0mcomp_lst\u001b[0m\u001b[1;33m)\u001b[0m\u001b[1;33m+\u001b[0m\u001b[1;36m1\u001b[0m\u001b[1;33m)\u001b[0m\u001b[1;33m:\u001b[0m\u001b[1;33m\u001b[0m\u001b[1;33m\u001b[0m\u001b[0m\n\u001b[0;32m      6\u001b[0m     \u001b[0mprint\u001b[0m\u001b[1;33m(\u001b[0m\u001b[0mcomp_lst\u001b[0m\u001b[1;33m[\u001b[0m\u001b[0mi\u001b[0m\u001b[1;33m]\u001b[0m\u001b[1;33m)\u001b[0m\u001b[1;33m\u001b[0m\u001b[1;33m\u001b[0m\u001b[0m\n\u001b[1;32m----> 7\u001b[1;33m     \u001b[0mpattern1\u001b[0m \u001b[1;33m=\u001b[0m \u001b[0mre\u001b[0m\u001b[1;33m.\u001b[0m\u001b[0mfindall\u001b[0m\u001b[1;33m(\u001b[0m\u001b[1;34mr\"[\\w.,\\s]*Warner Bros.[\\w.,\\s]*\"\u001b[0m\u001b[1;33m,\u001b[0m \u001b[0mcomp_lst\u001b[0m\u001b[1;33m[\u001b[0m\u001b[0mi\u001b[0m\u001b[1;33m]\u001b[0m\u001b[1;33m)\u001b[0m\u001b[1;33m\u001b[0m\u001b[1;33m\u001b[0m\u001b[0m\n\u001b[0m\u001b[0;32m      8\u001b[0m  \u001b[1;31m#   print(comp_lst[i])\u001b[0m\u001b[1;33m\u001b[0m\u001b[1;33m\u001b[0m\u001b[1;33m\u001b[0m\u001b[0m\n\u001b[0;32m      9\u001b[0m \u001b[1;31m#pattern1\u001b[0m\u001b[1;33m\u001b[0m\u001b[1;33m\u001b[0m\u001b[1;33m\u001b[0m\u001b[0m\n",
      "\u001b[1;32m~\\anaconda3\\lib\\re.py\u001b[0m in \u001b[0;36mfindall\u001b[1;34m(pattern, string, flags)\u001b[0m\n\u001b[0;32m    239\u001b[0m \u001b[1;33m\u001b[0m\u001b[0m\n\u001b[0;32m    240\u001b[0m     Empty matches are included in the result.\"\"\"\n\u001b[1;32m--> 241\u001b[1;33m     \u001b[1;32mreturn\u001b[0m \u001b[0m_compile\u001b[0m\u001b[1;33m(\u001b[0m\u001b[0mpattern\u001b[0m\u001b[1;33m,\u001b[0m \u001b[0mflags\u001b[0m\u001b[1;33m)\u001b[0m\u001b[1;33m.\u001b[0m\u001b[0mfindall\u001b[0m\u001b[1;33m(\u001b[0m\u001b[0mstring\u001b[0m\u001b[1;33m)\u001b[0m\u001b[1;33m\u001b[0m\u001b[1;33m\u001b[0m\u001b[0m\n\u001b[0m\u001b[0;32m    242\u001b[0m \u001b[1;33m\u001b[0m\u001b[0m\n\u001b[0;32m    243\u001b[0m \u001b[1;32mdef\u001b[0m \u001b[0mfinditer\u001b[0m\u001b[1;33m(\u001b[0m\u001b[0mpattern\u001b[0m\u001b[1;33m,\u001b[0m \u001b[0mstring\u001b[0m\u001b[1;33m,\u001b[0m \u001b[0mflags\u001b[0m\u001b[1;33m=\u001b[0m\u001b[1;36m0\u001b[0m\u001b[1;33m)\u001b[0m\u001b[1;33m:\u001b[0m\u001b[1;33m\u001b[0m\u001b[1;33m\u001b[0m\u001b[0m\n",
      "\u001b[1;31mTypeError\u001b[0m: expected string or bytes-like object"
     ]
    }
   ],
   "source": [
    "import re\n",
    "comp_lst = list(i for s in winners_df['company'])\n",
    "print(len(comp_lst))\n",
    "#comp_lst  = [x for x in comp_lst if str(x) != 'nan']\n",
    "for i in range(0,len(comp_lst)+1):\n",
    "    print(comp_lst[i])\n",
    "    pattern1 = re.findall(r\"[\\w.,\\s]*Warner Bros.[\\w.,\\s]*\", comp_lst[i])\n",
    " #   print(comp_lst[i])\n",
    "#pattern1\n"
   ]
  },
  {
   "cell_type": "code",
   "execution_count": 10,
   "metadata": {
    "colab": {
     "base_uri": "https://localhost:8080/"
    },
    "executionInfo": {
     "elapsed": 802,
     "status": "ok",
     "timestamp": 1616006502288,
     "user": {
      "displayName": "Verschworer",
      "photoUrl": "https://lh3.googleusercontent.com/a-/AOh14GgQbkgItI8vPBHZtVqt61Tf9iHDDTukqekIv5d6yw=s64",
      "userId": "12690098908040894903"
     },
     "user_tz": -180
    },
    "id": "OZSPJ3GBezQ2",
    "outputId": "d2f1e7af-dd07-48b4-a09c-0f3a770ad5a1"
   },
   "outputs": [
    {
     "data": {
      "text/plain": [
       "[('Columbia Pictures', 12),\n",
       " ('United Artists', 12),\n",
       " ('Paramount Pictures', 9),\n",
       " ('Metro-Goldwyn-Mayer', 9),\n",
       " ('Warner Bros.', 9)]"
      ]
     },
     "execution_count": 10,
     "metadata": {},
     "output_type": "execute_result"
    }
   ],
   "source": [
    "comp_lst = list([x for company in [s.split(', ') for s in winners_df['company']] for x in company])\n",
    "c4_2 = Counter(comp_lst)\n",
    "c4_2.most_common(5)"
   ]
  },
  {
   "cell_type": "markdown",
   "metadata": {
    "id": "xXCJqw9mgziT"
   },
   "source": [
    "Фильмы Warner Bros. получили на **26** Оскаров за лучший фильм больше чем фильмы Paramount Pictures. (72 против 46)"
   ]
  },
  {
   "cell_type": "markdown",
   "metadata": {
    "id": "6B7J8DW_-rTC"
   },
   "source": [
    "## Задача 2\n",
    "\n",
    "Дана страница https://ru.wikipedia.org/wiki/Премия_«Оскар»_за_лучшую_женскую_роль\n",
    "\n",
    "Используя удобные для вас модули Python (Например requests, bs4 и pandas, но можно и любые другие) сгрузить в удобную для вас структуру данных (например pandas-табличку) данные о номинантах и победителях премии Оскар за лучшую женскую роль за всю историю существования премии. Заметьте, на страничке эта информация в нескольких таблицах. По данным ответьте на вопросы. P.S. Результат нужно именно посчитать, если на странице в явном виде указан ответ на вопрос, просто выгрузить этот ответ нельзя:\n",
    "\n",
    "    1. Какая актриса чаще всего номинировалась на Оскар?\n",
    "    2. Насколько отличается количество номинаций самой часто номинировавшейся актрисы и второй по частоте?"
   ]
  },
  {
   "cell_type": "code",
   "execution_count": null,
   "metadata": {
    "colab": {
     "base_uri": "https://localhost:8080/"
    },
    "executionInfo": {
     "elapsed": 2276,
     "status": "ok",
     "timestamp": 1616004528493,
     "user": {
      "displayName": "Verschworer",
      "photoUrl": "https://lh3.googleusercontent.com/a-/AOh14GgQbkgItI8vPBHZtVqt61Tf9iHDDTukqekIv5d6yw=s64",
      "userId": "12690098908040894903"
     },
     "user_tz": -180
    },
    "id": "muLL3or0-rTD",
    "outputId": "13635fd2-3b1a-49d4-b290-22f86f4d90d0"
   },
   "outputs": [
    {
     "data": {
      "text/plain": [
       "18"
      ]
     },
     "execution_count": 8,
     "metadata": {
      "tags": []
     },
     "output_type": "execute_result"
    }
   ],
   "source": [
    "url_2 = 'https://ru.wikipedia.org/wiki/Премия_«Оскар»_за_лучшую_женскую_роль'\n",
    "r_2 = requests.get(url_2)\n",
    "wiki_2 = r_2.text\n",
    "\n",
    "tables_2 = pd.read_html(wiki_2, encoding=\"UTF-8\")\n",
    "len(tables_2)"
   ]
  },
  {
   "cell_type": "code",
   "execution_count": null,
   "metadata": {
    "id": "uAlRvGh7m_At"
   },
   "outputs": [],
   "source": [
    "# tables_2"
   ]
  },
  {
   "cell_type": "code",
   "execution_count": null,
   "metadata": {
    "colab": {
     "base_uri": "https://localhost:8080/",
     "height": 614
    },
    "executionInfo": {
     "elapsed": 1585,
     "status": "ok",
     "timestamp": 1616004534769,
     "user": {
      "displayName": "Verschworer",
      "photoUrl": "https://lh3.googleusercontent.com/a-/AOh14GgQbkgItI8vPBHZtVqt61Tf9iHDDTukqekIv5d6yw=s64",
      "userId": "12690098908040894903"
     },
     "user_tz": -180
    },
    "id": "keO4xbP7odyh",
    "outputId": "3fa4515e-798f-42e6-e611-8342a62c76cf"
   },
   "outputs": [
    {
     "data": {
      "text/html": [
       "<div>\n",
       "<style scoped>\n",
       "    .dataframe tbody tr th:only-of-type {\n",
       "        vertical-align: middle;\n",
       "    }\n",
       "\n",
       "    .dataframe tbody tr th {\n",
       "        vertical-align: top;\n",
       "    }\n",
       "\n",
       "    .dataframe thead th {\n",
       "        text-align: right;\n",
       "    }\n",
       "</style>\n",
       "<table border=\"1\" class=\"dataframe\">\n",
       "  <thead>\n",
       "    <tr style=\"text-align: right;\">\n",
       "      <th></th>\n",
       "      <th>Церемония</th>\n",
       "      <th>Фото лауреата</th>\n",
       "      <th>Актриса</th>\n",
       "      <th>Фильм(ы)</th>\n",
       "      <th>Роль</th>\n",
       "    </tr>\n",
       "  </thead>\n",
       "  <tbody>\n",
       "    <tr>\n",
       "      <th>0</th>\n",
       "      <td>1-я (1929)</td>\n",
       "      <td>NaN</td>\n",
       "      <td>• Джанет Гейнор</td>\n",
       "      <td>«Седьмое небо»</td>\n",
       "      <td>Дайана</td>\n",
       "    </tr>\n",
       "    <tr>\n",
       "      <th>1</th>\n",
       "      <td>1-я (1929)</td>\n",
       "      <td>NaN</td>\n",
       "      <td>• Джанет Гейнор</td>\n",
       "      <td>«Уличный ангел»</td>\n",
       "      <td>Анджела</td>\n",
       "    </tr>\n",
       "    <tr>\n",
       "      <th>2</th>\n",
       "      <td>1-я (1929)</td>\n",
       "      <td>NaN</td>\n",
       "      <td>• Джанет Гейнор</td>\n",
       "      <td>«Восход солнца»</td>\n",
       "      <td>жена</td>\n",
       "    </tr>\n",
       "    <tr>\n",
       "      <th>3</th>\n",
       "      <td>1-я (1929)</td>\n",
       "      <td>NaN</td>\n",
       "      <td>• Луиза Дрессер</td>\n",
       "      <td>«Корабль приплывает»</td>\n",
       "      <td>миссис Плезник</td>\n",
       "    </tr>\n",
       "    <tr>\n",
       "      <th>4</th>\n",
       "      <td>1-я (1929)</td>\n",
       "      <td>NaN</td>\n",
       "      <td>• Глория Свенсон</td>\n",
       "      <td>«Сэди Томпсон»</td>\n",
       "      <td>Сэди Томпсон</td>\n",
       "    </tr>\n",
       "    <tr>\n",
       "      <th>5</th>\n",
       "      <td>2-я (1930-I)</td>\n",
       "      <td>NaN</td>\n",
       "      <td>• Мэри Пикфорд</td>\n",
       "      <td>«Кокетка»</td>\n",
       "      <td>Норма Безант</td>\n",
       "    </tr>\n",
       "    <tr>\n",
       "      <th>6</th>\n",
       "      <td>2-я (1930-I)</td>\n",
       "      <td>NaN</td>\n",
       "      <td>• Рут Чаттертон</td>\n",
       "      <td>«Мадам Икс»</td>\n",
       "      <td>Жаклин Флорио</td>\n",
       "    </tr>\n",
       "    <tr>\n",
       "      <th>7</th>\n",
       "      <td>2-я (1930-I)</td>\n",
       "      <td>NaN</td>\n",
       "      <td>• Бетти Компсон</td>\n",
       "      <td>«Зазывала»</td>\n",
       "      <td>Кэрри</td>\n",
       "    </tr>\n",
       "    <tr>\n",
       "      <th>8</th>\n",
       "      <td>2-я (1930-I)</td>\n",
       "      <td>NaN</td>\n",
       "      <td>• Джинн Иглс (посмертно)</td>\n",
       "      <td>«Письмо»</td>\n",
       "      <td>Лесли Кросби</td>\n",
       "    </tr>\n",
       "    <tr>\n",
       "      <th>9</th>\n",
       "      <td>2-я (1930-I)</td>\n",
       "      <td>NaN</td>\n",
       "      <td>• Коринна Гриффит</td>\n",
       "      <td>«Божественная леди»</td>\n",
       "      <td>леди Эмма Гамильтон</td>\n",
       "    </tr>\n",
       "    <tr>\n",
       "      <th>10</th>\n",
       "      <td>2-я (1930-I)</td>\n",
       "      <td>NaN</td>\n",
       "      <td>• Бесси Лав</td>\n",
       "      <td>«Бродвейская мелодия»</td>\n",
       "      <td>Хэнк Махони</td>\n",
       "    </tr>\n",
       "    <tr>\n",
       "      <th>11</th>\n",
       "      <td>3-я (1930-II)</td>\n",
       "      <td>NaN</td>\n",
       "      <td>• Норма Ширер</td>\n",
       "      <td>«Развод»</td>\n",
       "      <td>Джерри Бернард Мартин</td>\n",
       "    </tr>\n",
       "    <tr>\n",
       "      <th>12</th>\n",
       "      <td>3-я (1930-II)</td>\n",
       "      <td>NaN</td>\n",
       "      <td>• Нэнси Кэрролл</td>\n",
       "      <td>«Торжество дьявола»</td>\n",
       "      <td>Хэлли Хобарт</td>\n",
       "    </tr>\n",
       "    <tr>\n",
       "      <th>13</th>\n",
       "      <td>3-я (1930-II)</td>\n",
       "      <td>NaN</td>\n",
       "      <td>• Рут Чаттертон</td>\n",
       "      <td>«Сара и сын»</td>\n",
       "      <td>Сара Сторм</td>\n",
       "    </tr>\n",
       "    <tr>\n",
       "      <th>14</th>\n",
       "      <td>3-я (1930-II)</td>\n",
       "      <td>NaN</td>\n",
       "      <td>• Грета Гарбо</td>\n",
       "      <td>«Анна Кристи»</td>\n",
       "      <td>Анна Кристи</td>\n",
       "    </tr>\n",
       "    <tr>\n",
       "      <th>15</th>\n",
       "      <td>3-я (1930-II)</td>\n",
       "      <td>NaN</td>\n",
       "      <td>• Грета Гарбо</td>\n",
       "      <td>«Роман»</td>\n",
       "      <td>Рита Каваллини</td>\n",
       "    </tr>\n",
       "    <tr>\n",
       "      <th>16</th>\n",
       "      <td>3-я (1930-II)</td>\n",
       "      <td>NaN</td>\n",
       "      <td>• Норма Ширер</td>\n",
       "      <td>«Их собственное желание»</td>\n",
       "      <td>Люсия «Лалли» Марлетт</td>\n",
       "    </tr>\n",
       "    <tr>\n",
       "      <th>17</th>\n",
       "      <td>3-я (1930-II)</td>\n",
       "      <td>NaN</td>\n",
       "      <td>• Глория Свенсон</td>\n",
       "      <td>«Правонарушительница»</td>\n",
       "      <td>Марион Доннелл</td>\n",
       "    </tr>\n",
       "  </tbody>\n",
       "</table>\n",
       "</div>"
      ],
      "text/plain": [
       "        Церемония  ...                   Роль\n",
       "0      1-я (1929)  ...                 Дайана\n",
       "1      1-я (1929)  ...                Анджела\n",
       "2      1-я (1929)  ...                   жена\n",
       "3      1-я (1929)  ...         миссис Плезник\n",
       "4      1-я (1929)  ...           Сэди Томпсон\n",
       "5    2-я (1930-I)  ...           Норма Безант\n",
       "6    2-я (1930-I)  ...          Жаклин Флорио\n",
       "7    2-я (1930-I)  ...                  Кэрри\n",
       "8    2-я (1930-I)  ...           Лесли Кросби\n",
       "9    2-я (1930-I)  ...    леди Эмма Гамильтон\n",
       "10   2-я (1930-I)  ...            Хэнк Махони\n",
       "11  3-я (1930-II)  ...  Джерри Бернард Мартин\n",
       "12  3-я (1930-II)  ...           Хэлли Хобарт\n",
       "13  3-я (1930-II)  ...             Сара Сторм\n",
       "14  3-я (1930-II)  ...            Анна Кристи\n",
       "15  3-я (1930-II)  ...         Рита Каваллини\n",
       "16  3-я (1930-II)  ...  Люсия «Лалли» Марлетт\n",
       "17  3-я (1930-II)  ...         Марион Доннелл\n",
       "\n",
       "[18 rows x 5 columns]"
      ]
     },
     "execution_count": 10,
     "metadata": {
      "tags": []
     },
     "output_type": "execute_result"
    }
   ],
   "source": [
    "tables_2[2]"
   ]
  },
  {
   "cell_type": "code",
   "execution_count": null,
   "metadata": {
    "colab": {
     "base_uri": "https://localhost:8080/"
    },
    "executionInfo": {
     "elapsed": 1200,
     "status": "ok",
     "timestamp": 1616004539177,
     "user": {
      "displayName": "Verschworer",
      "photoUrl": "https://lh3.googleusercontent.com/a-/AOh14GgQbkgItI8vPBHZtVqt61Tf9iHDDTukqekIv5d6yw=s64",
      "userId": "12690098908040894903"
     },
     "user_tz": -180
    },
    "id": "OTObsPDdpAAc",
    "outputId": "f23a3531-fe14-4416-bee8-8022c67f7093"
   },
   "outputs": [
    {
     "data": {
      "text/plain": [
       "0"
      ]
     },
     "execution_count": 11,
     "metadata": {
      "tags": []
     },
     "output_type": "execute_result"
    }
   ],
   "source": [
    "table_2 = pd.concat(tables_2[2:11])\n",
    "table_2.reset_index(drop=True, inplace=True)\n",
    "table_2.columns = ['year', 'foto', 'actress', 'movie', 'role', 'drop_1', 'drop_2']\n",
    "table_2 = table_2.drop(['foto', 'drop_1', 'drop_2'], axis='columns')\n",
    "table_2['actress'].isna().sum()"
   ]
  },
  {
   "cell_type": "code",
   "execution_count": null,
   "metadata": {
    "colab": {
     "base_uri": "https://localhost:8080/",
     "height": 206
    },
    "executionInfo": {
     "elapsed": 969,
     "status": "ok",
     "timestamp": 1616004546546,
     "user": {
      "displayName": "Verschworer",
      "photoUrl": "https://lh3.googleusercontent.com/a-/AOh14GgQbkgItI8vPBHZtVqt61Tf9iHDDTukqekIv5d6yw=s64",
      "userId": "12690098908040894903"
     },
     "user_tz": -180
    },
    "id": "J7CaHYdYrSAd",
    "outputId": "5ce27a65-253a-4252-f62a-7cbddedadbb2"
   },
   "outputs": [
    {
     "data": {
      "text/html": [
       "<div>\n",
       "<style scoped>\n",
       "    .dataframe tbody tr th:only-of-type {\n",
       "        vertical-align: middle;\n",
       "    }\n",
       "\n",
       "    .dataframe tbody tr th {\n",
       "        vertical-align: top;\n",
       "    }\n",
       "\n",
       "    .dataframe thead th {\n",
       "        text-align: right;\n",
       "    }\n",
       "</style>\n",
       "<table border=\"1\" class=\"dataframe\">\n",
       "  <thead>\n",
       "    <tr style=\"text-align: right;\">\n",
       "      <th></th>\n",
       "      <th>year</th>\n",
       "      <th>actress</th>\n",
       "      <th>movie</th>\n",
       "      <th>role</th>\n",
       "    </tr>\n",
       "  </thead>\n",
       "  <tbody>\n",
       "    <tr>\n",
       "      <th>0</th>\n",
       "      <td>1-я (1929)</td>\n",
       "      <td>• Джанет Гейнор</td>\n",
       "      <td>«Седьмое небо»</td>\n",
       "      <td>Дайана</td>\n",
       "    </tr>\n",
       "    <tr>\n",
       "      <th>1</th>\n",
       "      <td>1-я (1929)</td>\n",
       "      <td>• Джанет Гейнор</td>\n",
       "      <td>«Уличный ангел»</td>\n",
       "      <td>Анджела</td>\n",
       "    </tr>\n",
       "    <tr>\n",
       "      <th>2</th>\n",
       "      <td>1-я (1929)</td>\n",
       "      <td>• Джанет Гейнор</td>\n",
       "      <td>«Восход солнца»</td>\n",
       "      <td>жена</td>\n",
       "    </tr>\n",
       "    <tr>\n",
       "      <th>3</th>\n",
       "      <td>1-я (1929)</td>\n",
       "      <td>• Луиза Дрессер</td>\n",
       "      <td>«Корабль приплывает»</td>\n",
       "      <td>миссис Плезник</td>\n",
       "    </tr>\n",
       "    <tr>\n",
       "      <th>4</th>\n",
       "      <td>1-я (1929)</td>\n",
       "      <td>• Глория Свенсон</td>\n",
       "      <td>«Сэди Томпсон»</td>\n",
       "      <td>Сэди Томпсон</td>\n",
       "    </tr>\n",
       "  </tbody>\n",
       "</table>\n",
       "</div>"
      ],
      "text/plain": [
       "         year           actress                 movie            role\n",
       "0  1-я (1929)   • Джанет Гейнор        «Седьмое небо»          Дайана\n",
       "1  1-я (1929)   • Джанет Гейнор       «Уличный ангел»         Анджела\n",
       "2  1-я (1929)   • Джанет Гейнор       «Восход солнца»            жена\n",
       "3  1-я (1929)   • Луиза Дрессер  «Корабль приплывает»  миссис Плезник\n",
       "4  1-я (1929)  • Глория Свенсон        «Сэди Томпсон»    Сэди Томпсон"
      ]
     },
     "execution_count": 12,
     "metadata": {
      "tags": []
     },
     "output_type": "execute_result"
    }
   ],
   "source": [
    "table_2.head()"
   ]
  },
  {
   "cell_type": "code",
   "execution_count": null,
   "metadata": {
    "colab": {
     "base_uri": "https://localhost:8080/"
    },
    "executionInfo": {
     "elapsed": 804,
     "status": "ok",
     "timestamp": 1616004584531,
     "user": {
      "displayName": "Verschworer",
      "photoUrl": "https://lh3.googleusercontent.com/a-/AOh14GgQbkgItI8vPBHZtVqt61Tf9iHDDTukqekIv5d6yw=s64",
      "userId": "12690098908040894903"
     },
     "user_tz": -180
    },
    "id": "qEW7KRBdrrMC",
    "outputId": "e7fbc6c2-f392-49f5-87a8-b9f9ac9f37d9"
   },
   "outputs": [
    {
     "data": {
      "text/plain": [
       "• Мерил Стрип       13\n",
       "• Кэтрин Хепбёрн    12\n",
       "• Бетт Дейвис       11\n",
       "• Грир Гарсон        7\n",
       "• Джейн Фонда        6\n",
       "Name: actress, dtype: int64"
      ]
     },
     "execution_count": 14,
     "metadata": {
      "tags": []
     },
     "output_type": "execute_result"
    }
   ],
   "source": [
    "table_2['actress'].value_counts().head(5)"
   ]
  },
  {
   "cell_type": "markdown",
   "metadata": {
    "id": "EbM0TgEdYbxe"
   },
   "source": [
    "1. Мерил Стрип чаще всего номинировалась на Оскар.\n",
    "2. Всего на одну отличается количество номинаций самой часто номинировавшейся актрисы и второй по частоте."
   ]
  },
  {
   "cell_type": "markdown",
   "metadata": {
    "id": "H0cii0ci-rTE"
   },
   "source": [
    "## Задача 3\n",
    "\n",
    "Дана страница https://www.worldometers.info/world-population/world-population-by-year/\n",
    "\n",
    "На ней представлены данные о росте численности населения Земли. Используя удобные для вас модули Python (Например requests, bs4 и pandas, но можно и любые другие) сгрузить в удобную для вас структуру данных (например pandas-табличку) необходимые данные и нарисовать графики ежегодного прироста городского населения и ежегодного прироста общего населения, начиная с 1951 года. Если вы сгрузили данные в pandas-dataframe, графики можно построить так:"
   ]
  },
  {
   "cell_type": "code",
   "execution_count": null,
   "metadata": {
    "colab": {
     "base_uri": "https://localhost:8080/"
    },
    "executionInfo": {
     "elapsed": 1038,
     "status": "ok",
     "timestamp": 1616005258366,
     "user": {
      "displayName": "Verschworer",
      "photoUrl": "https://lh3.googleusercontent.com/a-/AOh14GgQbkgItI8vPBHZtVqt61Tf9iHDDTukqekIv5d6yw=s64",
      "userId": "12690098908040894903"
     },
     "user_tz": -180
    },
    "id": "EiQoXvw0obtB",
    "outputId": "fd3a9d23-3bde-4efb-fe94-063acf4aa85e"
   },
   "outputs": [
    {
     "data": {
      "text/plain": [
       "1"
      ]
     },
     "execution_count": 30,
     "metadata": {
      "tags": []
     },
     "output_type": "execute_result"
    }
   ],
   "source": [
    "url_3 = 'https://www.worldometers.info/world-population/world-population-by-year/'\n",
    "r_3 = requests.get(url_3)\n",
    "website = r_3.text\n",
    "\n",
    "tables_3 = pd.read_html(website, encoding=\"UTF-8\")\n",
    "len(tables_3)"
   ]
  },
  {
   "cell_type": "code",
   "execution_count": null,
   "metadata": {
    "colab": {
     "base_uri": "https://localhost:8080/",
     "height": 423
    },
    "executionInfo": {
     "elapsed": 2331,
     "status": "ok",
     "timestamp": 1616005262202,
     "user": {
      "displayName": "Verschworer",
      "photoUrl": "https://lh3.googleusercontent.com/a-/AOh14GgQbkgItI8vPBHZtVqt61Tf9iHDDTukqekIv5d6yw=s64",
      "userId": "12690098908040894903"
     },
     "user_tz": -180
    },
    "id": "xlRuO2wbZCZb",
    "outputId": "42bd73d0-250e-4971-8aa2-338dad4685c2"
   },
   "outputs": [
    {
     "data": {
      "text/html": [
       "<div>\n",
       "<style scoped>\n",
       "    .dataframe tbody tr th:only-of-type {\n",
       "        vertical-align: middle;\n",
       "    }\n",
       "\n",
       "    .dataframe tbody tr th {\n",
       "        vertical-align: top;\n",
       "    }\n",
       "\n",
       "    .dataframe thead th {\n",
       "        text-align: right;\n",
       "    }\n",
       "</style>\n",
       "<table border=\"1\" class=\"dataframe\">\n",
       "  <thead>\n",
       "    <tr style=\"text-align: right;\">\n",
       "      <th></th>\n",
       "      <th>Year</th>\n",
       "      <th>World Population</th>\n",
       "      <th>YearlyChange</th>\n",
       "      <th>NetChange</th>\n",
       "      <th>Density(P/Km²)</th>\n",
       "      <th>UrbanPop</th>\n",
       "      <th>UrbanPop %</th>\n",
       "    </tr>\n",
       "  </thead>\n",
       "  <tbody>\n",
       "    <tr>\n",
       "      <th>0</th>\n",
       "      <td>2020</td>\n",
       "      <td>7794798739</td>\n",
       "      <td>1.05 %</td>\n",
       "      <td>81330639.0</td>\n",
       "      <td>52.0</td>\n",
       "      <td>4.378994e+09</td>\n",
       "      <td>56 %</td>\n",
       "    </tr>\n",
       "    <tr>\n",
       "      <th>1</th>\n",
       "      <td>2019</td>\n",
       "      <td>7713468100</td>\n",
       "      <td>1.08 %</td>\n",
       "      <td>82377060.0</td>\n",
       "      <td>52.0</td>\n",
       "      <td>4.299439e+09</td>\n",
       "      <td>56 %</td>\n",
       "    </tr>\n",
       "    <tr>\n",
       "      <th>2</th>\n",
       "      <td>2018</td>\n",
       "      <td>7631091040</td>\n",
       "      <td>1.10 %</td>\n",
       "      <td>83232115.0</td>\n",
       "      <td>51.0</td>\n",
       "      <td>4.219817e+09</td>\n",
       "      <td>55 %</td>\n",
       "    </tr>\n",
       "    <tr>\n",
       "      <th>3</th>\n",
       "      <td>2017</td>\n",
       "      <td>7547858925</td>\n",
       "      <td>1.12 %</td>\n",
       "      <td>83836876.0</td>\n",
       "      <td>51.0</td>\n",
       "      <td>4.140189e+09</td>\n",
       "      <td>55 %</td>\n",
       "    </tr>\n",
       "    <tr>\n",
       "      <th>4</th>\n",
       "      <td>2016</td>\n",
       "      <td>7464022049</td>\n",
       "      <td>1.14 %</td>\n",
       "      <td>84224910.0</td>\n",
       "      <td>50.0</td>\n",
       "      <td>4.060653e+09</td>\n",
       "      <td>54 %</td>\n",
       "    </tr>\n",
       "    <tr>\n",
       "      <th>...</th>\n",
       "      <td>...</td>\n",
       "      <td>...</td>\n",
       "      <td>...</td>\n",
       "      <td>...</td>\n",
       "      <td>...</td>\n",
       "      <td>...</td>\n",
       "      <td>...</td>\n",
       "    </tr>\n",
       "    <tr>\n",
       "      <th>89</th>\n",
       "      <td>-1000</td>\n",
       "      <td>50000000</td>\n",
       "      <td>NaN</td>\n",
       "      <td>NaN</td>\n",
       "      <td>NaN</td>\n",
       "      <td>NaN</td>\n",
       "      <td>NaN</td>\n",
       "    </tr>\n",
       "    <tr>\n",
       "      <th>90</th>\n",
       "      <td>-2000</td>\n",
       "      <td>27000000</td>\n",
       "      <td>NaN</td>\n",
       "      <td>NaN</td>\n",
       "      <td>NaN</td>\n",
       "      <td>NaN</td>\n",
       "      <td>NaN</td>\n",
       "    </tr>\n",
       "    <tr>\n",
       "      <th>91</th>\n",
       "      <td>-3000</td>\n",
       "      <td>14000000</td>\n",
       "      <td>NaN</td>\n",
       "      <td>NaN</td>\n",
       "      <td>NaN</td>\n",
       "      <td>NaN</td>\n",
       "      <td>NaN</td>\n",
       "    </tr>\n",
       "    <tr>\n",
       "      <th>92</th>\n",
       "      <td>-4000</td>\n",
       "      <td>7000000</td>\n",
       "      <td>NaN</td>\n",
       "      <td>NaN</td>\n",
       "      <td>NaN</td>\n",
       "      <td>NaN</td>\n",
       "      <td>NaN</td>\n",
       "    </tr>\n",
       "    <tr>\n",
       "      <th>93</th>\n",
       "      <td>-5000</td>\n",
       "      <td>5000000</td>\n",
       "      <td>NaN</td>\n",
       "      <td>NaN</td>\n",
       "      <td>NaN</td>\n",
       "      <td>NaN</td>\n",
       "      <td>NaN</td>\n",
       "    </tr>\n",
       "  </tbody>\n",
       "</table>\n",
       "<p>94 rows × 7 columns</p>\n",
       "</div>"
      ],
      "text/plain": [
       "    Year  World Population  ...      UrbanPop  UrbanPop %\n",
       "0   2020        7794798739  ...  4.378994e+09        56 %\n",
       "1   2019        7713468100  ...  4.299439e+09        56 %\n",
       "2   2018        7631091040  ...  4.219817e+09        55 %\n",
       "3   2017        7547858925  ...  4.140189e+09        55 %\n",
       "4   2016        7464022049  ...  4.060653e+09        54 %\n",
       "..   ...               ...  ...           ...         ...\n",
       "89 -1000          50000000  ...           NaN         NaN\n",
       "90 -2000          27000000  ...           NaN         NaN\n",
       "91 -3000          14000000  ...           NaN         NaN\n",
       "92 -4000           7000000  ...           NaN         NaN\n",
       "93 -5000           5000000  ...           NaN         NaN\n",
       "\n",
       "[94 rows x 7 columns]"
      ]
     },
     "execution_count": 31,
     "metadata": {
      "tags": []
     },
     "output_type": "execute_result"
    }
   ],
   "source": [
    "df = tables_3[0]\n",
    "df"
   ]
  },
  {
   "cell_type": "code",
   "execution_count": null,
   "metadata": {
    "colab": {
     "base_uri": "https://localhost:8080/",
     "height": 423
    },
    "executionInfo": {
     "elapsed": 784,
     "status": "ok",
     "timestamp": 1616005280798,
     "user": {
      "displayName": "Verschworer",
      "photoUrl": "https://lh3.googleusercontent.com/a-/AOh14GgQbkgItI8vPBHZtVqt61Tf9iHDDTukqekIv5d6yw=s64",
      "userId": "12690098908040894903"
     },
     "user_tz": -180
    },
    "id": "ti4w21lFyYjd",
    "outputId": "25d00228-4acf-4014-e5c2-5ade91c5da96"
   },
   "outputs": [
    {
     "data": {
      "text/html": [
       "<div>\n",
       "<style scoped>\n",
       "    .dataframe tbody tr th:only-of-type {\n",
       "        vertical-align: middle;\n",
       "    }\n",
       "\n",
       "    .dataframe tbody tr th {\n",
       "        vertical-align: top;\n",
       "    }\n",
       "\n",
       "    .dataframe thead th {\n",
       "        text-align: right;\n",
       "    }\n",
       "</style>\n",
       "<table border=\"1\" class=\"dataframe\">\n",
       "  <thead>\n",
       "    <tr style=\"text-align: right;\">\n",
       "      <th></th>\n",
       "      <th>Year</th>\n",
       "      <th>World Population</th>\n",
       "      <th>YearlyChange</th>\n",
       "      <th>NetChange</th>\n",
       "      <th>Density(P/Km²)</th>\n",
       "      <th>UrbanPop</th>\n",
       "      <th>UrbanPop %</th>\n",
       "      <th>Change</th>\n",
       "    </tr>\n",
       "  </thead>\n",
       "  <tbody>\n",
       "    <tr>\n",
       "      <th>0</th>\n",
       "      <td>2020</td>\n",
       "      <td>7794798739</td>\n",
       "      <td>1.05 %</td>\n",
       "      <td>81330639.0</td>\n",
       "      <td>52.0</td>\n",
       "      <td>4.378994e+09</td>\n",
       "      <td>56 %</td>\n",
       "      <td>1.05</td>\n",
       "    </tr>\n",
       "    <tr>\n",
       "      <th>1</th>\n",
       "      <td>2019</td>\n",
       "      <td>7713468100</td>\n",
       "      <td>1.08 %</td>\n",
       "      <td>82377060.0</td>\n",
       "      <td>52.0</td>\n",
       "      <td>4.299439e+09</td>\n",
       "      <td>56 %</td>\n",
       "      <td>1.08</td>\n",
       "    </tr>\n",
       "    <tr>\n",
       "      <th>2</th>\n",
       "      <td>2018</td>\n",
       "      <td>7631091040</td>\n",
       "      <td>1.10 %</td>\n",
       "      <td>83232115.0</td>\n",
       "      <td>51.0</td>\n",
       "      <td>4.219817e+09</td>\n",
       "      <td>55 %</td>\n",
       "      <td>1.10</td>\n",
       "    </tr>\n",
       "    <tr>\n",
       "      <th>3</th>\n",
       "      <td>2017</td>\n",
       "      <td>7547858925</td>\n",
       "      <td>1.12 %</td>\n",
       "      <td>83836876.0</td>\n",
       "      <td>51.0</td>\n",
       "      <td>4.140189e+09</td>\n",
       "      <td>55 %</td>\n",
       "      <td>1.12</td>\n",
       "    </tr>\n",
       "    <tr>\n",
       "      <th>4</th>\n",
       "      <td>2016</td>\n",
       "      <td>7464022049</td>\n",
       "      <td>1.14 %</td>\n",
       "      <td>84224910.0</td>\n",
       "      <td>50.0</td>\n",
       "      <td>4.060653e+09</td>\n",
       "      <td>54 %</td>\n",
       "      <td>1.14</td>\n",
       "    </tr>\n",
       "    <tr>\n",
       "      <th>...</th>\n",
       "      <td>...</td>\n",
       "      <td>...</td>\n",
       "      <td>...</td>\n",
       "      <td>...</td>\n",
       "      <td>...</td>\n",
       "      <td>...</td>\n",
       "      <td>...</td>\n",
       "      <td>...</td>\n",
       "    </tr>\n",
       "    <tr>\n",
       "      <th>65</th>\n",
       "      <td>1955</td>\n",
       "      <td>2773019936</td>\n",
       "      <td>1.77 %</td>\n",
       "      <td>48173195.0</td>\n",
       "      <td>19.0</td>\n",
       "      <td>8.770088e+08</td>\n",
       "      <td>32 %</td>\n",
       "      <td>1.77</td>\n",
       "    </tr>\n",
       "    <tr>\n",
       "      <th>66</th>\n",
       "      <td>1954</td>\n",
       "      <td>2724846741</td>\n",
       "      <td>1.76 %</td>\n",
       "      <td>47237781.0</td>\n",
       "      <td>18.0</td>\n",
       "      <td>8.501791e+08</td>\n",
       "      <td>31 %</td>\n",
       "      <td>1.76</td>\n",
       "    </tr>\n",
       "    <tr>\n",
       "      <th>67</th>\n",
       "      <td>1953</td>\n",
       "      <td>2677608960</td>\n",
       "      <td>1.78 %</td>\n",
       "      <td>46747398.0</td>\n",
       "      <td>18.0</td>\n",
       "      <td>8.242900e+08</td>\n",
       "      <td>31 %</td>\n",
       "      <td>1.78</td>\n",
       "    </tr>\n",
       "    <tr>\n",
       "      <th>68</th>\n",
       "      <td>1952</td>\n",
       "      <td>2630861562</td>\n",
       "      <td>1.81 %</td>\n",
       "      <td>46827301.0</td>\n",
       "      <td>18.0</td>\n",
       "      <td>7.992825e+08</td>\n",
       "      <td>30 %</td>\n",
       "      <td>1.81</td>\n",
       "    </tr>\n",
       "    <tr>\n",
       "      <th>69</th>\n",
       "      <td>1951</td>\n",
       "      <td>2584034261</td>\n",
       "      <td>1.88 %</td>\n",
       "      <td>47603112.0</td>\n",
       "      <td>17.0</td>\n",
       "      <td>7.750677e+08</td>\n",
       "      <td>30 %</td>\n",
       "      <td>1.88</td>\n",
       "    </tr>\n",
       "  </tbody>\n",
       "</table>\n",
       "<p>70 rows × 8 columns</p>\n",
       "</div>"
      ],
      "text/plain": [
       "    Year  World Population YearlyChange  ...      UrbanPop  UrbanPop %  Change\n",
       "0   2020        7794798739       1.05 %  ...  4.378994e+09        56 %    1.05\n",
       "1   2019        7713468100       1.08 %  ...  4.299439e+09        56 %    1.08\n",
       "2   2018        7631091040       1.10 %  ...  4.219817e+09        55 %    1.10\n",
       "3   2017        7547858925       1.12 %  ...  4.140189e+09        55 %    1.12\n",
       "4   2016        7464022049       1.14 %  ...  4.060653e+09        54 %    1.14\n",
       "..   ...               ...          ...  ...           ...         ...     ...\n",
       "65  1955        2773019936       1.77 %  ...  8.770088e+08        32 %    1.77\n",
       "66  1954        2724846741       1.76 %  ...  8.501791e+08        31 %    1.76\n",
       "67  1953        2677608960       1.78 %  ...  8.242900e+08        31 %    1.78\n",
       "68  1952        2630861562       1.81 %  ...  7.992825e+08        30 %    1.81\n",
       "69  1951        2584034261       1.88 %  ...  7.750677e+08        30 %    1.88\n",
       "\n",
       "[70 rows x 8 columns]"
      ]
     },
     "execution_count": 32,
     "metadata": {
      "tags": []
     },
     "output_type": "execute_result"
    }
   ],
   "source": [
    "\n",
    "\n",
    "df.dropna(inplace=True)\n",
    "import re\n",
    "search = []    \n",
    "for values in df['YearlyChange']:\n",
    "    search.append(re.search(r'\\d\\.\\d+', values).group())\n",
    "\n",
    "df['Change'] = search\n",
    "df"
   ]
  },
  {
   "cell_type": "code",
   "execution_count": null,
   "metadata": {
    "colab": {
     "base_uri": "https://localhost:8080/",
     "height": 206
    },
    "executionInfo": {
     "elapsed": 817,
     "status": "ok",
     "timestamp": 1615654342193,
     "user": {
      "displayName": "",
      "photoUrl": "",
      "userId": ""
     },
     "user_tz": -180
    },
    "id": "P73w5izY-rTE",
    "outputId": "b5657de7-f1fc-4c37-82b0-8cb1231d6eb8"
   },
   "outputs": [
    {
     "data": {
      "text/html": [
       "<div>\n",
       "<style scoped>\n",
       "    .dataframe tbody tr th:only-of-type {\n",
       "        vertical-align: middle;\n",
       "    }\n",
       "\n",
       "    .dataframe tbody tr th {\n",
       "        vertical-align: top;\n",
       "    }\n",
       "\n",
       "    .dataframe thead th {\n",
       "        text-align: right;\n",
       "    }\n",
       "</style>\n",
       "<table border=\"1\" class=\"dataframe\">\n",
       "  <thead>\n",
       "    <tr style=\"text-align: right;\">\n",
       "      <th></th>\n",
       "      <th>dt</th>\n",
       "      <th>value</th>\n",
       "    </tr>\n",
       "  </thead>\n",
       "  <tbody>\n",
       "    <tr>\n",
       "      <th>0</th>\n",
       "      <td>2020-01-01</td>\n",
       "      <td>1233</td>\n",
       "    </tr>\n",
       "    <tr>\n",
       "      <th>1</th>\n",
       "      <td>2020-02-01</td>\n",
       "      <td>23142</td>\n",
       "    </tr>\n",
       "    <tr>\n",
       "      <th>2</th>\n",
       "      <td>2020-03-01</td>\n",
       "      <td>11445</td>\n",
       "    </tr>\n",
       "    <tr>\n",
       "      <th>3</th>\n",
       "      <td>2020-04-01</td>\n",
       "      <td>32555</td>\n",
       "    </tr>\n",
       "    <tr>\n",
       "      <th>4</th>\n",
       "      <td>2020-05-01</td>\n",
       "      <td>22234</td>\n",
       "    </tr>\n",
       "  </tbody>\n",
       "</table>\n",
       "</div>"
      ],
      "text/plain": [
       "           dt  value\n",
       "0  2020-01-01   1233\n",
       "1  2020-02-01  23142\n",
       "2  2020-03-01  11445\n",
       "3  2020-04-01  32555\n",
       "4  2020-05-01  22234"
      ]
     },
     "execution_count": 9,
     "metadata": {
      "tags": []
     },
     "output_type": "execute_result"
    }
   ],
   "source": [
    "# import pandas as pd\n",
    "# data = {'dt':['2020-01-01','2020-02-01','2020-03-01','2020-04-01','2020-05-01'],\n",
    "# 'value':[1233, 23142,11445,32555,22234]}\n",
    "# df = pd.DataFrame(data)\n",
    "# df"
   ]
  },
  {
   "cell_type": "code",
   "execution_count": null,
   "metadata": {
    "colab": {
     "base_uri": "https://localhost:8080/",
     "height": 290
    },
    "executionInfo": {
     "elapsed": 744,
     "status": "ok",
     "timestamp": 1615929525182,
     "user": {
      "displayName": "Verschworer",
      "photoUrl": "https://lh3.googleusercontent.com/a-/AOh14GgQbkgItI8vPBHZtVqt61Tf9iHDDTukqekIv5d6yw=s64",
      "userId": "12690098908040894903"
     },
     "user_tz": -180
    },
    "id": "uY9H4wrA-rTG",
    "outputId": "a16451a1-3a22-4c8b-d525-1b1c364daef4"
   },
   "outputs": [
    {
     "data": {
      "image/png": "[encoded data removed]",
      "text/plain": [
       "<Figure size 432x288 with 1 Axes>"
      ]
     },
     "metadata": {
      "needs_background": "light",
      "tags": []
     },
     "output_type": "display_data"
    }
   ],
   "source": [
    "p = df.plot(x='Year', y='World Population')"
   ]
  },
  {
   "cell_type": "code",
   "execution_count": null,
   "metadata": {
    "id": "QxplW5Io-rTH"
   },
   "outputs": [],
   "source": []
  }
 ],
 "metadata": {
  "colab": {
   "collapsed_sections": [],
   "name": "Копия блокнота \"zubkov_hw4.ipynb\"",
   "provenance": [
    {
     "file_id": "1S4EUbAHT7dXYpB_UVoYlk0zl8xVYGstE",
     "timestamp": 1616007088407
    },
    {
     "file_id": "https://github.com/pileyan/DPO_Python_2021/blob/main/Homework/hw4.ipynb",
     "timestamp": 1615839398745
    }
   ]
  },
  "kernelspec": {
   "display_name": "Python 3",
   "language": "python",
   "name": "python3"
  },
  "language_info": {
   "codemirror_mode": {
    "name": "ipython",
    "version": 3
   },
   "file_extension": ".py",
   "mimetype": "text/x-python",
   "name": "python",
   "nbconvert_exporter": "python",
   "pygments_lexer": "ipython3",
   "version": "3.8.3"
  },
  "toc": {
   "base_numbering": 1,
   "nav_menu": {},
   "number_sections": true,
   "sideBar": true,
   "skip_h1_title": false,
   "title_cell": "Table of Contents",
   "title_sidebar": "Contents",
   "toc_cell": false,
   "toc_position": {},
   "toc_section_display": true,
   "toc_window_display": false
  },
  "varInspector": {
   "cols": {
    "lenName": 16,
    "lenType": 16,
    "lenVar": 40
   },
   "kernels_config": {
    "python": {
     "delete_cmd_postfix": "",
     "delete_cmd_prefix": "del ",
     "library": "var_list.py",
     "varRefreshCmd": "print(var_dic_list())"
    },
    "r": {
     "delete_cmd_postfix": ") ",
     "delete_cmd_prefix": "rm(",
     "library": "var_list.r",
     "varRefreshCmd": "cat(var_dic_list()) "
    }
   },
   "types_to_exclude": [
    "module",
    "function",
    "builtin_function_or_method",
    "instance",
    "_Feature"
   ],
   "window_display": false
  }
 },
 "nbformat": 4,
 "nbformat_minor": 1
}
